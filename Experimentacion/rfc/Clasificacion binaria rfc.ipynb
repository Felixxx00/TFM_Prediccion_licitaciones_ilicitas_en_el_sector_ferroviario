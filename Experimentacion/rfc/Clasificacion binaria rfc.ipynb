{
 "cells": [
  {
   "cell_type": "code",
   "execution_count": 1,
   "id": "0d3f2278",
   "metadata": {},
   "outputs": [],
   "source": [
    "import time\n",
    "inicio = time.time()"
   ]
  },
  {
   "cell_type": "code",
   "execution_count": 2,
   "id": "93625c5a",
   "metadata": {},
   "outputs": [],
   "source": [
    "import os\n",
    "import pandas as pd\n",
    "import numpy as np\n",
    "import matplotlib.pyplot as plt\n",
    "\n",
    "from sklearn.preprocessing import OneHotEncoder\n",
    "from sklearn.preprocessing import StandardScaler\n",
    "\n",
    "from sklearn.model_selection import LeaveOneOut\n",
    "\n",
    "from sklearn.ensemble import RandomForestClassifier\n",
    "\n",
    "from sklearn.metrics import confusion_matrix\n",
    "from sklearn.metrics import roc_auc_score\n",
    "from sklearn.metrics import roc_curve\n",
    "from sklearn.metrics import average_precision_score\n",
    "from sklearn.metrics import precision_recall_curve"
   ]
  },
  {
   "cell_type": "markdown",
   "id": "0c9e6fdb",
   "metadata": {},
   "source": [
    "# Se importan los datos"
   ]
  },
  {
   "cell_type": "code",
   "execution_count": 3,
   "id": "4fbba252",
   "metadata": {},
   "outputs": [],
   "source": [
    "df = pd.read_excel(\"..//Base_datos_Clasificacion binaria.xlsx\", index_col = 0)"
   ]
  },
  {
   "cell_type": "code",
   "execution_count": 4,
   "id": "6702f0ab",
   "metadata": {},
   "outputs": [
    {
     "data": {
      "text/html": [
       "<div>\n",
       "<style scoped>\n",
       "    .dataframe tbody tr th:only-of-type {\n",
       "        vertical-align: middle;\n",
       "    }\n",
       "\n",
       "    .dataframe tbody tr th {\n",
       "        vertical-align: top;\n",
       "    }\n",
       "\n",
       "    .dataframe thead th {\n",
       "        text-align: right;\n",
       "    }\n",
       "</style>\n",
       "<table border=\"1\" class=\"dataframe\">\n",
       "  <thead>\n",
       "    <tr style=\"text-align: right;\">\n",
       "      <th></th>\n",
       "      <th>Licitacion reparto</th>\n",
       "      <th>Importe presupuestado</th>\n",
       "      <th>Importe adjudicado</th>\n",
       "      <th>MP</th>\n",
       "      <th>Empresa sancionada</th>\n",
       "      <th>UTE</th>\n",
       "    </tr>\n",
       "  </thead>\n",
       "  <tbody>\n",
       "    <tr>\n",
       "      <th>0</th>\n",
       "      <td>0</td>\n",
       "      <td>1738093.21</td>\n",
       "      <td>1484428.72</td>\n",
       "      <td>6</td>\n",
       "      <td>1</td>\n",
       "      <td>0</td>\n",
       "    </tr>\n",
       "    <tr>\n",
       "      <th>1</th>\n",
       "      <td>0</td>\n",
       "      <td>469670.24</td>\n",
       "      <td>272492.00</td>\n",
       "      <td>4</td>\n",
       "      <td>0</td>\n",
       "      <td>0</td>\n",
       "    </tr>\n",
       "    <tr>\n",
       "      <th>2</th>\n",
       "      <td>0</td>\n",
       "      <td>1025088.19</td>\n",
       "      <td>707310.85</td>\n",
       "      <td>1</td>\n",
       "      <td>0</td>\n",
       "      <td>0</td>\n",
       "    </tr>\n",
       "    <tr>\n",
       "      <th>3</th>\n",
       "      <td>0</td>\n",
       "      <td>999890.00</td>\n",
       "      <td>497621.36</td>\n",
       "      <td>6</td>\n",
       "      <td>0</td>\n",
       "      <td>0</td>\n",
       "    </tr>\n",
       "    <tr>\n",
       "      <th>4</th>\n",
       "      <td>0</td>\n",
       "      <td>72598.27</td>\n",
       "      <td>47508.92</td>\n",
       "      <td>1</td>\n",
       "      <td>1</td>\n",
       "      <td>0</td>\n",
       "    </tr>\n",
       "    <tr>\n",
       "      <th>...</th>\n",
       "      <td>...</td>\n",
       "      <td>...</td>\n",
       "      <td>...</td>\n",
       "      <td>...</td>\n",
       "      <td>...</td>\n",
       "      <td>...</td>\n",
       "    </tr>\n",
       "    <tr>\n",
       "      <th>2211</th>\n",
       "      <td>1</td>\n",
       "      <td>5542028.88</td>\n",
       "      <td>5514320.00</td>\n",
       "      <td>6</td>\n",
       "      <td>1</td>\n",
       "      <td>0</td>\n",
       "    </tr>\n",
       "    <tr>\n",
       "      <th>2212</th>\n",
       "      <td>1</td>\n",
       "      <td>6095782.00</td>\n",
       "      <td>5100555.00</td>\n",
       "      <td>6</td>\n",
       "      <td>1</td>\n",
       "      <td>0</td>\n",
       "    </tr>\n",
       "    <tr>\n",
       "      <th>2213</th>\n",
       "      <td>1</td>\n",
       "      <td>3752906.00</td>\n",
       "      <td>3744400.00</td>\n",
       "      <td>6</td>\n",
       "      <td>1</td>\n",
       "      <td>0</td>\n",
       "    </tr>\n",
       "    <tr>\n",
       "      <th>2214</th>\n",
       "      <td>1</td>\n",
       "      <td>23896564.00</td>\n",
       "      <td>19547338.00</td>\n",
       "      <td>6</td>\n",
       "      <td>0</td>\n",
       "      <td>1</td>\n",
       "    </tr>\n",
       "    <tr>\n",
       "      <th>2215</th>\n",
       "      <td>1</td>\n",
       "      <td>33415098.00</td>\n",
       "      <td>33349532.00</td>\n",
       "      <td>6</td>\n",
       "      <td>1</td>\n",
       "      <td>0</td>\n",
       "    </tr>\n",
       "  </tbody>\n",
       "</table>\n",
       "<p>2216 rows × 6 columns</p>\n",
       "</div>"
      ],
      "text/plain": [
       "      Licitacion reparto  Importe presupuestado  Importe adjudicado  MP  \\\n",
       "0                      0             1738093.21          1484428.72   6   \n",
       "1                      0              469670.24           272492.00   4   \n",
       "2                      0             1025088.19           707310.85   1   \n",
       "3                      0              999890.00           497621.36   6   \n",
       "4                      0               72598.27            47508.92   1   \n",
       "...                  ...                    ...                 ...  ..   \n",
       "2211                   1             5542028.88          5514320.00   6   \n",
       "2212                   1             6095782.00          5100555.00   6   \n",
       "2213                   1             3752906.00          3744400.00   6   \n",
       "2214                   1            23896564.00         19547338.00   6   \n",
       "2215                   1            33415098.00         33349532.00   6   \n",
       "\n",
       "      Empresa sancionada  UTE  \n",
       "0                      1    0  \n",
       "1                      0    0  \n",
       "2                      0    0  \n",
       "3                      0    0  \n",
       "4                      1    0  \n",
       "...                  ...  ...  \n",
       "2211                   1    0  \n",
       "2212                   1    0  \n",
       "2213                   1    0  \n",
       "2214                   0    1  \n",
       "2215                   1    0  \n",
       "\n",
       "[2216 rows x 6 columns]"
      ]
     },
     "execution_count": 4,
     "metadata": {},
     "output_type": "execute_result"
    }
   ],
   "source": [
    "df"
   ]
  },
  {
   "cell_type": "markdown",
   "id": "1421a9bf",
   "metadata": {},
   "source": [
    "# Se estandarizan y normalizan los predictores numericos"
   ]
  },
  {
   "cell_type": "code",
   "execution_count": 5,
   "id": "0f2eecb7",
   "metadata": {},
   "outputs": [],
   "source": [
    "predictores_numericos = df[[\"Importe presupuestado\", \"Importe adjudicado\"]]"
   ]
  },
  {
   "cell_type": "code",
   "execution_count": 6,
   "id": "1e22631a",
   "metadata": {},
   "outputs": [],
   "source": [
    "scaler = StandardScaler()\n",
    "stand = scaler.fit_transform(predictores_numericos)"
   ]
  },
  {
   "cell_type": "code",
   "execution_count": 7,
   "id": "c6a2b1a1",
   "metadata": {},
   "outputs": [
    {
     "data": {
      "text/html": [
       "<div>\n",
       "<style scoped>\n",
       "    .dataframe tbody tr th:only-of-type {\n",
       "        vertical-align: middle;\n",
       "    }\n",
       "\n",
       "    .dataframe tbody tr th {\n",
       "        vertical-align: top;\n",
       "    }\n",
       "\n",
       "    .dataframe thead th {\n",
       "        text-align: right;\n",
       "    }\n",
       "</style>\n",
       "<table border=\"1\" class=\"dataframe\">\n",
       "  <thead>\n",
       "    <tr style=\"text-align: right;\">\n",
       "      <th></th>\n",
       "      <th>Importe presupuestado</th>\n",
       "      <th>Importe adjudicado</th>\n",
       "    </tr>\n",
       "  </thead>\n",
       "  <tbody>\n",
       "    <tr>\n",
       "      <th>0</th>\n",
       "      <td>-0.205390</td>\n",
       "      <td>-0.212546</td>\n",
       "    </tr>\n",
       "    <tr>\n",
       "      <th>1</th>\n",
       "      <td>-0.237976</td>\n",
       "      <td>-0.248383</td>\n",
       "    </tr>\n",
       "    <tr>\n",
       "      <th>2</th>\n",
       "      <td>-0.223707</td>\n",
       "      <td>-0.235525</td>\n",
       "    </tr>\n",
       "    <tr>\n",
       "      <th>3</th>\n",
       "      <td>-0.224354</td>\n",
       "      <td>-0.241726</td>\n",
       "    </tr>\n",
       "    <tr>\n",
       "      <th>4</th>\n",
       "      <td>-0.248176</td>\n",
       "      <td>-0.255036</td>\n",
       "    </tr>\n",
       "    <tr>\n",
       "      <th>...</th>\n",
       "      <td>...</td>\n",
       "      <td>...</td>\n",
       "    </tr>\n",
       "    <tr>\n",
       "      <th>2211</th>\n",
       "      <td>-0.107667</td>\n",
       "      <td>-0.093383</td>\n",
       "    </tr>\n",
       "    <tr>\n",
       "      <th>2212</th>\n",
       "      <td>-0.093441</td>\n",
       "      <td>-0.105618</td>\n",
       "    </tr>\n",
       "    <tr>\n",
       "      <th>2213</th>\n",
       "      <td>-0.153630</td>\n",
       "      <td>-0.145719</td>\n",
       "    </tr>\n",
       "    <tr>\n",
       "      <th>2214</th>\n",
       "      <td>0.363860</td>\n",
       "      <td>0.321573</td>\n",
       "    </tr>\n",
       "    <tr>\n",
       "      <th>2215</th>\n",
       "      <td>0.608391</td>\n",
       "      <td>0.729702</td>\n",
       "    </tr>\n",
       "  </tbody>\n",
       "</table>\n",
       "<p>2216 rows × 2 columns</p>\n",
       "</div>"
      ],
      "text/plain": [
       "      Importe presupuestado  Importe adjudicado\n",
       "0                 -0.205390           -0.212546\n",
       "1                 -0.237976           -0.248383\n",
       "2                 -0.223707           -0.235525\n",
       "3                 -0.224354           -0.241726\n",
       "4                 -0.248176           -0.255036\n",
       "...                     ...                 ...\n",
       "2211              -0.107667           -0.093383\n",
       "2212              -0.093441           -0.105618\n",
       "2213              -0.153630           -0.145719\n",
       "2214               0.363860            0.321573\n",
       "2215               0.608391            0.729702\n",
       "\n",
       "[2216 rows x 2 columns]"
      ]
     },
     "execution_count": 7,
     "metadata": {},
     "output_type": "execute_result"
    }
   ],
   "source": [
    "df[[\"Importe presupuestado\", \"Importe adjudicado\"]] = stand\n",
    "predictores_numericos = df[[\"Importe presupuestado\", \"Importe adjudicado\"]]\n",
    "predictores_numericos"
   ]
  },
  {
   "cell_type": "code",
   "execution_count": 8,
   "id": "18edcff2",
   "metadata": {},
   "outputs": [],
   "source": [
    "norm = (predictores_numericos - predictores_numericos.min()) / (predictores_numericos.max() - predictores_numericos.min())"
   ]
  },
  {
   "cell_type": "code",
   "execution_count": 9,
   "id": "4afbe1cb",
   "metadata": {
    "scrolled": false
   },
   "outputs": [
    {
     "data": {
      "text/html": [
       "<div>\n",
       "<style scoped>\n",
       "    .dataframe tbody tr th:only-of-type {\n",
       "        vertical-align: middle;\n",
       "    }\n",
       "\n",
       "    .dataframe tbody tr th {\n",
       "        vertical-align: top;\n",
       "    }\n",
       "\n",
       "    .dataframe thead th {\n",
       "        text-align: right;\n",
       "    }\n",
       "</style>\n",
       "<table border=\"1\" class=\"dataframe\">\n",
       "  <thead>\n",
       "    <tr style=\"text-align: right;\">\n",
       "      <th></th>\n",
       "      <th>Importe presupuestado</th>\n",
       "      <th>Importe adjudicado</th>\n",
       "    </tr>\n",
       "  </thead>\n",
       "  <tbody>\n",
       "    <tr>\n",
       "      <th>0</th>\n",
       "      <td>0.002679</td>\n",
       "      <td>0.002861</td>\n",
       "    </tr>\n",
       "    <tr>\n",
       "      <th>1</th>\n",
       "      <td>0.000699</td>\n",
       "      <td>0.000494</td>\n",
       "    </tr>\n",
       "    <tr>\n",
       "      <th>2</th>\n",
       "      <td>0.001566</td>\n",
       "      <td>0.001343</td>\n",
       "    </tr>\n",
       "    <tr>\n",
       "      <th>3</th>\n",
       "      <td>0.001526</td>\n",
       "      <td>0.000934</td>\n",
       "    </tr>\n",
       "    <tr>\n",
       "      <th>4</th>\n",
       "      <td>0.000079</td>\n",
       "      <td>0.000054</td>\n",
       "    </tr>\n",
       "    <tr>\n",
       "      <th>...</th>\n",
       "      <td>...</td>\n",
       "      <td>...</td>\n",
       "    </tr>\n",
       "    <tr>\n",
       "      <th>2211</th>\n",
       "      <td>0.008615</td>\n",
       "      <td>0.010734</td>\n",
       "    </tr>\n",
       "    <tr>\n",
       "      <th>2212</th>\n",
       "      <td>0.009479</td>\n",
       "      <td>0.009925</td>\n",
       "    </tr>\n",
       "    <tr>\n",
       "      <th>2213</th>\n",
       "      <td>0.005823</td>\n",
       "      <td>0.007276</td>\n",
       "    </tr>\n",
       "    <tr>\n",
       "      <th>2214</th>\n",
       "      <td>0.037259</td>\n",
       "      <td>0.038147</td>\n",
       "    </tr>\n",
       "    <tr>\n",
       "      <th>2215</th>\n",
       "      <td>0.052114</td>\n",
       "      <td>0.065109</td>\n",
       "    </tr>\n",
       "  </tbody>\n",
       "</table>\n",
       "<p>2216 rows × 2 columns</p>\n",
       "</div>"
      ],
      "text/plain": [
       "      Importe presupuestado  Importe adjudicado\n",
       "0                  0.002679            0.002861\n",
       "1                  0.000699            0.000494\n",
       "2                  0.001566            0.001343\n",
       "3                  0.001526            0.000934\n",
       "4                  0.000079            0.000054\n",
       "...                     ...                 ...\n",
       "2211               0.008615            0.010734\n",
       "2212               0.009479            0.009925\n",
       "2213               0.005823            0.007276\n",
       "2214               0.037259            0.038147\n",
       "2215               0.052114            0.065109\n",
       "\n",
       "[2216 rows x 2 columns]"
      ]
     },
     "execution_count": 9,
     "metadata": {},
     "output_type": "execute_result"
    }
   ],
   "source": [
    "df[[\"Importe presupuestado\", \"Importe adjudicado\"]] = norm\n",
    "predictores_numericos = df[[\"Importe presupuestado\", \"Importe adjudicado\"]]\n",
    "predictores_numericos"
   ]
  },
  {
   "cell_type": "code",
   "execution_count": 10,
   "id": "cc156033",
   "metadata": {
    "scrolled": false
   },
   "outputs": [
    {
     "data": {
      "text/html": [
       "<div>\n",
       "<style scoped>\n",
       "    .dataframe tbody tr th:only-of-type {\n",
       "        vertical-align: middle;\n",
       "    }\n",
       "\n",
       "    .dataframe tbody tr th {\n",
       "        vertical-align: top;\n",
       "    }\n",
       "\n",
       "    .dataframe thead th {\n",
       "        text-align: right;\n",
       "    }\n",
       "</style>\n",
       "<table border=\"1\" class=\"dataframe\">\n",
       "  <thead>\n",
       "    <tr style=\"text-align: right;\">\n",
       "      <th></th>\n",
       "      <th>Licitacion reparto</th>\n",
       "      <th>Importe presupuestado</th>\n",
       "      <th>Importe adjudicado</th>\n",
       "      <th>MP</th>\n",
       "      <th>Empresa sancionada</th>\n",
       "      <th>UTE</th>\n",
       "    </tr>\n",
       "  </thead>\n",
       "  <tbody>\n",
       "    <tr>\n",
       "      <th>0</th>\n",
       "      <td>0</td>\n",
       "      <td>0.002679</td>\n",
       "      <td>0.002861</td>\n",
       "      <td>6</td>\n",
       "      <td>1</td>\n",
       "      <td>0</td>\n",
       "    </tr>\n",
       "    <tr>\n",
       "      <th>1</th>\n",
       "      <td>0</td>\n",
       "      <td>0.000699</td>\n",
       "      <td>0.000494</td>\n",
       "      <td>4</td>\n",
       "      <td>0</td>\n",
       "      <td>0</td>\n",
       "    </tr>\n",
       "    <tr>\n",
       "      <th>2</th>\n",
       "      <td>0</td>\n",
       "      <td>0.001566</td>\n",
       "      <td>0.001343</td>\n",
       "      <td>1</td>\n",
       "      <td>0</td>\n",
       "      <td>0</td>\n",
       "    </tr>\n",
       "    <tr>\n",
       "      <th>3</th>\n",
       "      <td>0</td>\n",
       "      <td>0.001526</td>\n",
       "      <td>0.000934</td>\n",
       "      <td>6</td>\n",
       "      <td>0</td>\n",
       "      <td>0</td>\n",
       "    </tr>\n",
       "    <tr>\n",
       "      <th>4</th>\n",
       "      <td>0</td>\n",
       "      <td>0.000079</td>\n",
       "      <td>0.000054</td>\n",
       "      <td>1</td>\n",
       "      <td>1</td>\n",
       "      <td>0</td>\n",
       "    </tr>\n",
       "    <tr>\n",
       "      <th>...</th>\n",
       "      <td>...</td>\n",
       "      <td>...</td>\n",
       "      <td>...</td>\n",
       "      <td>...</td>\n",
       "      <td>...</td>\n",
       "      <td>...</td>\n",
       "    </tr>\n",
       "    <tr>\n",
       "      <th>2211</th>\n",
       "      <td>1</td>\n",
       "      <td>0.008615</td>\n",
       "      <td>0.010734</td>\n",
       "      <td>6</td>\n",
       "      <td>1</td>\n",
       "      <td>0</td>\n",
       "    </tr>\n",
       "    <tr>\n",
       "      <th>2212</th>\n",
       "      <td>1</td>\n",
       "      <td>0.009479</td>\n",
       "      <td>0.009925</td>\n",
       "      <td>6</td>\n",
       "      <td>1</td>\n",
       "      <td>0</td>\n",
       "    </tr>\n",
       "    <tr>\n",
       "      <th>2213</th>\n",
       "      <td>1</td>\n",
       "      <td>0.005823</td>\n",
       "      <td>0.007276</td>\n",
       "      <td>6</td>\n",
       "      <td>1</td>\n",
       "      <td>0</td>\n",
       "    </tr>\n",
       "    <tr>\n",
       "      <th>2214</th>\n",
       "      <td>1</td>\n",
       "      <td>0.037259</td>\n",
       "      <td>0.038147</td>\n",
       "      <td>6</td>\n",
       "      <td>0</td>\n",
       "      <td>1</td>\n",
       "    </tr>\n",
       "    <tr>\n",
       "      <th>2215</th>\n",
       "      <td>1</td>\n",
       "      <td>0.052114</td>\n",
       "      <td>0.065109</td>\n",
       "      <td>6</td>\n",
       "      <td>1</td>\n",
       "      <td>0</td>\n",
       "    </tr>\n",
       "  </tbody>\n",
       "</table>\n",
       "<p>2216 rows × 6 columns</p>\n",
       "</div>"
      ],
      "text/plain": [
       "      Licitacion reparto  Importe presupuestado  Importe adjudicado  MP  \\\n",
       "0                      0               0.002679            0.002861   6   \n",
       "1                      0               0.000699            0.000494   4   \n",
       "2                      0               0.001566            0.001343   1   \n",
       "3                      0               0.001526            0.000934   6   \n",
       "4                      0               0.000079            0.000054   1   \n",
       "...                  ...                    ...                 ...  ..   \n",
       "2211                   1               0.008615            0.010734   6   \n",
       "2212                   1               0.009479            0.009925   6   \n",
       "2213                   1               0.005823            0.007276   6   \n",
       "2214                   1               0.037259            0.038147   6   \n",
       "2215                   1               0.052114            0.065109   6   \n",
       "\n",
       "      Empresa sancionada  UTE  \n",
       "0                      1    0  \n",
       "1                      0    0  \n",
       "2                      0    0  \n",
       "3                      0    0  \n",
       "4                      1    0  \n",
       "...                  ...  ...  \n",
       "2211                   1    0  \n",
       "2212                   1    0  \n",
       "2213                   1    0  \n",
       "2214                   0    1  \n",
       "2215                   1    0  \n",
       "\n",
       "[2216 rows x 6 columns]"
      ]
     },
     "execution_count": 10,
     "metadata": {},
     "output_type": "execute_result"
    }
   ],
   "source": [
    "df"
   ]
  },
  {
   "cell_type": "markdown",
   "id": "c98b7bd0",
   "metadata": {},
   "source": [
    "# Codificacion OneHotEncoder"
   ]
  },
  {
   "cell_type": "code",
   "execution_count": 11,
   "id": "9fa45ae5",
   "metadata": {},
   "outputs": [],
   "source": [
    "codificador = OneHotEncoder()"
   ]
  },
  {
   "cell_type": "code",
   "execution_count": 12,
   "id": "43ec2250",
   "metadata": {},
   "outputs": [
    {
     "name": "stdout",
     "output_type": "stream",
     "text": [
      "<class 'pandas.core.frame.DataFrame'>\n",
      "Int64Index: 2216 entries, 0 to 2215\n",
      "Data columns (total 6 columns):\n",
      " #   Column                 Non-Null Count  Dtype   \n",
      "---  ------                 --------------  -----   \n",
      " 0   Licitacion reparto     2216 non-null   int64   \n",
      " 1   Importe presupuestado  2216 non-null   float64 \n",
      " 2   Importe adjudicado     2216 non-null   float64 \n",
      " 3   MP                     2216 non-null   category\n",
      " 4   Empresa sancionada     2216 non-null   category\n",
      " 5   UTE                    2216 non-null   category\n",
      "dtypes: category(3), float64(2), int64(1)\n",
      "memory usage: 76.1 KB\n"
     ]
    }
   ],
   "source": [
    "df[[\"MP\", \"Empresa sancionada\", \"UTE\"]] = df[[\"MP\", \"Empresa sancionada\", \"UTE\"]].astype(\"category\")\n",
    "df.info()"
   ]
  },
  {
   "cell_type": "code",
   "execution_count": 13,
   "id": "7020af8c",
   "metadata": {},
   "outputs": [
    {
     "data": {
      "text/html": [
       "<div>\n",
       "<style scoped>\n",
       "    .dataframe tbody tr th:only-of-type {\n",
       "        vertical-align: middle;\n",
       "    }\n",
       "\n",
       "    .dataframe tbody tr th {\n",
       "        vertical-align: top;\n",
       "    }\n",
       "\n",
       "    .dataframe thead th {\n",
       "        text-align: right;\n",
       "    }\n",
       "</style>\n",
       "<table border=\"1\" class=\"dataframe\">\n",
       "  <thead>\n",
       "    <tr style=\"text-align: right;\">\n",
       "      <th></th>\n",
       "      <th>Licitacion reparto</th>\n",
       "      <th>Importe presupuestado</th>\n",
       "      <th>Importe adjudicado</th>\n",
       "      <th>Empresa sancionada</th>\n",
       "      <th>UTE</th>\n",
       "      <th>MP1</th>\n",
       "      <th>MP4</th>\n",
       "      <th>MP6</th>\n",
       "    </tr>\n",
       "  </thead>\n",
       "  <tbody>\n",
       "    <tr>\n",
       "      <th>0</th>\n",
       "      <td>0</td>\n",
       "      <td>0.002679</td>\n",
       "      <td>0.002861</td>\n",
       "      <td>1</td>\n",
       "      <td>0</td>\n",
       "      <td>0.0</td>\n",
       "      <td>0.0</td>\n",
       "      <td>1.0</td>\n",
       "    </tr>\n",
       "    <tr>\n",
       "      <th>1</th>\n",
       "      <td>0</td>\n",
       "      <td>0.000699</td>\n",
       "      <td>0.000494</td>\n",
       "      <td>0</td>\n",
       "      <td>0</td>\n",
       "      <td>0.0</td>\n",
       "      <td>1.0</td>\n",
       "      <td>0.0</td>\n",
       "    </tr>\n",
       "    <tr>\n",
       "      <th>2</th>\n",
       "      <td>0</td>\n",
       "      <td>0.001566</td>\n",
       "      <td>0.001343</td>\n",
       "      <td>0</td>\n",
       "      <td>0</td>\n",
       "      <td>1.0</td>\n",
       "      <td>0.0</td>\n",
       "      <td>0.0</td>\n",
       "    </tr>\n",
       "    <tr>\n",
       "      <th>3</th>\n",
       "      <td>0</td>\n",
       "      <td>0.001526</td>\n",
       "      <td>0.000934</td>\n",
       "      <td>0</td>\n",
       "      <td>0</td>\n",
       "      <td>0.0</td>\n",
       "      <td>0.0</td>\n",
       "      <td>1.0</td>\n",
       "    </tr>\n",
       "    <tr>\n",
       "      <th>4</th>\n",
       "      <td>0</td>\n",
       "      <td>0.000079</td>\n",
       "      <td>0.000054</td>\n",
       "      <td>1</td>\n",
       "      <td>0</td>\n",
       "      <td>1.0</td>\n",
       "      <td>0.0</td>\n",
       "      <td>0.0</td>\n",
       "    </tr>\n",
       "    <tr>\n",
       "      <th>...</th>\n",
       "      <td>...</td>\n",
       "      <td>...</td>\n",
       "      <td>...</td>\n",
       "      <td>...</td>\n",
       "      <td>...</td>\n",
       "      <td>...</td>\n",
       "      <td>...</td>\n",
       "      <td>...</td>\n",
       "    </tr>\n",
       "    <tr>\n",
       "      <th>2211</th>\n",
       "      <td>1</td>\n",
       "      <td>0.008615</td>\n",
       "      <td>0.010734</td>\n",
       "      <td>1</td>\n",
       "      <td>0</td>\n",
       "      <td>0.0</td>\n",
       "      <td>0.0</td>\n",
       "      <td>1.0</td>\n",
       "    </tr>\n",
       "    <tr>\n",
       "      <th>2212</th>\n",
       "      <td>1</td>\n",
       "      <td>0.009479</td>\n",
       "      <td>0.009925</td>\n",
       "      <td>1</td>\n",
       "      <td>0</td>\n",
       "      <td>0.0</td>\n",
       "      <td>0.0</td>\n",
       "      <td>1.0</td>\n",
       "    </tr>\n",
       "    <tr>\n",
       "      <th>2213</th>\n",
       "      <td>1</td>\n",
       "      <td>0.005823</td>\n",
       "      <td>0.007276</td>\n",
       "      <td>1</td>\n",
       "      <td>0</td>\n",
       "      <td>0.0</td>\n",
       "      <td>0.0</td>\n",
       "      <td>1.0</td>\n",
       "    </tr>\n",
       "    <tr>\n",
       "      <th>2214</th>\n",
       "      <td>1</td>\n",
       "      <td>0.037259</td>\n",
       "      <td>0.038147</td>\n",
       "      <td>0</td>\n",
       "      <td>1</td>\n",
       "      <td>0.0</td>\n",
       "      <td>0.0</td>\n",
       "      <td>1.0</td>\n",
       "    </tr>\n",
       "    <tr>\n",
       "      <th>2215</th>\n",
       "      <td>1</td>\n",
       "      <td>0.052114</td>\n",
       "      <td>0.065109</td>\n",
       "      <td>1</td>\n",
       "      <td>0</td>\n",
       "      <td>0.0</td>\n",
       "      <td>0.0</td>\n",
       "      <td>1.0</td>\n",
       "    </tr>\n",
       "  </tbody>\n",
       "</table>\n",
       "<p>2216 rows × 8 columns</p>\n",
       "</div>"
      ],
      "text/plain": [
       "      Licitacion reparto  Importe presupuestado  Importe adjudicado  \\\n",
       "0                      0               0.002679            0.002861   \n",
       "1                      0               0.000699            0.000494   \n",
       "2                      0               0.001566            0.001343   \n",
       "3                      0               0.001526            0.000934   \n",
       "4                      0               0.000079            0.000054   \n",
       "...                  ...                    ...                 ...   \n",
       "2211                   1               0.008615            0.010734   \n",
       "2212                   1               0.009479            0.009925   \n",
       "2213                   1               0.005823            0.007276   \n",
       "2214                   1               0.037259            0.038147   \n",
       "2215                   1               0.052114            0.065109   \n",
       "\n",
       "     Empresa sancionada UTE  MP1  MP4  MP6  \n",
       "0                     1   0  0.0  0.0  1.0  \n",
       "1                     0   0  0.0  1.0  0.0  \n",
       "2                     0   0  1.0  0.0  0.0  \n",
       "3                     0   0  0.0  0.0  1.0  \n",
       "4                     1   0  1.0  0.0  0.0  \n",
       "...                 ...  ..  ...  ...  ...  \n",
       "2211                  1   0  0.0  0.0  1.0  \n",
       "2212                  1   0  0.0  0.0  1.0  \n",
       "2213                  1   0  0.0  0.0  1.0  \n",
       "2214                  0   1  0.0  0.0  1.0  \n",
       "2215                  1   0  0.0  0.0  1.0  \n",
       "\n",
       "[2216 rows x 8 columns]"
      ]
     },
     "execution_count": 13,
     "metadata": {},
     "output_type": "execute_result"
    }
   ],
   "source": [
    "codificacion = codificador.fit_transform(df[[\"MP\"]])\n",
    "\n",
    "mercados = pd.DataFrame(codificacion.toarray(),\n",
    "                        columns = [\"MP1\", \"MP4\", \"MP6\"])\n",
    "df = pd.concat([df, mercados], axis = 1)\n",
    "df.drop(\"MP\", axis = 1, inplace = True)\n",
    "df"
   ]
  },
  {
   "cell_type": "code",
   "execution_count": 14,
   "id": "e89fa24e",
   "metadata": {},
   "outputs": [],
   "source": [
    "nombre_clases = [\"Licitacion no reparto\", \"Licitacion reparto\"]\n",
    "nombre_predicciones = list(map(lambda x : x + \" predicho\", nombre_clases))"
   ]
  },
  {
   "cell_type": "markdown",
   "id": "fb83a51f",
   "metadata": {},
   "source": [
    "# Se hace la estimacion por Random Forest"
   ]
  },
  {
   "cell_type": "code",
   "execution_count": 15,
   "id": "00042413",
   "metadata": {},
   "outputs": [],
   "source": [
    "X = df[df.columns[1:]]\n",
    "y = df[\"Licitacion reparto\"]\n",
    "\n",
    "loo = LeaveOneOut()\n",
    "rfc = RandomForestClassifier(random_state = 123) \n",
    "# random_state sirve para controlar la aleatoriedad del clasificador en los resultados\n",
    "predicciones = []\n",
    "prob_predicciones = []\n",
    "\n",
    "for train_index, test_index in loo.split(X) :\n",
    "    \n",
    "    X_train, X_test = X.iloc[train_index], X.iloc[test_index]\n",
    "    y_train, y_test = y[train_index], y[test_index]\n",
    "\n",
    "    rfc.fit(X_train, y_train)\n",
    "    y_pred = rfc.predict(X_test)\n",
    "    y_pred_prob = rfc.predict_proba(X_test)\n",
    "    predicciones.append(int(y_pred))\n",
    "    prob_predicciones.append(y_pred_prob[0][1])"
   ]
  },
  {
   "cell_type": "code",
   "execution_count": 16,
   "id": "b7ee25ce",
   "metadata": {
    "scrolled": true
   },
   "outputs": [
    {
     "data": {
      "text/plain": [
       "{'bootstrap': True,\n",
       " 'ccp_alpha': 0.0,\n",
       " 'class_weight': None,\n",
       " 'criterion': 'gini',\n",
       " 'max_depth': None,\n",
       " 'max_features': 'auto',\n",
       " 'max_leaf_nodes': None,\n",
       " 'max_samples': None,\n",
       " 'min_impurity_decrease': 0.0,\n",
       " 'min_samples_leaf': 1,\n",
       " 'min_samples_split': 2,\n",
       " 'min_weight_fraction_leaf': 0.0,\n",
       " 'n_estimators': 100,\n",
       " 'n_jobs': None,\n",
       " 'oob_score': False,\n",
       " 'random_state': 123,\n",
       " 'verbose': 0,\n",
       " 'warm_start': False}"
      ]
     },
     "execution_count": 16,
     "metadata": {},
     "output_type": "execute_result"
    }
   ],
   "source": [
    "rfc.get_params()"
   ]
  },
  {
   "cell_type": "markdown",
   "id": "a1f50e03",
   "metadata": {},
   "source": [
    "# CURVA ROC. El punto optimo es = (fpr = 0, tpr = 1)"
   ]
  },
  {
   "cell_type": "code",
   "execution_count": 17,
   "id": "4cf6d4fa",
   "metadata": {},
   "outputs": [
    {
     "data": {
      "text/plain": [
       "0.9013898448080638"
      ]
     },
     "execution_count": 17,
     "metadata": {},
     "output_type": "execute_result"
    }
   ],
   "source": [
    "auc_score = roc_auc_score(y, prob_predicciones)\n",
    "auc_score"
   ]
  },
  {
   "cell_type": "code",
   "execution_count": 18,
   "id": "7e5b4dd3",
   "metadata": {},
   "outputs": [],
   "source": [
    "fpr, tpr, thresholds = roc_curve(y, prob_predicciones)\n",
    "#fpr es 1 - especificidad = 1 - (TN / (FP + TN)) = FP / (FP + TN)\n",
    "#tpr es la sensibilidad = TP / (TP + FN)"
   ]
  },
  {
   "cell_type": "code",
   "execution_count": 19,
   "id": "0531d5b4",
   "metadata": {},
   "outputs": [
    {
     "data": {
      "text/plain": [
       "0.14"
      ]
     },
     "execution_count": 19,
     "metadata": {},
     "output_type": "execute_result"
    }
   ],
   "source": [
    "distances = np.linalg.norm(np.column_stack((fpr, tpr)) - np.array([0, 1]), axis=1)\n",
    "optimal_threshold_index = np.argmin(distances)\n",
    "optimal_threshold = thresholds[optimal_threshold_index]\n",
    "optimal_threshold"
   ]
  },
  {
   "cell_type": "code",
   "execution_count": 20,
   "id": "84df28c9",
   "metadata": {},
   "outputs": [
    {
     "data": {
      "text/plain": [
       "0.17558076715289034"
      ]
     },
     "execution_count": 20,
     "metadata": {},
     "output_type": "execute_result"
    }
   ],
   "source": [
    "optimal_fpr = fpr[optimal_threshold_index]\n",
    "optimal_fpr"
   ]
  },
  {
   "cell_type": "code",
   "execution_count": 21,
   "id": "3d0f9508",
   "metadata": {},
   "outputs": [
    {
     "data": {
      "text/plain": [
       "0.8383561643835616"
      ]
     },
     "execution_count": 21,
     "metadata": {},
     "output_type": "execute_result"
    }
   ],
   "source": [
    "optimal_tpr = tpr[optimal_threshold_index]\n",
    "optimal_tpr"
   ]
  },
  {
   "cell_type": "code",
   "execution_count": 22,
   "id": "3fc4694b",
   "metadata": {},
   "outputs": [
    {
     "data": {
      "image/png": "[encoded data removed]",
      "text/plain": [
       "<Figure size 640x480 with 1 Axes>"
      ]
     },
     "metadata": {},
     "output_type": "display_data"
    }
   ],
   "source": [
    "plt.plot(fpr, tpr, label = f'AUC Score = {auc_score:.4}')\n",
    "plt.plot([0,1], linestyle=\"--\")\n",
    "plt.plot(optimal_fpr, optimal_tpr, 'ro')\n",
    "plt.annotate(f'      Threshold\\n óptimo = {optimal_threshold:.2}',\n",
    "             xy=(optimal_fpr, optimal_tpr), xycoords='data',\n",
    "             xytext=(-70, +20), textcoords='offset points', fontsize=10,\n",
    "             arrowprops=dict(arrowstyle=\"->\", connectionstyle = \"arc3, rad = .2\"))\n",
    "plt.ylabel('Sensibilidad')\n",
    "plt.xlabel('1 - especificidad')\n",
    "plt.title('ROC Curve')\n",
    "plt.legend(loc = 'lower right')\n",
    "plt.show()"
   ]
  },
  {
   "cell_type": "markdown",
   "id": "c748cf9d",
   "metadata": {},
   "source": [
    "# Metricas de la Matriz de Confusion"
   ]
  },
  {
   "cell_type": "code",
   "execution_count": 23,
   "id": "a2e2fb31",
   "metadata": {},
   "outputs": [
    {
     "data": {
      "text/html": [
       "<div>\n",
       "<style scoped>\n",
       "    .dataframe tbody tr th:only-of-type {\n",
       "        vertical-align: middle;\n",
       "    }\n",
       "\n",
       "    .dataframe tbody tr th {\n",
       "        vertical-align: top;\n",
       "    }\n",
       "\n",
       "    .dataframe thead th {\n",
       "        text-align: right;\n",
       "    }\n",
       "</style>\n",
       "<table border=\"1\" class=\"dataframe\">\n",
       "  <thead>\n",
       "    <tr style=\"text-align: right;\">\n",
       "      <th></th>\n",
       "      <th>Licitacion reparto</th>\n",
       "      <th>Prediccion licitacion reparto</th>\n",
       "      <th>Prob prediccion</th>\n",
       "    </tr>\n",
       "  </thead>\n",
       "  <tbody>\n",
       "    <tr>\n",
       "      <th>0</th>\n",
       "      <td>0</td>\n",
       "      <td>0</td>\n",
       "      <td>0.07</td>\n",
       "    </tr>\n",
       "    <tr>\n",
       "      <th>1</th>\n",
       "      <td>0</td>\n",
       "      <td>0</td>\n",
       "      <td>0.08</td>\n",
       "    </tr>\n",
       "    <tr>\n",
       "      <th>2</th>\n",
       "      <td>0</td>\n",
       "      <td>0</td>\n",
       "      <td>0.02</td>\n",
       "    </tr>\n",
       "    <tr>\n",
       "      <th>3</th>\n",
       "      <td>0</td>\n",
       "      <td>0</td>\n",
       "      <td>0.00</td>\n",
       "    </tr>\n",
       "    <tr>\n",
       "      <th>4</th>\n",
       "      <td>0</td>\n",
       "      <td>1</td>\n",
       "      <td>0.65</td>\n",
       "    </tr>\n",
       "    <tr>\n",
       "      <th>...</th>\n",
       "      <td>...</td>\n",
       "      <td>...</td>\n",
       "      <td>...</td>\n",
       "    </tr>\n",
       "    <tr>\n",
       "      <th>2211</th>\n",
       "      <td>1</td>\n",
       "      <td>0</td>\n",
       "      <td>0.30</td>\n",
       "    </tr>\n",
       "    <tr>\n",
       "      <th>2212</th>\n",
       "      <td>1</td>\n",
       "      <td>0</td>\n",
       "      <td>0.37</td>\n",
       "    </tr>\n",
       "    <tr>\n",
       "      <th>2213</th>\n",
       "      <td>1</td>\n",
       "      <td>0</td>\n",
       "      <td>0.00</td>\n",
       "    </tr>\n",
       "    <tr>\n",
       "      <th>2214</th>\n",
       "      <td>1</td>\n",
       "      <td>0</td>\n",
       "      <td>0.00</td>\n",
       "    </tr>\n",
       "    <tr>\n",
       "      <th>2215</th>\n",
       "      <td>1</td>\n",
       "      <td>1</td>\n",
       "      <td>0.71</td>\n",
       "    </tr>\n",
       "  </tbody>\n",
       "</table>\n",
       "<p>2216 rows × 3 columns</p>\n",
       "</div>"
      ],
      "text/plain": [
       "      Licitacion reparto  Prediccion licitacion reparto  Prob prediccion\n",
       "0                      0                              0             0.07\n",
       "1                      0                              0             0.08\n",
       "2                      0                              0             0.02\n",
       "3                      0                              0             0.00\n",
       "4                      0                              1             0.65\n",
       "...                  ...                            ...              ...\n",
       "2211                   1                              0             0.30\n",
       "2212                   1                              0             0.37\n",
       "2213                   1                              0             0.00\n",
       "2214                   1                              0             0.00\n",
       "2215                   1                              1             0.71\n",
       "\n",
       "[2216 rows x 3 columns]"
      ]
     },
     "execution_count": 23,
     "metadata": {},
     "output_type": "execute_result"
    }
   ],
   "source": [
    "predicciones = pd.Series(predicciones, name = \"Prediccion licitacion reparto\")\n",
    "prob_predicciones = pd.Series(prob_predicciones, name = \"Prob prediccion\")\n",
    "cp = pd.concat([y, predicciones, prob_predicciones], axis = 1)\n",
    "cp\n",
    "# Este dataframe no contiene las predicciones calculadas en el punto optimo de la curva ROC.\n",
    "# Contiene las predicciones calculadas segun el punto por defecto para determinar las predicciones del clasificador."
   ]
  },
  {
   "cell_type": "code",
   "execution_count": 24,
   "id": "a6b5f8c8",
   "metadata": {},
   "outputs": [
    {
     "data": {
      "text/plain": [
       "0       0\n",
       "1       0\n",
       "2       0\n",
       "3       0\n",
       "4       1\n",
       "       ..\n",
       "2211    1\n",
       "2212    1\n",
       "2213    0\n",
       "2214    0\n",
       "2215    1\n",
       "Length: 2216, dtype: int64"
      ]
     },
     "execution_count": 24,
     "metadata": {},
     "output_type": "execute_result"
    }
   ],
   "source": [
    "cp[\"Prediccion licitacion reparto en el punto optimo\"] = 0\n",
    "prediccion_final = cp[\"Prediccion licitacion reparto en el punto optimo\"]\n",
    "prediccion_final = cp.apply(lambda x: 1 if x[\"Prob prediccion\"] >= optimal_threshold else 0, axis=1)\n",
    "prediccion_final"
   ]
  },
  {
   "cell_type": "code",
   "execution_count": 25,
   "id": "573fadc8",
   "metadata": {},
   "outputs": [
    {
     "data": {
      "text/html": [
       "<div>\n",
       "<style scoped>\n",
       "    .dataframe tbody tr th:only-of-type {\n",
       "        vertical-align: middle;\n",
       "    }\n",
       "\n",
       "    .dataframe tbody tr th {\n",
       "        vertical-align: top;\n",
       "    }\n",
       "\n",
       "    .dataframe thead th {\n",
       "        text-align: right;\n",
       "    }\n",
       "</style>\n",
       "<table border=\"1\" class=\"dataframe\">\n",
       "  <thead>\n",
       "    <tr style=\"text-align: right;\">\n",
       "      <th></th>\n",
       "      <th>Licitacion reparto</th>\n",
       "      <th>Prob prediccion</th>\n",
       "      <th>Prediccion licitacion reparto en el punto optimo</th>\n",
       "    </tr>\n",
       "  </thead>\n",
       "  <tbody>\n",
       "    <tr>\n",
       "      <th>0</th>\n",
       "      <td>0</td>\n",
       "      <td>0.07</td>\n",
       "      <td>0</td>\n",
       "    </tr>\n",
       "    <tr>\n",
       "      <th>1</th>\n",
       "      <td>0</td>\n",
       "      <td>0.08</td>\n",
       "      <td>0</td>\n",
       "    </tr>\n",
       "    <tr>\n",
       "      <th>2</th>\n",
       "      <td>0</td>\n",
       "      <td>0.02</td>\n",
       "      <td>0</td>\n",
       "    </tr>\n",
       "    <tr>\n",
       "      <th>3</th>\n",
       "      <td>0</td>\n",
       "      <td>0.00</td>\n",
       "      <td>0</td>\n",
       "    </tr>\n",
       "    <tr>\n",
       "      <th>4</th>\n",
       "      <td>0</td>\n",
       "      <td>0.65</td>\n",
       "      <td>1</td>\n",
       "    </tr>\n",
       "    <tr>\n",
       "      <th>...</th>\n",
       "      <td>...</td>\n",
       "      <td>...</td>\n",
       "      <td>...</td>\n",
       "    </tr>\n",
       "    <tr>\n",
       "      <th>2211</th>\n",
       "      <td>1</td>\n",
       "      <td>0.30</td>\n",
       "      <td>1</td>\n",
       "    </tr>\n",
       "    <tr>\n",
       "      <th>2212</th>\n",
       "      <td>1</td>\n",
       "      <td>0.37</td>\n",
       "      <td>1</td>\n",
       "    </tr>\n",
       "    <tr>\n",
       "      <th>2213</th>\n",
       "      <td>1</td>\n",
       "      <td>0.00</td>\n",
       "      <td>0</td>\n",
       "    </tr>\n",
       "    <tr>\n",
       "      <th>2214</th>\n",
       "      <td>1</td>\n",
       "      <td>0.00</td>\n",
       "      <td>0</td>\n",
       "    </tr>\n",
       "    <tr>\n",
       "      <th>2215</th>\n",
       "      <td>1</td>\n",
       "      <td>0.71</td>\n",
       "      <td>1</td>\n",
       "    </tr>\n",
       "  </tbody>\n",
       "</table>\n",
       "<p>2216 rows × 3 columns</p>\n",
       "</div>"
      ],
      "text/plain": [
       "      Licitacion reparto  Prob prediccion  \\\n",
       "0                      0             0.07   \n",
       "1                      0             0.08   \n",
       "2                      0             0.02   \n",
       "3                      0             0.00   \n",
       "4                      0             0.65   \n",
       "...                  ...              ...   \n",
       "2211                   1             0.30   \n",
       "2212                   1             0.37   \n",
       "2213                   1             0.00   \n",
       "2214                   1             0.00   \n",
       "2215                   1             0.71   \n",
       "\n",
       "      Prediccion licitacion reparto en el punto optimo  \n",
       "0                                                    0  \n",
       "1                                                    0  \n",
       "2                                                    0  \n",
       "3                                                    0  \n",
       "4                                                    1  \n",
       "...                                                ...  \n",
       "2211                                                 1  \n",
       "2212                                                 1  \n",
       "2213                                                 0  \n",
       "2214                                                 0  \n",
       "2215                                                 1  \n",
       "\n",
       "[2216 rows x 3 columns]"
      ]
     },
     "execution_count": 25,
     "metadata": {},
     "output_type": "execute_result"
    }
   ],
   "source": [
    "cp[\"Prediccion licitacion reparto en el punto optimo\"] = prediccion_final\n",
    "pd.concat([cp, prediccion_final], axis = 1)\n",
    "cp.drop(columns = \"Prediccion licitacion reparto\", axis = 1, inplace = True)\n",
    "cp"
   ]
  },
  {
   "cell_type": "code",
   "execution_count": 26,
   "id": "3798561a",
   "metadata": {},
   "outputs": [
    {
     "data": {
      "text/html": [
       "<div>\n",
       "<style scoped>\n",
       "    .dataframe tbody tr th:only-of-type {\n",
       "        vertical-align: middle;\n",
       "    }\n",
       "\n",
       "    .dataframe tbody tr th {\n",
       "        vertical-align: top;\n",
       "    }\n",
       "\n",
       "    .dataframe thead th {\n",
       "        text-align: right;\n",
       "    }\n",
       "</style>\n",
       "<table border=\"1\" class=\"dataframe\">\n",
       "  <thead>\n",
       "    <tr style=\"text-align: right;\">\n",
       "      <th></th>\n",
       "      <th>Licitacion no reparto</th>\n",
       "      <th>Licitacion reparto</th>\n",
       "    </tr>\n",
       "  </thead>\n",
       "  <tbody>\n",
       "    <tr>\n",
       "      <th>Licitacion no reparto predicho</th>\n",
       "      <td>1526</td>\n",
       "      <td>325</td>\n",
       "    </tr>\n",
       "    <tr>\n",
       "      <th>Licitacion reparto predicho</th>\n",
       "      <td>59</td>\n",
       "      <td>306</td>\n",
       "    </tr>\n",
       "  </tbody>\n",
       "</table>\n",
       "</div>"
      ],
      "text/plain": [
       "                                Licitacion no reparto  Licitacion reparto\n",
       "Licitacion no reparto predicho                   1526                 325\n",
       "Licitacion reparto predicho                        59                 306"
      ]
     },
     "execution_count": 26,
     "metadata": {},
     "output_type": "execute_result"
    }
   ],
   "source": [
    "cm = confusion_matrix(y, cp[\"Prediccion licitacion reparto en el punto optimo\"]) # matriz de confusion\n",
    "cm = pd.DataFrame(cm, columns = nombre_clases, index = nombre_predicciones)\n",
    "cm # esta matriz de confusion esta calculada en el punto optimo de la curva"
   ]
  },
  {
   "cell_type": "code",
   "execution_count": 27,
   "id": "8afa34f8",
   "metadata": {},
   "outputs": [],
   "source": [
    "TP = cm.iloc[1,1]\n",
    "FN = cm.iloc[1,0]\n",
    "FP = cm.iloc[0,1]\n",
    "TN = cm.iloc[0,0]"
   ]
  },
  {
   "cell_type": "code",
   "execution_count": 28,
   "id": "8bb93deb",
   "metadata": {},
   "outputs": [
    {
     "data": {
      "text/plain": [
       "0.8267148014440433"
      ]
     },
     "execution_count": 28,
     "metadata": {},
     "output_type": "execute_result"
    }
   ],
   "source": [
    "Tasa_de_aciertos = (TP + TN) / len(df)\n",
    "Tasa_de_aciertos"
   ]
  },
  {
   "cell_type": "code",
   "execution_count": 29,
   "id": "a4018ce3",
   "metadata": {},
   "outputs": [
    {
     "data": {
      "text/plain": [
       "0.1732851985559567"
      ]
     },
     "execution_count": 29,
     "metadata": {},
     "output_type": "execute_result"
    }
   ],
   "source": [
    "Tasa_de_errores = 1 - Tasa_de_aciertos\n",
    "Tasa_de_errores"
   ]
  },
  {
   "cell_type": "code",
   "execution_count": 30,
   "id": "6dbd07ff",
   "metadata": {},
   "outputs": [
    {
     "data": {
      "text/plain": [
       "0.8383561643835616"
      ]
     },
     "execution_count": 30,
     "metadata": {},
     "output_type": "execute_result"
    }
   ],
   "source": [
    "Sensibilidad = TP / (TP + FN)\n",
    "Sensibilidad # se calculo antes. Es optimal_tpr"
   ]
  },
  {
   "cell_type": "code",
   "execution_count": 31,
   "id": "00db5dc5",
   "metadata": {},
   "outputs": [
    {
     "data": {
      "text/plain": [
       "0.16164383561643836"
      ]
     },
     "execution_count": 31,
     "metadata": {},
     "output_type": "execute_result"
    }
   ],
   "source": [
    "Tasa_de_falsos_negativos = 1 - Sensibilidad\n",
    "Tasa_de_falsos_negativos"
   ]
  },
  {
   "cell_type": "code",
   "execution_count": 32,
   "id": "9d936f06",
   "metadata": {},
   "outputs": [
    {
     "data": {
      "text/plain": [
       "0.8244192328471097"
      ]
     },
     "execution_count": 32,
     "metadata": {},
     "output_type": "execute_result"
    }
   ],
   "source": [
    "Especificidad = TN / (FP + TN)\n",
    "Especificidad # se calculo antes. Es optimal_fpr = 1 - Especificidad "
   ]
  },
  {
   "cell_type": "code",
   "execution_count": 33,
   "id": "010bf09a",
   "metadata": {},
   "outputs": [
    {
     "data": {
      "text/plain": [
       "0.4849445324881141"
      ]
     },
     "execution_count": 33,
     "metadata": {},
     "output_type": "execute_result"
    }
   ],
   "source": [
    "Precision = TP / (TP + FP)\n",
    "Precision"
   ]
  },
  {
   "cell_type": "code",
   "execution_count": 34,
   "id": "2015d6b2",
   "metadata": {
    "scrolled": true
   },
   "outputs": [
    {
     "data": {
      "text/plain": [
       "0.5150554675118859"
      ]
     },
     "execution_count": 34,
     "metadata": {},
     "output_type": "execute_result"
    }
   ],
   "source": [
    "FP / (FP + TP) # 1 - Precision"
   ]
  },
  {
   "cell_type": "code",
   "execution_count": 35,
   "id": "9ac08a94",
   "metadata": {},
   "outputs": [
    {
     "data": {
      "text/plain": [
       "0.6144578313253013"
      ]
     },
     "execution_count": 35,
     "metadata": {},
     "output_type": "execute_result"
    }
   ],
   "source": [
    "F1 = (2 * Sensibilidad * Precision) / (Sensibilidad + Precision)\n",
    "F1"
   ]
  },
  {
   "cell_type": "markdown",
   "id": "1a41aab6",
   "metadata": {},
   "source": [
    "# Métricas de clasificación binaria en el punto óptimo"
   ]
  },
  {
   "cell_type": "code",
   "execution_count": 36,
   "id": "6d2e4eab",
   "metadata": {},
   "outputs": [],
   "source": [
    "nombre_fichero = \"Clasificacion binaria rfc\""
   ]
  },
  {
   "cell_type": "code",
   "execution_count": 37,
   "id": "6509a2a9",
   "metadata": {},
   "outputs": [
    {
     "data": {
      "text/html": [
       "<div>\n",
       "<style scoped>\n",
       "    .dataframe tbody tr th:only-of-type {\n",
       "        vertical-align: middle;\n",
       "    }\n",
       "\n",
       "    .dataframe tbody tr th {\n",
       "        vertical-align: top;\n",
       "    }\n",
       "\n",
       "    .dataframe thead th {\n",
       "        text-align: right;\n",
       "    }\n",
       "</style>\n",
       "<table border=\"1\" class=\"dataframe\">\n",
       "  <thead>\n",
       "    <tr style=\"text-align: right;\">\n",
       "      <th></th>\n",
       "      <th>Clasificacion binaria rfc</th>\n",
       "    </tr>\n",
       "  </thead>\n",
       "  <tbody>\n",
       "    <tr>\n",
       "      <th>Tasa de aciertos</th>\n",
       "      <td>0.826715</td>\n",
       "    </tr>\n",
       "    <tr>\n",
       "      <th>Sensibilidad</th>\n",
       "      <td>0.838356</td>\n",
       "    </tr>\n",
       "    <tr>\n",
       "      <th>Especificidad</th>\n",
       "      <td>0.824419</td>\n",
       "    </tr>\n",
       "    <tr>\n",
       "      <th>Precision</th>\n",
       "      <td>0.484945</td>\n",
       "    </tr>\n",
       "    <tr>\n",
       "      <th>F1</th>\n",
       "      <td>0.614458</td>\n",
       "    </tr>\n",
       "  </tbody>\n",
       "</table>\n",
       "</div>"
      ],
      "text/plain": [
       "                  Clasificacion binaria rfc\n",
       "Tasa de aciertos                   0.826715\n",
       "Sensibilidad                       0.838356\n",
       "Especificidad                      0.824419\n",
       "Precision                          0.484945\n",
       "F1                                 0.614458"
      ]
     },
     "execution_count": 37,
     "metadata": {},
     "output_type": "execute_result"
    }
   ],
   "source": [
    "indice_resultados = [\"Tasa de aciertos\", \"Sensibilidad\", \"Especificidad\", \"Precision\", \"F1\"]\n",
    "resultados_valores = [Tasa_de_aciertos, Sensibilidad, Especificidad, Precision, F1]\n",
    "\n",
    "resultados = pd.DataFrame(data={f\"{nombre_fichero}\": resultados_valores},\n",
    "                          index=indice_resultados)\n",
    "resultados"
   ]
  },
  {
   "cell_type": "markdown",
   "id": "73673649",
   "metadata": {},
   "source": [
    "## Se exportan los datos"
   ]
  },
  {
   "cell_type": "code",
   "execution_count": 38,
   "id": "0058247b",
   "metadata": {},
   "outputs": [],
   "source": [
    "nombre_columna = list(resultados.columns)[0]\n",
    "resultados.to_excel(f\"Resultados de las métricas de {nombre_fichero}.xlsx\")"
   ]
  },
  {
   "cell_type": "markdown",
   "id": "cf74232a",
   "metadata": {},
   "source": [
    "# CURVA PR. El punto óptimo es = (precision = 1, recall = 1)"
   ]
  },
  {
   "cell_type": "code",
   "execution_count": 39,
   "id": "187ca54d",
   "metadata": {},
   "outputs": [
    {
     "data": {
      "text/plain": [
       "0.67716633884245"
      ]
     },
     "execution_count": 39,
     "metadata": {},
     "output_type": "execute_result"
    }
   ],
   "source": [
    "average_precision = average_precision_score(y, prob_predicciones)\n",
    "average_precision"
   ]
  },
  {
   "cell_type": "code",
   "execution_count": 40,
   "id": "455891a6",
   "metadata": {},
   "outputs": [],
   "source": [
    "precision, recall, thresholds = precision_recall_curve(y, prob_predicciones)\n",
    "#precision = TP / (TP + FP)\n",
    "#recall = sensibilidad = TP / (TP + FN)"
   ]
  },
  {
   "cell_type": "code",
   "execution_count": 41,
   "id": "ed8ffbe8",
   "metadata": {},
   "outputs": [
    {
     "data": {
      "text/plain": [
       "0.25"
      ]
     },
     "execution_count": 41,
     "metadata": {},
     "output_type": "execute_result"
    }
   ],
   "source": [
    "distances = np.linalg.norm(np.column_stack((precision, recall)) - np.array([1, 1]), axis=1)\n",
    "optimal_threshold_index = np.argmin(distances)\n",
    "optimal_threshold = thresholds[optimal_threshold_index]\n",
    "optimal_threshold"
   ]
  },
  {
   "cell_type": "code",
   "execution_count": 42,
   "id": "fd8143ca",
   "metadata": {},
   "outputs": [
    {
     "data": {
      "text/plain": [
       "0.5645833333333333"
      ]
     },
     "execution_count": 42,
     "metadata": {},
     "output_type": "execute_result"
    }
   ],
   "source": [
    "optimal_precision = precision[optimal_threshold_index]\n",
    "optimal_precision"
   ]
  },
  {
   "cell_type": "code",
   "execution_count": 43,
   "id": "c3fd8eaa",
   "metadata": {},
   "outputs": [
    {
     "data": {
      "text/plain": [
       "0.7424657534246575"
      ]
     },
     "execution_count": 43,
     "metadata": {},
     "output_type": "execute_result"
    }
   ],
   "source": [
    "optimal_recall = recall[optimal_threshold_index]\n",
    "optimal_recall"
   ]
  },
  {
   "cell_type": "code",
   "execution_count": 44,
   "id": "1a35ceec",
   "metadata": {
    "scrolled": false
   },
   "outputs": [
    {
     "data": {
      "image/png": "[encoded data removed]",
      "text/plain": [
       "<Figure size 640x480 with 1 Axes>"
      ]
     },
     "metadata": {},
     "output_type": "display_data"
    }
   ],
   "source": [
    "plt.plot(recall, precision, label = f'APS Score = {average_precision:.4}')\n",
    "plt.plot(optimal_recall, optimal_precision, 'ro')\n",
    "plt.annotate(f'      Threshold\\n óptimo = {optimal_threshold:.2}',\n",
    "             xy=(optimal_recall, optimal_precision), xycoords='data',\n",
    "             xytext=(-30, +50) ,textcoords='offset points', fontsize=10,\n",
    "             arrowprops=dict(arrowstyle=\"->\", connectionstyle = \"arc3, rad = .2\"))\n",
    "plt.ylabel('Precision')\n",
    "plt.xlabel('Recall')\n",
    "plt.title('PR Curve')\n",
    "plt.legend(loc = 'upper left')\n",
    "plt.ylim(0, 1.01)\n",
    "plt.show()"
   ]
  },
  {
   "cell_type": "markdown",
   "id": "655278cd",
   "metadata": {},
   "source": [
    "# Se calcula cuanto tiempo ha transcurrido en la ejecucion de todo el notebook y se guarda el tiempo en un fichero de texto para almacenarlo."
   ]
  },
  {
   "cell_type": "code",
   "execution_count": 45,
   "id": "cbd2e910",
   "metadata": {},
   "outputs": [],
   "source": [
    "fin = time.time()\n",
    "tiempo_transcurrido = fin - inicio\n",
    "minutos = int((tiempo_transcurrido % 3600) // 60)\n",
    "segundos = int(tiempo_transcurrido % 60)\n",
    "with open(f\"Tiempo de ejecucion transcurrido en el notebook {nombre_fichero}.txt\", \"w\") as f :\n",
    "    f.write(f\"Tiempo transcurrido: {minutos} minutos, {segundos} segundos\")"
   ]
  },
  {
   "cell_type": "code",
   "execution_count": 46,
   "id": "3d16a4d9",
   "metadata": {},
   "outputs": [
    {
     "name": "stdout",
     "output_type": "stream",
     "text": [
      "Tiempo transcurrido: 10 minutos, 8 segundos\n"
     ]
    }
   ],
   "source": [
    "print(f\"Tiempo transcurrido: {minutos} minutos, {segundos} segundos\")"
   ]
  }
 ],
 "metadata": {
  "kernelspec": {
   "display_name": "Python 3 (ipykernel)",
   "language": "python",
   "name": "python3"
  },
  "language_info": {
   "codemirror_mode": {
    "name": "ipython",
    "version": 3
   },
   "file_extension": ".py",
   "mimetype": "text/x-python",
   "name": "python",
   "nbconvert_exporter": "python",
   "pygments_lexer": "ipython3",
   "version": "3.9.13"
  }
 },
 "nbformat": 4,
 "nbformat_minor": 5
}
