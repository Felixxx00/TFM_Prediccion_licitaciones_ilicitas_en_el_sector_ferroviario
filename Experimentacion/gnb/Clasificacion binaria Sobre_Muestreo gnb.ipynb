{
 "cells": [
  {
   "cell_type": "code",
   "execution_count": 1,
   "id": "0d3f2278",
   "metadata": {},
   "outputs": [],
   "source": [
    "import time\n",
    "inicio = time.time()"
   ]
  },
  {
   "cell_type": "code",
   "execution_count": 2,
   "id": "93625c5a",
   "metadata": {},
   "outputs": [],
   "source": [
    "import os\n",
    "import pandas as pd\n",
    "import numpy as np\n",
    "import matplotlib.pyplot as plt\n",
    "\n",
    "from imblearn.over_sampling import RandomOverSampler\n",
    "from sklearn.preprocessing import OneHotEncoder\n",
    "from sklearn.preprocessing import StandardScaler\n",
    "\n",
    "from sklearn.model_selection import LeaveOneOut\n",
    "\n",
    "from sklearn.naive_bayes import GaussianNB\n",
    "\n",
    "from sklearn.metrics import confusion_matrix\n",
    "from sklearn.metrics import roc_auc_score\n",
    "from sklearn.metrics import roc_curve\n",
    "from sklearn.metrics import average_precision_score\n",
    "from sklearn.metrics import precision_recall_curve"
   ]
  },
  {
   "cell_type": "markdown",
   "id": "0c9e6fdb",
   "metadata": {},
   "source": [
    "# Se importan los datos"
   ]
  },
  {
   "cell_type": "code",
   "execution_count": 3,
   "id": "4fbba252",
   "metadata": {},
   "outputs": [],
   "source": [
    "df = pd.read_excel(\"..//Base_datos_Clasificacion binaria.xlsx\", index_col = 0)"
   ]
  },
  {
   "cell_type": "code",
   "execution_count": 4,
   "id": "6702f0ab",
   "metadata": {
    "scrolled": true
   },
   "outputs": [
    {
     "data": {
      "text/html": [
       "<div>\n",
       "<style scoped>\n",
       "    .dataframe tbody tr th:only-of-type {\n",
       "        vertical-align: middle;\n",
       "    }\n",
       "\n",
       "    .dataframe tbody tr th {\n",
       "        vertical-align: top;\n",
       "    }\n",
       "\n",
       "    .dataframe thead th {\n",
       "        text-align: right;\n",
       "    }\n",
       "</style>\n",
       "<table border=\"1\" class=\"dataframe\">\n",
       "  <thead>\n",
       "    <tr style=\"text-align: right;\">\n",
       "      <th></th>\n",
       "      <th>Licitacion reparto</th>\n",
       "      <th>Importe presupuestado</th>\n",
       "      <th>Importe adjudicado</th>\n",
       "      <th>MP</th>\n",
       "      <th>Empresa sancionada</th>\n",
       "      <th>UTE</th>\n",
       "    </tr>\n",
       "  </thead>\n",
       "  <tbody>\n",
       "    <tr>\n",
       "      <th>0</th>\n",
       "      <td>0</td>\n",
       "      <td>1738093.21</td>\n",
       "      <td>1484428.72</td>\n",
       "      <td>6</td>\n",
       "      <td>1</td>\n",
       "      <td>0</td>\n",
       "    </tr>\n",
       "    <tr>\n",
       "      <th>1</th>\n",
       "      <td>0</td>\n",
       "      <td>469670.24</td>\n",
       "      <td>272492.00</td>\n",
       "      <td>4</td>\n",
       "      <td>0</td>\n",
       "      <td>0</td>\n",
       "    </tr>\n",
       "    <tr>\n",
       "      <th>2</th>\n",
       "      <td>0</td>\n",
       "      <td>1025088.19</td>\n",
       "      <td>707310.85</td>\n",
       "      <td>1</td>\n",
       "      <td>0</td>\n",
       "      <td>0</td>\n",
       "    </tr>\n",
       "    <tr>\n",
       "      <th>3</th>\n",
       "      <td>0</td>\n",
       "      <td>999890.00</td>\n",
       "      <td>497621.36</td>\n",
       "      <td>6</td>\n",
       "      <td>0</td>\n",
       "      <td>0</td>\n",
       "    </tr>\n",
       "    <tr>\n",
       "      <th>4</th>\n",
       "      <td>0</td>\n",
       "      <td>72598.27</td>\n",
       "      <td>47508.92</td>\n",
       "      <td>1</td>\n",
       "      <td>1</td>\n",
       "      <td>0</td>\n",
       "    </tr>\n",
       "    <tr>\n",
       "      <th>...</th>\n",
       "      <td>...</td>\n",
       "      <td>...</td>\n",
       "      <td>...</td>\n",
       "      <td>...</td>\n",
       "      <td>...</td>\n",
       "      <td>...</td>\n",
       "    </tr>\n",
       "    <tr>\n",
       "      <th>2211</th>\n",
       "      <td>1</td>\n",
       "      <td>5542028.88</td>\n",
       "      <td>5514320.00</td>\n",
       "      <td>6</td>\n",
       "      <td>1</td>\n",
       "      <td>0</td>\n",
       "    </tr>\n",
       "    <tr>\n",
       "      <th>2212</th>\n",
       "      <td>1</td>\n",
       "      <td>6095782.00</td>\n",
       "      <td>5100555.00</td>\n",
       "      <td>6</td>\n",
       "      <td>1</td>\n",
       "      <td>0</td>\n",
       "    </tr>\n",
       "    <tr>\n",
       "      <th>2213</th>\n",
       "      <td>1</td>\n",
       "      <td>3752906.00</td>\n",
       "      <td>3744400.00</td>\n",
       "      <td>6</td>\n",
       "      <td>1</td>\n",
       "      <td>0</td>\n",
       "    </tr>\n",
       "    <tr>\n",
       "      <th>2214</th>\n",
       "      <td>1</td>\n",
       "      <td>23896564.00</td>\n",
       "      <td>19547338.00</td>\n",
       "      <td>6</td>\n",
       "      <td>0</td>\n",
       "      <td>1</td>\n",
       "    </tr>\n",
       "    <tr>\n",
       "      <th>2215</th>\n",
       "      <td>1</td>\n",
       "      <td>33415098.00</td>\n",
       "      <td>33349532.00</td>\n",
       "      <td>6</td>\n",
       "      <td>1</td>\n",
       "      <td>0</td>\n",
       "    </tr>\n",
       "  </tbody>\n",
       "</table>\n",
       "<p>2216 rows × 6 columns</p>\n",
       "</div>"
      ],
      "text/plain": [
       "      Licitacion reparto  Importe presupuestado  Importe adjudicado  MP  \\\n",
       "0                      0             1738093.21          1484428.72   6   \n",
       "1                      0              469670.24           272492.00   4   \n",
       "2                      0             1025088.19           707310.85   1   \n",
       "3                      0              999890.00           497621.36   6   \n",
       "4                      0               72598.27            47508.92   1   \n",
       "...                  ...                    ...                 ...  ..   \n",
       "2211                   1             5542028.88          5514320.00   6   \n",
       "2212                   1             6095782.00          5100555.00   6   \n",
       "2213                   1             3752906.00          3744400.00   6   \n",
       "2214                   1            23896564.00         19547338.00   6   \n",
       "2215                   1            33415098.00         33349532.00   6   \n",
       "\n",
       "      Empresa sancionada  UTE  \n",
       "0                      1    0  \n",
       "1                      0    0  \n",
       "2                      0    0  \n",
       "3                      0    0  \n",
       "4                      1    0  \n",
       "...                  ...  ...  \n",
       "2211                   1    0  \n",
       "2212                   1    0  \n",
       "2213                   1    0  \n",
       "2214                   0    1  \n",
       "2215                   1    0  \n",
       "\n",
       "[2216 rows x 6 columns]"
      ]
     },
     "execution_count": 4,
     "metadata": {},
     "output_type": "execute_result"
    }
   ],
   "source": [
    "df"
   ]
  },
  {
   "cell_type": "markdown",
   "id": "ab903540",
   "metadata": {},
   "source": [
    "# Se trata el desbalanceo de clases mediante una tecnica de Sobre - Muestreo. Hay que instalar la libreria imbalanced - learn"
   ]
  },
  {
   "cell_type": "code",
   "execution_count": 5,
   "id": "5270a02e",
   "metadata": {},
   "outputs": [],
   "source": [
    "y = df[\"Licitacion reparto\"]\n",
    "X = df[df.columns[1:]]"
   ]
  },
  {
   "cell_type": "code",
   "execution_count": 6,
   "id": "83beafa2",
   "metadata": {},
   "outputs": [
    {
     "data": {
      "image/png": "[encoded data removed]",
      "text/plain": [
       "<Figure size 640x480 with 1 Axes>"
      ]
     },
     "metadata": {},
     "output_type": "display_data"
    }
   ],
   "source": [
    "datos = [len(y[y == 1]), len(y[y == 0])]\n",
    "etiquetas = ['Licitacion reparto', 'Licitacion no reparto']\n",
    "colores = ['red', 'blue']\n",
    "\n",
    "plt.pie(datos, labels = etiquetas, colors = colores, autopct = '%1.1f%%', textprops = {'fontsize': 14, 'color': 'white'})\n",
    "plt.title('Distribución de las clases', fontsize = 20)\n",
    "plt.legend(title = \"Clases\", bbox_to_anchor=(1.7, 0.55), loc='right', fontsize = 12)\n",
    "plt.show()"
   ]
  },
  {
   "cell_type": "markdown",
   "id": "548ae894",
   "metadata": {},
   "source": [
    "### Se utiliza la técnica \"RandomOverSampler\" que es la generación de nuevos datos de la clase minoritaria mediante muestreo simple con reemplazamiento y de forma aleatoria."
   ]
  },
  {
   "cell_type": "code",
   "execution_count": 7,
   "id": "bda0c9b0",
   "metadata": {},
   "outputs": [
    {
     "data": {
      "text/html": [
       "<div>\n",
       "<style scoped>\n",
       "    .dataframe tbody tr th:only-of-type {\n",
       "        vertical-align: middle;\n",
       "    }\n",
       "\n",
       "    .dataframe tbody tr th {\n",
       "        vertical-align: top;\n",
       "    }\n",
       "\n",
       "    .dataframe thead th {\n",
       "        text-align: right;\n",
       "    }\n",
       "</style>\n",
       "<table border=\"1\" class=\"dataframe\">\n",
       "  <thead>\n",
       "    <tr style=\"text-align: right;\">\n",
       "      <th></th>\n",
       "      <th>Licitacion reparto</th>\n",
       "      <th>Importe presupuestado</th>\n",
       "      <th>Importe adjudicado</th>\n",
       "      <th>MP</th>\n",
       "      <th>Empresa sancionada</th>\n",
       "      <th>UTE</th>\n",
       "    </tr>\n",
       "  </thead>\n",
       "  <tbody>\n",
       "    <tr>\n",
       "      <th>0</th>\n",
       "      <td>0</td>\n",
       "      <td>1738093.21</td>\n",
       "      <td>1484428.72</td>\n",
       "      <td>6</td>\n",
       "      <td>1</td>\n",
       "      <td>0</td>\n",
       "    </tr>\n",
       "    <tr>\n",
       "      <th>1</th>\n",
       "      <td>0</td>\n",
       "      <td>469670.24</td>\n",
       "      <td>272492.00</td>\n",
       "      <td>4</td>\n",
       "      <td>0</td>\n",
       "      <td>0</td>\n",
       "    </tr>\n",
       "    <tr>\n",
       "      <th>2</th>\n",
       "      <td>0</td>\n",
       "      <td>1025088.19</td>\n",
       "      <td>707310.85</td>\n",
       "      <td>1</td>\n",
       "      <td>0</td>\n",
       "      <td>0</td>\n",
       "    </tr>\n",
       "    <tr>\n",
       "      <th>3</th>\n",
       "      <td>0</td>\n",
       "      <td>999890.00</td>\n",
       "      <td>497621.36</td>\n",
       "      <td>6</td>\n",
       "      <td>0</td>\n",
       "      <td>0</td>\n",
       "    </tr>\n",
       "    <tr>\n",
       "      <th>4</th>\n",
       "      <td>0</td>\n",
       "      <td>72598.27</td>\n",
       "      <td>47508.92</td>\n",
       "      <td>1</td>\n",
       "      <td>1</td>\n",
       "      <td>0</td>\n",
       "    </tr>\n",
       "    <tr>\n",
       "      <th>...</th>\n",
       "      <td>...</td>\n",
       "      <td>...</td>\n",
       "      <td>...</td>\n",
       "      <td>...</td>\n",
       "      <td>...</td>\n",
       "      <td>...</td>\n",
       "    </tr>\n",
       "    <tr>\n",
       "      <th>3697</th>\n",
       "      <td>1</td>\n",
       "      <td>25652311.00</td>\n",
       "      <td>23974592.00</td>\n",
       "      <td>6</td>\n",
       "      <td>0</td>\n",
       "      <td>0</td>\n",
       "    </tr>\n",
       "    <tr>\n",
       "      <th>3698</th>\n",
       "      <td>1</td>\n",
       "      <td>312588.00</td>\n",
       "      <td>342566.00</td>\n",
       "      <td>1</td>\n",
       "      <td>0</td>\n",
       "      <td>0</td>\n",
       "    </tr>\n",
       "    <tr>\n",
       "      <th>3699</th>\n",
       "      <td>1</td>\n",
       "      <td>140176.00</td>\n",
       "      <td>139475.00</td>\n",
       "      <td>1</td>\n",
       "      <td>0</td>\n",
       "      <td>0</td>\n",
       "    </tr>\n",
       "    <tr>\n",
       "      <th>3700</th>\n",
       "      <td>1</td>\n",
       "      <td>1573000.00</td>\n",
       "      <td>1339724.00</td>\n",
       "      <td>1</td>\n",
       "      <td>1</td>\n",
       "      <td>0</td>\n",
       "    </tr>\n",
       "    <tr>\n",
       "      <th>3701</th>\n",
       "      <td>1</td>\n",
       "      <td>2393596.00</td>\n",
       "      <td>2276722.00</td>\n",
       "      <td>6</td>\n",
       "      <td>0</td>\n",
       "      <td>0</td>\n",
       "    </tr>\n",
       "  </tbody>\n",
       "</table>\n",
       "<p>3702 rows × 6 columns</p>\n",
       "</div>"
      ],
      "text/plain": [
       "      Licitacion reparto  Importe presupuestado  Importe adjudicado  MP  \\\n",
       "0                      0             1738093.21          1484428.72   6   \n",
       "1                      0              469670.24           272492.00   4   \n",
       "2                      0             1025088.19           707310.85   1   \n",
       "3                      0              999890.00           497621.36   6   \n",
       "4                      0               72598.27            47508.92   1   \n",
       "...                  ...                    ...                 ...  ..   \n",
       "3697                   1            25652311.00         23974592.00   6   \n",
       "3698                   1              312588.00           342566.00   1   \n",
       "3699                   1              140176.00           139475.00   1   \n",
       "3700                   1             1573000.00          1339724.00   1   \n",
       "3701                   1             2393596.00          2276722.00   6   \n",
       "\n",
       "      Empresa sancionada  UTE  \n",
       "0                      1    0  \n",
       "1                      0    0  \n",
       "2                      0    0  \n",
       "3                      0    0  \n",
       "4                      1    0  \n",
       "...                  ...  ...  \n",
       "3697                   0    0  \n",
       "3698                   0    0  \n",
       "3699                   0    0  \n",
       "3700                   1    0  \n",
       "3701                   0    0  \n",
       "\n",
       "[3702 rows x 6 columns]"
      ]
     },
     "execution_count": 7,
     "metadata": {},
     "output_type": "execute_result"
    }
   ],
   "source": [
    "# conda install -c conda-forge imbalanced-learn\n",
    "ros = RandomOverSampler(random_state = 123)\n",
    "X_res, y_res = ros.fit_resample(X, y)\n",
    "df = pd.concat([y_res, X_res], axis = 1)\n",
    "df"
   ]
  },
  {
   "cell_type": "code",
   "execution_count": 8,
   "id": "c8abfcea",
   "metadata": {},
   "outputs": [
    {
     "data": {
      "image/png": "[encoded data removed]",
      "text/plain": [
       "<Figure size 640x480 with 1 Axes>"
      ]
     },
     "metadata": {},
     "output_type": "display_data"
    }
   ],
   "source": [
    "datos = [len(y_res[y_res == 1]), len(y_res[y_res == 0])]\n",
    "etiquetas = ['Licitacion reparto', 'Licitacion no reparto']\n",
    "colores = ['red', 'blue']\n",
    "\n",
    "plt.pie(datos, labels = etiquetas, colors = colores, autopct = '%1.1f%%', textprops = {'fontsize': 14, 'color': 'white'})\n",
    "plt.title('Distribución de las clases', fontsize = 20)\n",
    "plt.legend(title = \"Clases\", bbox_to_anchor=(1.7, 0.55), loc='right', fontsize = 12)\n",
    "plt.show()"
   ]
  },
  {
   "cell_type": "markdown",
   "id": "1421a9bf",
   "metadata": {},
   "source": [
    "# Se estandarizan y normalizan los predictores numericos"
   ]
  },
  {
   "cell_type": "code",
   "execution_count": 9,
   "id": "0f2eecb7",
   "metadata": {},
   "outputs": [],
   "source": [
    "predictores_numericos = df[[\"Importe presupuestado\", \"Importe adjudicado\"]]"
   ]
  },
  {
   "cell_type": "code",
   "execution_count": 10,
   "id": "f689d709",
   "metadata": {},
   "outputs": [],
   "source": [
    "scaler = StandardScaler()\n",
    "stand = scaler.fit_transform(predictores_numericos)"
   ]
  },
  {
   "cell_type": "code",
   "execution_count": 11,
   "id": "7af0d67a",
   "metadata": {},
   "outputs": [
    {
     "data": {
      "text/html": [
       "<div>\n",
       "<style scoped>\n",
       "    .dataframe tbody tr th:only-of-type {\n",
       "        vertical-align: middle;\n",
       "    }\n",
       "\n",
       "    .dataframe tbody tr th {\n",
       "        vertical-align: top;\n",
       "    }\n",
       "\n",
       "    .dataframe thead th {\n",
       "        text-align: right;\n",
       "    }\n",
       "</style>\n",
       "<table border=\"1\" class=\"dataframe\">\n",
       "  <thead>\n",
       "    <tr style=\"text-align: right;\">\n",
       "      <th></th>\n",
       "      <th>Importe presupuestado</th>\n",
       "      <th>Importe adjudicado</th>\n",
       "    </tr>\n",
       "  </thead>\n",
       "  <tbody>\n",
       "    <tr>\n",
       "      <th>0</th>\n",
       "      <td>-0.243817</td>\n",
       "      <td>-0.245165</td>\n",
       "    </tr>\n",
       "    <tr>\n",
       "      <th>1</th>\n",
       "      <td>-0.268501</td>\n",
       "      <td>-0.270829</td>\n",
       "    </tr>\n",
       "    <tr>\n",
       "      <th>2</th>\n",
       "      <td>-0.257692</td>\n",
       "      <td>-0.261621</td>\n",
       "    </tr>\n",
       "    <tr>\n",
       "      <th>3</th>\n",
       "      <td>-0.258182</td>\n",
       "      <td>-0.266062</td>\n",
       "    </tr>\n",
       "    <tr>\n",
       "      <th>4</th>\n",
       "      <td>-0.276228</td>\n",
       "      <td>-0.275593</td>\n",
       "    </tr>\n",
       "    <tr>\n",
       "      <th>...</th>\n",
       "      <td>...</td>\n",
       "      <td>...</td>\n",
       "    </tr>\n",
       "    <tr>\n",
       "      <th>3697</th>\n",
       "      <td>0.221564</td>\n",
       "      <td>0.231083</td>\n",
       "    </tr>\n",
       "    <tr>\n",
       "      <th>3698</th>\n",
       "      <td>-0.271557</td>\n",
       "      <td>-0.269345</td>\n",
       "    </tr>\n",
       "    <tr>\n",
       "      <th>3699</th>\n",
       "      <td>-0.274913</td>\n",
       "      <td>-0.273646</td>\n",
       "    </tr>\n",
       "    <tr>\n",
       "      <th>3700</th>\n",
       "      <td>-0.247029</td>\n",
       "      <td>-0.248230</td>\n",
       "    </tr>\n",
       "    <tr>\n",
       "      <th>3701</th>\n",
       "      <td>-0.231060</td>\n",
       "      <td>-0.228388</td>\n",
       "    </tr>\n",
       "  </tbody>\n",
       "</table>\n",
       "<p>3702 rows × 2 columns</p>\n",
       "</div>"
      ],
      "text/plain": [
       "      Importe presupuestado  Importe adjudicado\n",
       "0                 -0.243817           -0.245165\n",
       "1                 -0.268501           -0.270829\n",
       "2                 -0.257692           -0.261621\n",
       "3                 -0.258182           -0.266062\n",
       "4                 -0.276228           -0.275593\n",
       "...                     ...                 ...\n",
       "3697               0.221564            0.231083\n",
       "3698              -0.271557           -0.269345\n",
       "3699              -0.274913           -0.273646\n",
       "3700              -0.247029           -0.248230\n",
       "3701              -0.231060           -0.228388\n",
       "\n",
       "[3702 rows x 2 columns]"
      ]
     },
     "execution_count": 11,
     "metadata": {},
     "output_type": "execute_result"
    }
   ],
   "source": [
    "df[[\"Importe presupuestado\", \"Importe adjudicado\"]] = stand\n",
    "predictores_numericos = df[[\"Importe presupuestado\", \"Importe adjudicado\"]]\n",
    "predictores_numericos"
   ]
  },
  {
   "cell_type": "code",
   "execution_count": 12,
   "id": "18edcff2",
   "metadata": {},
   "outputs": [],
   "source": [
    "norm = (predictores_numericos - predictores_numericos.min()) / (predictores_numericos.max() - predictores_numericos.min())"
   ]
  },
  {
   "cell_type": "code",
   "execution_count": 13,
   "id": "4afbe1cb",
   "metadata": {
    "scrolled": false
   },
   "outputs": [
    {
     "data": {
      "text/html": [
       "<div>\n",
       "<style scoped>\n",
       "    .dataframe tbody tr th:only-of-type {\n",
       "        vertical-align: middle;\n",
       "    }\n",
       "\n",
       "    .dataframe tbody tr th {\n",
       "        vertical-align: top;\n",
       "    }\n",
       "\n",
       "    .dataframe thead th {\n",
       "        text-align: right;\n",
       "    }\n",
       "</style>\n",
       "<table border=\"1\" class=\"dataframe\">\n",
       "  <thead>\n",
       "    <tr style=\"text-align: right;\">\n",
       "      <th></th>\n",
       "      <th>Importe presupuestado</th>\n",
       "      <th>Importe adjudicado</th>\n",
       "    </tr>\n",
       "  </thead>\n",
       "  <tbody>\n",
       "    <tr>\n",
       "      <th>0</th>\n",
       "      <td>0.002679</td>\n",
       "      <td>0.002861</td>\n",
       "    </tr>\n",
       "    <tr>\n",
       "      <th>1</th>\n",
       "      <td>0.000699</td>\n",
       "      <td>0.000494</td>\n",
       "    </tr>\n",
       "    <tr>\n",
       "      <th>2</th>\n",
       "      <td>0.001566</td>\n",
       "      <td>0.001343</td>\n",
       "    </tr>\n",
       "    <tr>\n",
       "      <th>3</th>\n",
       "      <td>0.001526</td>\n",
       "      <td>0.000934</td>\n",
       "    </tr>\n",
       "    <tr>\n",
       "      <th>4</th>\n",
       "      <td>0.000079</td>\n",
       "      <td>0.000054</td>\n",
       "    </tr>\n",
       "    <tr>\n",
       "      <th>...</th>\n",
       "      <td>...</td>\n",
       "      <td>...</td>\n",
       "    </tr>\n",
       "    <tr>\n",
       "      <th>3697</th>\n",
       "      <td>0.039999</td>\n",
       "      <td>0.046796</td>\n",
       "    </tr>\n",
       "    <tr>\n",
       "      <th>3698</th>\n",
       "      <td>0.000454</td>\n",
       "      <td>0.000631</td>\n",
       "    </tr>\n",
       "    <tr>\n",
       "      <th>3699</th>\n",
       "      <td>0.000185</td>\n",
       "      <td>0.000234</td>\n",
       "    </tr>\n",
       "    <tr>\n",
       "      <th>3700</th>\n",
       "      <td>0.002421</td>\n",
       "      <td>0.002579</td>\n",
       "    </tr>\n",
       "    <tr>\n",
       "      <th>3701</th>\n",
       "      <td>0.003701</td>\n",
       "      <td>0.004409</td>\n",
       "    </tr>\n",
       "  </tbody>\n",
       "</table>\n",
       "<p>3702 rows × 2 columns</p>\n",
       "</div>"
      ],
      "text/plain": [
       "      Importe presupuestado  Importe adjudicado\n",
       "0                  0.002679            0.002861\n",
       "1                  0.000699            0.000494\n",
       "2                  0.001566            0.001343\n",
       "3                  0.001526            0.000934\n",
       "4                  0.000079            0.000054\n",
       "...                     ...                 ...\n",
       "3697               0.039999            0.046796\n",
       "3698               0.000454            0.000631\n",
       "3699               0.000185            0.000234\n",
       "3700               0.002421            0.002579\n",
       "3701               0.003701            0.004409\n",
       "\n",
       "[3702 rows x 2 columns]"
      ]
     },
     "execution_count": 13,
     "metadata": {},
     "output_type": "execute_result"
    }
   ],
   "source": [
    "df[[\"Importe presupuestado\", \"Importe adjudicado\"]] = norm\n",
    "predictores_numericos = df[[\"Importe presupuestado\", \"Importe adjudicado\"]]\n",
    "predictores_numericos"
   ]
  },
  {
   "cell_type": "code",
   "execution_count": 14,
   "id": "cc156033",
   "metadata": {
    "scrolled": false
   },
   "outputs": [
    {
     "data": {
      "text/html": [
       "<div>\n",
       "<style scoped>\n",
       "    .dataframe tbody tr th:only-of-type {\n",
       "        vertical-align: middle;\n",
       "    }\n",
       "\n",
       "    .dataframe tbody tr th {\n",
       "        vertical-align: top;\n",
       "    }\n",
       "\n",
       "    .dataframe thead th {\n",
       "        text-align: right;\n",
       "    }\n",
       "</style>\n",
       "<table border=\"1\" class=\"dataframe\">\n",
       "  <thead>\n",
       "    <tr style=\"text-align: right;\">\n",
       "      <th></th>\n",
       "      <th>Licitacion reparto</th>\n",
       "      <th>Importe presupuestado</th>\n",
       "      <th>Importe adjudicado</th>\n",
       "      <th>MP</th>\n",
       "      <th>Empresa sancionada</th>\n",
       "      <th>UTE</th>\n",
       "    </tr>\n",
       "  </thead>\n",
       "  <tbody>\n",
       "    <tr>\n",
       "      <th>0</th>\n",
       "      <td>0</td>\n",
       "      <td>0.002679</td>\n",
       "      <td>0.002861</td>\n",
       "      <td>6</td>\n",
       "      <td>1</td>\n",
       "      <td>0</td>\n",
       "    </tr>\n",
       "    <tr>\n",
       "      <th>1</th>\n",
       "      <td>0</td>\n",
       "      <td>0.000699</td>\n",
       "      <td>0.000494</td>\n",
       "      <td>4</td>\n",
       "      <td>0</td>\n",
       "      <td>0</td>\n",
       "    </tr>\n",
       "    <tr>\n",
       "      <th>2</th>\n",
       "      <td>0</td>\n",
       "      <td>0.001566</td>\n",
       "      <td>0.001343</td>\n",
       "      <td>1</td>\n",
       "      <td>0</td>\n",
       "      <td>0</td>\n",
       "    </tr>\n",
       "    <tr>\n",
       "      <th>3</th>\n",
       "      <td>0</td>\n",
       "      <td>0.001526</td>\n",
       "      <td>0.000934</td>\n",
       "      <td>6</td>\n",
       "      <td>0</td>\n",
       "      <td>0</td>\n",
       "    </tr>\n",
       "    <tr>\n",
       "      <th>4</th>\n",
       "      <td>0</td>\n",
       "      <td>0.000079</td>\n",
       "      <td>0.000054</td>\n",
       "      <td>1</td>\n",
       "      <td>1</td>\n",
       "      <td>0</td>\n",
       "    </tr>\n",
       "    <tr>\n",
       "      <th>...</th>\n",
       "      <td>...</td>\n",
       "      <td>...</td>\n",
       "      <td>...</td>\n",
       "      <td>...</td>\n",
       "      <td>...</td>\n",
       "      <td>...</td>\n",
       "    </tr>\n",
       "    <tr>\n",
       "      <th>3697</th>\n",
       "      <td>1</td>\n",
       "      <td>0.039999</td>\n",
       "      <td>0.046796</td>\n",
       "      <td>6</td>\n",
       "      <td>0</td>\n",
       "      <td>0</td>\n",
       "    </tr>\n",
       "    <tr>\n",
       "      <th>3698</th>\n",
       "      <td>1</td>\n",
       "      <td>0.000454</td>\n",
       "      <td>0.000631</td>\n",
       "      <td>1</td>\n",
       "      <td>0</td>\n",
       "      <td>0</td>\n",
       "    </tr>\n",
       "    <tr>\n",
       "      <th>3699</th>\n",
       "      <td>1</td>\n",
       "      <td>0.000185</td>\n",
       "      <td>0.000234</td>\n",
       "      <td>1</td>\n",
       "      <td>0</td>\n",
       "      <td>0</td>\n",
       "    </tr>\n",
       "    <tr>\n",
       "      <th>3700</th>\n",
       "      <td>1</td>\n",
       "      <td>0.002421</td>\n",
       "      <td>0.002579</td>\n",
       "      <td>1</td>\n",
       "      <td>1</td>\n",
       "      <td>0</td>\n",
       "    </tr>\n",
       "    <tr>\n",
       "      <th>3701</th>\n",
       "      <td>1</td>\n",
       "      <td>0.003701</td>\n",
       "      <td>0.004409</td>\n",
       "      <td>6</td>\n",
       "      <td>0</td>\n",
       "      <td>0</td>\n",
       "    </tr>\n",
       "  </tbody>\n",
       "</table>\n",
       "<p>3702 rows × 6 columns</p>\n",
       "</div>"
      ],
      "text/plain": [
       "      Licitacion reparto  Importe presupuestado  Importe adjudicado  MP  \\\n",
       "0                      0               0.002679            0.002861   6   \n",
       "1                      0               0.000699            0.000494   4   \n",
       "2                      0               0.001566            0.001343   1   \n",
       "3                      0               0.001526            0.000934   6   \n",
       "4                      0               0.000079            0.000054   1   \n",
       "...                  ...                    ...                 ...  ..   \n",
       "3697                   1               0.039999            0.046796   6   \n",
       "3698                   1               0.000454            0.000631   1   \n",
       "3699                   1               0.000185            0.000234   1   \n",
       "3700                   1               0.002421            0.002579   1   \n",
       "3701                   1               0.003701            0.004409   6   \n",
       "\n",
       "      Empresa sancionada  UTE  \n",
       "0                      1    0  \n",
       "1                      0    0  \n",
       "2                      0    0  \n",
       "3                      0    0  \n",
       "4                      1    0  \n",
       "...                  ...  ...  \n",
       "3697                   0    0  \n",
       "3698                   0    0  \n",
       "3699                   0    0  \n",
       "3700                   1    0  \n",
       "3701                   0    0  \n",
       "\n",
       "[3702 rows x 6 columns]"
      ]
     },
     "execution_count": 14,
     "metadata": {},
     "output_type": "execute_result"
    }
   ],
   "source": [
    "df"
   ]
  },
  {
   "cell_type": "markdown",
   "id": "c98b7bd0",
   "metadata": {},
   "source": [
    "# Codificacion OneHotEncoder"
   ]
  },
  {
   "cell_type": "code",
   "execution_count": 15,
   "id": "9fa45ae5",
   "metadata": {},
   "outputs": [],
   "source": [
    "codificador = OneHotEncoder()"
   ]
  },
  {
   "cell_type": "code",
   "execution_count": 16,
   "id": "43ec2250",
   "metadata": {},
   "outputs": [
    {
     "name": "stdout",
     "output_type": "stream",
     "text": [
      "<class 'pandas.core.frame.DataFrame'>\n",
      "RangeIndex: 3702 entries, 0 to 3701\n",
      "Data columns (total 6 columns):\n",
      " #   Column                 Non-Null Count  Dtype   \n",
      "---  ------                 --------------  -----   \n",
      " 0   Licitacion reparto     3702 non-null   int64   \n",
      " 1   Importe presupuestado  3702 non-null   float64 \n",
      " 2   Importe adjudicado     3702 non-null   float64 \n",
      " 3   MP                     3702 non-null   category\n",
      " 4   Empresa sancionada     3702 non-null   category\n",
      " 5   UTE                    3702 non-null   category\n",
      "dtypes: category(3), float64(2), int64(1)\n",
      "memory usage: 98.1 KB\n"
     ]
    }
   ],
   "source": [
    "df[[\"MP\", \"Empresa sancionada\", \"UTE\"]] = df[[\"MP\", \"Empresa sancionada\", \"UTE\"]].astype(\"category\")\n",
    "df.info()"
   ]
  },
  {
   "cell_type": "code",
   "execution_count": 17,
   "id": "7020af8c",
   "metadata": {},
   "outputs": [
    {
     "data": {
      "text/html": [
       "<div>\n",
       "<style scoped>\n",
       "    .dataframe tbody tr th:only-of-type {\n",
       "        vertical-align: middle;\n",
       "    }\n",
       "\n",
       "    .dataframe tbody tr th {\n",
       "        vertical-align: top;\n",
       "    }\n",
       "\n",
       "    .dataframe thead th {\n",
       "        text-align: right;\n",
       "    }\n",
       "</style>\n",
       "<table border=\"1\" class=\"dataframe\">\n",
       "  <thead>\n",
       "    <tr style=\"text-align: right;\">\n",
       "      <th></th>\n",
       "      <th>Licitacion reparto</th>\n",
       "      <th>Importe presupuestado</th>\n",
       "      <th>Importe adjudicado</th>\n",
       "      <th>Empresa sancionada</th>\n",
       "      <th>UTE</th>\n",
       "      <th>MP1</th>\n",
       "      <th>MP4</th>\n",
       "      <th>MP6</th>\n",
       "    </tr>\n",
       "  </thead>\n",
       "  <tbody>\n",
       "    <tr>\n",
       "      <th>0</th>\n",
       "      <td>0</td>\n",
       "      <td>0.002679</td>\n",
       "      <td>0.002861</td>\n",
       "      <td>1</td>\n",
       "      <td>0</td>\n",
       "      <td>0.0</td>\n",
       "      <td>0.0</td>\n",
       "      <td>1.0</td>\n",
       "    </tr>\n",
       "    <tr>\n",
       "      <th>1</th>\n",
       "      <td>0</td>\n",
       "      <td>0.000699</td>\n",
       "      <td>0.000494</td>\n",
       "      <td>0</td>\n",
       "      <td>0</td>\n",
       "      <td>0.0</td>\n",
       "      <td>1.0</td>\n",
       "      <td>0.0</td>\n",
       "    </tr>\n",
       "    <tr>\n",
       "      <th>2</th>\n",
       "      <td>0</td>\n",
       "      <td>0.001566</td>\n",
       "      <td>0.001343</td>\n",
       "      <td>0</td>\n",
       "      <td>0</td>\n",
       "      <td>1.0</td>\n",
       "      <td>0.0</td>\n",
       "      <td>0.0</td>\n",
       "    </tr>\n",
       "    <tr>\n",
       "      <th>3</th>\n",
       "      <td>0</td>\n",
       "      <td>0.001526</td>\n",
       "      <td>0.000934</td>\n",
       "      <td>0</td>\n",
       "      <td>0</td>\n",
       "      <td>0.0</td>\n",
       "      <td>0.0</td>\n",
       "      <td>1.0</td>\n",
       "    </tr>\n",
       "    <tr>\n",
       "      <th>4</th>\n",
       "      <td>0</td>\n",
       "      <td>0.000079</td>\n",
       "      <td>0.000054</td>\n",
       "      <td>1</td>\n",
       "      <td>0</td>\n",
       "      <td>1.0</td>\n",
       "      <td>0.0</td>\n",
       "      <td>0.0</td>\n",
       "    </tr>\n",
       "    <tr>\n",
       "      <th>...</th>\n",
       "      <td>...</td>\n",
       "      <td>...</td>\n",
       "      <td>...</td>\n",
       "      <td>...</td>\n",
       "      <td>...</td>\n",
       "      <td>...</td>\n",
       "      <td>...</td>\n",
       "      <td>...</td>\n",
       "    </tr>\n",
       "    <tr>\n",
       "      <th>3697</th>\n",
       "      <td>1</td>\n",
       "      <td>0.039999</td>\n",
       "      <td>0.046796</td>\n",
       "      <td>0</td>\n",
       "      <td>0</td>\n",
       "      <td>0.0</td>\n",
       "      <td>0.0</td>\n",
       "      <td>1.0</td>\n",
       "    </tr>\n",
       "    <tr>\n",
       "      <th>3698</th>\n",
       "      <td>1</td>\n",
       "      <td>0.000454</td>\n",
       "      <td>0.000631</td>\n",
       "      <td>0</td>\n",
       "      <td>0</td>\n",
       "      <td>1.0</td>\n",
       "      <td>0.0</td>\n",
       "      <td>0.0</td>\n",
       "    </tr>\n",
       "    <tr>\n",
       "      <th>3699</th>\n",
       "      <td>1</td>\n",
       "      <td>0.000185</td>\n",
       "      <td>0.000234</td>\n",
       "      <td>0</td>\n",
       "      <td>0</td>\n",
       "      <td>1.0</td>\n",
       "      <td>0.0</td>\n",
       "      <td>0.0</td>\n",
       "    </tr>\n",
       "    <tr>\n",
       "      <th>3700</th>\n",
       "      <td>1</td>\n",
       "      <td>0.002421</td>\n",
       "      <td>0.002579</td>\n",
       "      <td>1</td>\n",
       "      <td>0</td>\n",
       "      <td>1.0</td>\n",
       "      <td>0.0</td>\n",
       "      <td>0.0</td>\n",
       "    </tr>\n",
       "    <tr>\n",
       "      <th>3701</th>\n",
       "      <td>1</td>\n",
       "      <td>0.003701</td>\n",
       "      <td>0.004409</td>\n",
       "      <td>0</td>\n",
       "      <td>0</td>\n",
       "      <td>0.0</td>\n",
       "      <td>0.0</td>\n",
       "      <td>1.0</td>\n",
       "    </tr>\n",
       "  </tbody>\n",
       "</table>\n",
       "<p>3702 rows × 8 columns</p>\n",
       "</div>"
      ],
      "text/plain": [
       "      Licitacion reparto  Importe presupuestado  Importe adjudicado  \\\n",
       "0                      0               0.002679            0.002861   \n",
       "1                      0               0.000699            0.000494   \n",
       "2                      0               0.001566            0.001343   \n",
       "3                      0               0.001526            0.000934   \n",
       "4                      0               0.000079            0.000054   \n",
       "...                  ...                    ...                 ...   \n",
       "3697                   1               0.039999            0.046796   \n",
       "3698                   1               0.000454            0.000631   \n",
       "3699                   1               0.000185            0.000234   \n",
       "3700                   1               0.002421            0.002579   \n",
       "3701                   1               0.003701            0.004409   \n",
       "\n",
       "     Empresa sancionada UTE  MP1  MP4  MP6  \n",
       "0                     1   0  0.0  0.0  1.0  \n",
       "1                     0   0  0.0  1.0  0.0  \n",
       "2                     0   0  1.0  0.0  0.0  \n",
       "3                     0   0  0.0  0.0  1.0  \n",
       "4                     1   0  1.0  0.0  0.0  \n",
       "...                 ...  ..  ...  ...  ...  \n",
       "3697                  0   0  0.0  0.0  1.0  \n",
       "3698                  0   0  1.0  0.0  0.0  \n",
       "3699                  0   0  1.0  0.0  0.0  \n",
       "3700                  1   0  1.0  0.0  0.0  \n",
       "3701                  0   0  0.0  0.0  1.0  \n",
       "\n",
       "[3702 rows x 8 columns]"
      ]
     },
     "execution_count": 17,
     "metadata": {},
     "output_type": "execute_result"
    }
   ],
   "source": [
    "codificacion = codificador.fit_transform(df[[\"MP\"]])\n",
    "\n",
    "mercados = pd.DataFrame(codificacion.toarray(),\n",
    "                        columns = [\"MP1\", \"MP4\", \"MP6\"])\n",
    "df = pd.concat([df, mercados], axis = 1)\n",
    "df.drop(\"MP\", axis = 1, inplace = True)\n",
    "df"
   ]
  },
  {
   "cell_type": "code",
   "execution_count": 18,
   "id": "e89fa24e",
   "metadata": {},
   "outputs": [],
   "source": [
    "nombre_clases = [\"Licitacion no reparto\", \"Licitacion reparto\"]\n",
    "nombre_predicciones = list(map(lambda x : x + \" predicho\", nombre_clases))"
   ]
  },
  {
   "cell_type": "markdown",
   "id": "3bc2de74",
   "metadata": {},
   "source": [
    "# Se hace la estimacion por NaiveBayes"
   ]
  },
  {
   "cell_type": "code",
   "execution_count": 19,
   "id": "ceb24cfb",
   "metadata": {
    "scrolled": true
   },
   "outputs": [],
   "source": [
    "X = df[df.columns[1:]]\n",
    "y = df[\"Licitacion reparto\"]\n",
    "\n",
    "loo = LeaveOneOut()\n",
    "gnb = GaussianNB()\n",
    "predicciones = []\n",
    "prob_predicciones = []\n",
    "\n",
    "for train_index, test_index in loo.split(X):\n",
    "    \n",
    "    X_train, X_test = X.iloc[train_index], X.iloc[test_index]\n",
    "    y_train, y_test = y[train_index], y[test_index]\n",
    "\n",
    "    gnb.fit(X_train, y_train)\n",
    "    y_pred = gnb.predict(X_test) #son 0 o 1 dependiendo de si la probabilidad es mayor o menor a 0 o 1\n",
    "    y_pred_prob = gnb.predict_proba(X_test)\n",
    "    predicciones.append(y_pred[0])\n",
    "    prob_predicciones.append(y_pred_prob[0][1])"
   ]
  },
  {
   "cell_type": "code",
   "execution_count": 20,
   "id": "ac783eea",
   "metadata": {},
   "outputs": [
    {
     "data": {
      "text/plain": [
       "{'priors': None, 'var_smoothing': 1e-09}"
      ]
     },
     "execution_count": 20,
     "metadata": {},
     "output_type": "execute_result"
    }
   ],
   "source": [
    "gnb.get_params()"
   ]
  },
  {
   "cell_type": "code",
   "execution_count": 21,
   "id": "9f42ccb4",
   "metadata": {
    "scrolled": true
   },
   "outputs": [
    {
     "data": {
      "text/html": [
       "<div>\n",
       "<style scoped>\n",
       "    .dataframe tbody tr th:only-of-type {\n",
       "        vertical-align: middle;\n",
       "    }\n",
       "\n",
       "    .dataframe tbody tr th {\n",
       "        vertical-align: top;\n",
       "    }\n",
       "\n",
       "    .dataframe thead th {\n",
       "        text-align: right;\n",
       "    }\n",
       "</style>\n",
       "<table border=\"1\" class=\"dataframe\">\n",
       "  <thead>\n",
       "    <tr style=\"text-align: right;\">\n",
       "      <th></th>\n",
       "      <th>Licitacion reparto</th>\n",
       "      <th>Prediccion licitacion reparto</th>\n",
       "      <th>Prob prediccion</th>\n",
       "    </tr>\n",
       "  </thead>\n",
       "  <tbody>\n",
       "    <tr>\n",
       "      <th>0</th>\n",
       "      <td>0</td>\n",
       "      <td>0</td>\n",
       "      <td>0.013187</td>\n",
       "    </tr>\n",
       "    <tr>\n",
       "      <th>1</th>\n",
       "      <td>0</td>\n",
       "      <td>1</td>\n",
       "      <td>0.999650</td>\n",
       "    </tr>\n",
       "    <tr>\n",
       "      <th>2</th>\n",
       "      <td>0</td>\n",
       "      <td>0</td>\n",
       "      <td>0.459507</td>\n",
       "    </tr>\n",
       "    <tr>\n",
       "      <th>3</th>\n",
       "      <td>0</td>\n",
       "      <td>0</td>\n",
       "      <td>0.005597</td>\n",
       "    </tr>\n",
       "    <tr>\n",
       "      <th>4</th>\n",
       "      <td>0</td>\n",
       "      <td>1</td>\n",
       "      <td>0.670565</td>\n",
       "    </tr>\n",
       "    <tr>\n",
       "      <th>...</th>\n",
       "      <td>...</td>\n",
       "      <td>...</td>\n",
       "      <td>...</td>\n",
       "    </tr>\n",
       "    <tr>\n",
       "      <th>3697</th>\n",
       "      <td>1</td>\n",
       "      <td>0</td>\n",
       "      <td>0.008386</td>\n",
       "    </tr>\n",
       "    <tr>\n",
       "      <th>3698</th>\n",
       "      <td>1</td>\n",
       "      <td>0</td>\n",
       "      <td>0.457502</td>\n",
       "    </tr>\n",
       "    <tr>\n",
       "      <th>3699</th>\n",
       "      <td>1</td>\n",
       "      <td>0</td>\n",
       "      <td>0.457793</td>\n",
       "    </tr>\n",
       "    <tr>\n",
       "      <th>3700</th>\n",
       "      <td>1</td>\n",
       "      <td>1</td>\n",
       "      <td>0.666102</td>\n",
       "    </tr>\n",
       "    <tr>\n",
       "      <th>3701</th>\n",
       "      <td>1</td>\n",
       "      <td>0</td>\n",
       "      <td>0.005513</td>\n",
       "    </tr>\n",
       "  </tbody>\n",
       "</table>\n",
       "<p>3702 rows × 3 columns</p>\n",
       "</div>"
      ],
      "text/plain": [
       "      Licitacion reparto  Prediccion licitacion reparto  Prob prediccion\n",
       "0                      0                              0         0.013187\n",
       "1                      0                              1         0.999650\n",
       "2                      0                              0         0.459507\n",
       "3                      0                              0         0.005597\n",
       "4                      0                              1         0.670565\n",
       "...                  ...                            ...              ...\n",
       "3697                   1                              0         0.008386\n",
       "3698                   1                              0         0.457502\n",
       "3699                   1                              0         0.457793\n",
       "3700                   1                              1         0.666102\n",
       "3701                   1                              0         0.005513\n",
       "\n",
       "[3702 rows x 3 columns]"
      ]
     },
     "execution_count": 21,
     "metadata": {},
     "output_type": "execute_result"
    }
   ],
   "source": [
    "predicciones = pd.Series(predicciones, name = \"Prediccion licitacion reparto\")\n",
    "prob_predicciones = pd.Series(prob_predicciones, name = \"Prob prediccion\")\n",
    "cp = pd.concat([y, predicciones, prob_predicciones], axis = 1)\n",
    "cp \n",
    "# Este dataframe no contiene las predicciones calculadas en el punto optimo de la curva ROC.\n",
    "# Contiene las predicciones calculadas segun el punto por defecto para determinar las predicciones del clasificador."
   ]
  },
  {
   "cell_type": "markdown",
   "id": "f2950c77",
   "metadata": {},
   "source": [
    "# CURVA ROC. El punto optimo es = (fpr = 0, tpr = 1)"
   ]
  },
  {
   "cell_type": "code",
   "execution_count": 22,
   "id": "c3ebc4ea",
   "metadata": {},
   "outputs": [
    {
     "data": {
      "text/plain": [
       "0.7768043964729447"
      ]
     },
     "execution_count": 22,
     "metadata": {},
     "output_type": "execute_result"
    }
   ],
   "source": [
    "auc_score = roc_auc_score(y, prob_predicciones)\n",
    "auc_score"
   ]
  },
  {
   "cell_type": "code",
   "execution_count": 23,
   "id": "be4a1821",
   "metadata": {},
   "outputs": [],
   "source": [
    "fpr, tpr, thresholds = roc_curve(y, prob_predicciones)\n",
    "#fpr es 1 - especificidad = 1 - (TN / (FP + TN)) = FP / (FP + TN)\n",
    "#tpr es la sensibilidad = TP / (TP + FN)"
   ]
  },
  {
   "cell_type": "code",
   "execution_count": 24,
   "id": "d4ecdd91",
   "metadata": {},
   "outputs": [
    {
     "data": {
      "text/plain": [
       "0.09155009466032639"
      ]
     },
     "execution_count": 24,
     "metadata": {},
     "output_type": "execute_result"
    }
   ],
   "source": [
    "distances = np.linalg.norm(np.column_stack((fpr, tpr)) - np.array([0, 1]), axis=1)\n",
    "optimal_threshold_index = np.argmin(distances)\n",
    "optimal_threshold = thresholds[optimal_threshold_index]\n",
    "optimal_threshold"
   ]
  },
  {
   "cell_type": "code",
   "execution_count": 25,
   "id": "b8a0526e",
   "metadata": {},
   "outputs": [
    {
     "data": {
      "text/plain": [
       "0.2744462452728255"
      ]
     },
     "execution_count": 25,
     "metadata": {},
     "output_type": "execute_result"
    }
   ],
   "source": [
    "optimal_fpr = fpr[optimal_threshold_index]\n",
    "optimal_fpr"
   ]
  },
  {
   "cell_type": "code",
   "execution_count": 26,
   "id": "2c11dea0",
   "metadata": {},
   "outputs": [
    {
     "data": {
      "text/plain": [
       "0.8444084278768234"
      ]
     },
     "execution_count": 26,
     "metadata": {},
     "output_type": "execute_result"
    }
   ],
   "source": [
    "optimal_tpr = tpr[optimal_threshold_index]\n",
    "optimal_tpr"
   ]
  },
  {
   "cell_type": "code",
   "execution_count": 27,
   "id": "6d305500",
   "metadata": {},
   "outputs": [
    {
     "data": {
      "image/png": "[encoded data removed]",
      "text/plain": [
       "<Figure size 640x480 with 1 Axes>"
      ]
     },
     "metadata": {},
     "output_type": "display_data"
    }
   ],
   "source": [
    "plt.plot(fpr, tpr, label = f'AUC Score = {auc_score:.4}')\n",
    "plt.plot([0,1], linestyle=\"--\")\n",
    "plt.plot(optimal_fpr, optimal_tpr, 'ro')\n",
    "plt.annotate(f'      Threshold\\n óptimo = {optimal_threshold:.2}',\n",
    "             xy=(optimal_fpr, optimal_tpr), xycoords='data',\n",
    "             xytext=(-100, +20), textcoords='offset points', fontsize=10,\n",
    "             arrowprops=dict(arrowstyle=\"->\", connectionstyle = \"arc3, rad = .2\"))\n",
    "plt.ylabel('Sensibilidad')\n",
    "plt.xlabel('1 - especificidad')\n",
    "plt.title('ROC Curve')\n",
    "plt.legend(loc = 'lower right')\n",
    "plt.show()"
   ]
  },
  {
   "cell_type": "code",
   "execution_count": 28,
   "id": "a6b5f8c8",
   "metadata": {},
   "outputs": [
    {
     "data": {
      "text/plain": [
       "0       0\n",
       "1       1\n",
       "2       1\n",
       "3       0\n",
       "4       1\n",
       "       ..\n",
       "3697    0\n",
       "3698    1\n",
       "3699    1\n",
       "3700    1\n",
       "3701    0\n",
       "Length: 3702, dtype: int64"
      ]
     },
     "execution_count": 28,
     "metadata": {},
     "output_type": "execute_result"
    }
   ],
   "source": [
    "cp[\"Prediccion licitacion reparto en el punto optimo\"] = 0\n",
    "prediccion_final = cp[\"Prediccion licitacion reparto en el punto optimo\"]\n",
    "prediccion_final = cp.apply(lambda x: 1 if x[\"Prob prediccion\"] >= optimal_threshold else 0, axis=1)\n",
    "prediccion_final"
   ]
  },
  {
   "cell_type": "code",
   "execution_count": 29,
   "id": "573fadc8",
   "metadata": {},
   "outputs": [
    {
     "data": {
      "text/html": [
       "<div>\n",
       "<style scoped>\n",
       "    .dataframe tbody tr th:only-of-type {\n",
       "        vertical-align: middle;\n",
       "    }\n",
       "\n",
       "    .dataframe tbody tr th {\n",
       "        vertical-align: top;\n",
       "    }\n",
       "\n",
       "    .dataframe thead th {\n",
       "        text-align: right;\n",
       "    }\n",
       "</style>\n",
       "<table border=\"1\" class=\"dataframe\">\n",
       "  <thead>\n",
       "    <tr style=\"text-align: right;\">\n",
       "      <th></th>\n",
       "      <th>Licitacion reparto</th>\n",
       "      <th>Prob prediccion</th>\n",
       "      <th>Prediccion licitacion reparto en el punto optimo</th>\n",
       "    </tr>\n",
       "  </thead>\n",
       "  <tbody>\n",
       "    <tr>\n",
       "      <th>0</th>\n",
       "      <td>0</td>\n",
       "      <td>0.013187</td>\n",
       "      <td>0</td>\n",
       "    </tr>\n",
       "    <tr>\n",
       "      <th>1</th>\n",
       "      <td>0</td>\n",
       "      <td>0.999650</td>\n",
       "      <td>1</td>\n",
       "    </tr>\n",
       "    <tr>\n",
       "      <th>2</th>\n",
       "      <td>0</td>\n",
       "      <td>0.459507</td>\n",
       "      <td>1</td>\n",
       "    </tr>\n",
       "    <tr>\n",
       "      <th>3</th>\n",
       "      <td>0</td>\n",
       "      <td>0.005597</td>\n",
       "      <td>0</td>\n",
       "    </tr>\n",
       "    <tr>\n",
       "      <th>4</th>\n",
       "      <td>0</td>\n",
       "      <td>0.670565</td>\n",
       "      <td>1</td>\n",
       "    </tr>\n",
       "    <tr>\n",
       "      <th>...</th>\n",
       "      <td>...</td>\n",
       "      <td>...</td>\n",
       "      <td>...</td>\n",
       "    </tr>\n",
       "    <tr>\n",
       "      <th>3697</th>\n",
       "      <td>1</td>\n",
       "      <td>0.008386</td>\n",
       "      <td>0</td>\n",
       "    </tr>\n",
       "    <tr>\n",
       "      <th>3698</th>\n",
       "      <td>1</td>\n",
       "      <td>0.457502</td>\n",
       "      <td>1</td>\n",
       "    </tr>\n",
       "    <tr>\n",
       "      <th>3699</th>\n",
       "      <td>1</td>\n",
       "      <td>0.457793</td>\n",
       "      <td>1</td>\n",
       "    </tr>\n",
       "    <tr>\n",
       "      <th>3700</th>\n",
       "      <td>1</td>\n",
       "      <td>0.666102</td>\n",
       "      <td>1</td>\n",
       "    </tr>\n",
       "    <tr>\n",
       "      <th>3701</th>\n",
       "      <td>1</td>\n",
       "      <td>0.005513</td>\n",
       "      <td>0</td>\n",
       "    </tr>\n",
       "  </tbody>\n",
       "</table>\n",
       "<p>3702 rows × 3 columns</p>\n",
       "</div>"
      ],
      "text/plain": [
       "      Licitacion reparto  Prob prediccion  \\\n",
       "0                      0         0.013187   \n",
       "1                      0         0.999650   \n",
       "2                      0         0.459507   \n",
       "3                      0         0.005597   \n",
       "4                      0         0.670565   \n",
       "...                  ...              ...   \n",
       "3697                   1         0.008386   \n",
       "3698                   1         0.457502   \n",
       "3699                   1         0.457793   \n",
       "3700                   1         0.666102   \n",
       "3701                   1         0.005513   \n",
       "\n",
       "      Prediccion licitacion reparto en el punto optimo  \n",
       "0                                                    0  \n",
       "1                                                    1  \n",
       "2                                                    1  \n",
       "3                                                    0  \n",
       "4                                                    1  \n",
       "...                                                ...  \n",
       "3697                                                 0  \n",
       "3698                                                 1  \n",
       "3699                                                 1  \n",
       "3700                                                 1  \n",
       "3701                                                 0  \n",
       "\n",
       "[3702 rows x 3 columns]"
      ]
     },
     "execution_count": 29,
     "metadata": {},
     "output_type": "execute_result"
    }
   ],
   "source": [
    "cp[\"Prediccion licitacion reparto en el punto optimo\"] = prediccion_final\n",
    "pd.concat([cp, prediccion_final], axis = 1)\n",
    "cp.drop(columns = \"Prediccion licitacion reparto\", axis = 1, inplace = True)\n",
    "cp"
   ]
  },
  {
   "cell_type": "code",
   "execution_count": 30,
   "id": "3798561a",
   "metadata": {},
   "outputs": [
    {
     "data": {
      "text/html": [
       "<div>\n",
       "<style scoped>\n",
       "    .dataframe tbody tr th:only-of-type {\n",
       "        vertical-align: middle;\n",
       "    }\n",
       "\n",
       "    .dataframe tbody tr th {\n",
       "        vertical-align: top;\n",
       "    }\n",
       "\n",
       "    .dataframe thead th {\n",
       "        text-align: right;\n",
       "    }\n",
       "</style>\n",
       "<table border=\"1\" class=\"dataframe\">\n",
       "  <thead>\n",
       "    <tr style=\"text-align: right;\">\n",
       "      <th></th>\n",
       "      <th>Licitacion no reparto</th>\n",
       "      <th>Licitacion reparto</th>\n",
       "    </tr>\n",
       "  </thead>\n",
       "  <tbody>\n",
       "    <tr>\n",
       "      <th>Licitacion no reparto predicho</th>\n",
       "      <td>1343</td>\n",
       "      <td>508</td>\n",
       "    </tr>\n",
       "    <tr>\n",
       "      <th>Licitacion reparto predicho</th>\n",
       "      <td>288</td>\n",
       "      <td>1563</td>\n",
       "    </tr>\n",
       "  </tbody>\n",
       "</table>\n",
       "</div>"
      ],
      "text/plain": [
       "                                Licitacion no reparto  Licitacion reparto\n",
       "Licitacion no reparto predicho                   1343                 508\n",
       "Licitacion reparto predicho                       288                1563"
      ]
     },
     "execution_count": 30,
     "metadata": {},
     "output_type": "execute_result"
    }
   ],
   "source": [
    "cm = confusion_matrix(y, cp[\"Prediccion licitacion reparto en el punto optimo\"]) # matriz de confusion\n",
    "cm = pd.DataFrame(cm, columns = nombre_clases, index = nombre_predicciones)\n",
    "cm # esta matriz de confusion esta calculada en el punto optimo de la curva"
   ]
  },
  {
   "cell_type": "markdown",
   "id": "c748cf9d",
   "metadata": {},
   "source": [
    "# Metricas de la Matriz de Confusion"
   ]
  },
  {
   "cell_type": "code",
   "execution_count": 31,
   "id": "8afa34f8",
   "metadata": {},
   "outputs": [],
   "source": [
    "TP = cm.iloc[1,1]\n",
    "FN = cm.iloc[1,0]\n",
    "FP = cm.iloc[0,1]\n",
    "TN = cm.iloc[0,0]"
   ]
  },
  {
   "cell_type": "code",
   "execution_count": 32,
   "id": "8bb93deb",
   "metadata": {},
   "outputs": [
    {
     "data": {
      "text/plain": [
       "0.7849810913019989"
      ]
     },
     "execution_count": 32,
     "metadata": {},
     "output_type": "execute_result"
    }
   ],
   "source": [
    "Tasa_de_aciertos = (TP + TN) / len(df)\n",
    "Tasa_de_aciertos"
   ]
  },
  {
   "cell_type": "code",
   "execution_count": 33,
   "id": "a4018ce3",
   "metadata": {},
   "outputs": [
    {
     "data": {
      "text/plain": [
       "0.2150189086980011"
      ]
     },
     "execution_count": 33,
     "metadata": {},
     "output_type": "execute_result"
    }
   ],
   "source": [
    "Tasa_de_errores = 1 - Tasa_de_aciertos\n",
    "Tasa_de_errores"
   ]
  },
  {
   "cell_type": "code",
   "execution_count": 34,
   "id": "6dbd07ff",
   "metadata": {},
   "outputs": [
    {
     "data": {
      "text/plain": [
       "0.8444084278768234"
      ]
     },
     "execution_count": 34,
     "metadata": {},
     "output_type": "execute_result"
    }
   ],
   "source": [
    "Sensibilidad = TP / (TP + FN)\n",
    "Sensibilidad # se calculo antes. Es optimal_tpr"
   ]
  },
  {
   "cell_type": "code",
   "execution_count": 35,
   "id": "00db5dc5",
   "metadata": {},
   "outputs": [
    {
     "data": {
      "text/plain": [
       "0.15559157212317665"
      ]
     },
     "execution_count": 35,
     "metadata": {},
     "output_type": "execute_result"
    }
   ],
   "source": [
    "Tasa_de_falsos_negativos = 1 - Sensibilidad\n",
    "Tasa_de_falsos_negativos"
   ]
  },
  {
   "cell_type": "code",
   "execution_count": 36,
   "id": "9d936f06",
   "metadata": {},
   "outputs": [
    {
     "data": {
      "text/plain": [
       "0.7255537547271745"
      ]
     },
     "execution_count": 36,
     "metadata": {},
     "output_type": "execute_result"
    }
   ],
   "source": [
    "Especificidad = TN / (FP + TN)\n",
    "Especificidad # se calculo antes. Es optimal_fpr = 1 - Especificidad "
   ]
  },
  {
   "cell_type": "code",
   "execution_count": 37,
   "id": "010bf09a",
   "metadata": {},
   "outputs": [
    {
     "data": {
      "text/plain": [
       "0.754707870593916"
      ]
     },
     "execution_count": 37,
     "metadata": {},
     "output_type": "execute_result"
    }
   ],
   "source": [
    "Precision = TP / (TP + FP)\n",
    "Precision"
   ]
  },
  {
   "cell_type": "code",
   "execution_count": 38,
   "id": "2015d6b2",
   "metadata": {
    "scrolled": true
   },
   "outputs": [
    {
     "data": {
      "text/plain": [
       "0.24529212940608403"
      ]
     },
     "execution_count": 38,
     "metadata": {},
     "output_type": "execute_result"
    }
   ],
   "source": [
    "FP / (FP + TP) # 1 - Precision"
   ]
  },
  {
   "cell_type": "code",
   "execution_count": 39,
   "id": "9ac08a94",
   "metadata": {},
   "outputs": [
    {
     "data": {
      "text/plain": [
       "0.7970423253442122"
      ]
     },
     "execution_count": 39,
     "metadata": {},
     "output_type": "execute_result"
    }
   ],
   "source": [
    "F1 = (2 * Sensibilidad * Precision) / (Sensibilidad + Precision)\n",
    "F1"
   ]
  },
  {
   "cell_type": "markdown",
   "id": "1a41aab6",
   "metadata": {},
   "source": [
    "# Métricas de clasificación binaria en el punto óptimo"
   ]
  },
  {
   "cell_type": "code",
   "execution_count": 40,
   "id": "a5bf65a5",
   "metadata": {},
   "outputs": [],
   "source": [
    "nombre_fichero = \"Clasificacion binaria Sobre_Muestreo gnb\""
   ]
  },
  {
   "cell_type": "code",
   "execution_count": 41,
   "id": "6509a2a9",
   "metadata": {},
   "outputs": [
    {
     "data": {
      "text/html": [
       "<div>\n",
       "<style scoped>\n",
       "    .dataframe tbody tr th:only-of-type {\n",
       "        vertical-align: middle;\n",
       "    }\n",
       "\n",
       "    .dataframe tbody tr th {\n",
       "        vertical-align: top;\n",
       "    }\n",
       "\n",
       "    .dataframe thead th {\n",
       "        text-align: right;\n",
       "    }\n",
       "</style>\n",
       "<table border=\"1\" class=\"dataframe\">\n",
       "  <thead>\n",
       "    <tr style=\"text-align: right;\">\n",
       "      <th></th>\n",
       "      <th>Clasificacion binaria Sobre_Muestreo gnb</th>\n",
       "    </tr>\n",
       "  </thead>\n",
       "  <tbody>\n",
       "    <tr>\n",
       "      <th>Tasa de aciertos</th>\n",
       "      <td>0.784981</td>\n",
       "    </tr>\n",
       "    <tr>\n",
       "      <th>Sensibilidad</th>\n",
       "      <td>0.844408</td>\n",
       "    </tr>\n",
       "    <tr>\n",
       "      <th>Especificidad</th>\n",
       "      <td>0.725554</td>\n",
       "    </tr>\n",
       "    <tr>\n",
       "      <th>Precision</th>\n",
       "      <td>0.754708</td>\n",
       "    </tr>\n",
       "    <tr>\n",
       "      <th>F1</th>\n",
       "      <td>0.797042</td>\n",
       "    </tr>\n",
       "  </tbody>\n",
       "</table>\n",
       "</div>"
      ],
      "text/plain": [
       "                  Clasificacion binaria Sobre_Muestreo gnb\n",
       "Tasa de aciertos                                  0.784981\n",
       "Sensibilidad                                      0.844408\n",
       "Especificidad                                     0.725554\n",
       "Precision                                         0.754708\n",
       "F1                                                0.797042"
      ]
     },
     "execution_count": 41,
     "metadata": {},
     "output_type": "execute_result"
    }
   ],
   "source": [
    "indice_resultados = [\"Tasa de aciertos\", \"Sensibilidad\", \"Especificidad\", \"Precision\", \"F1\"]\n",
    "resultados_valores = [Tasa_de_aciertos, Sensibilidad, Especificidad, Precision, F1]\n",
    "\n",
    "resultados = pd.DataFrame(data={f\"{nombre_fichero}\": resultados_valores},\n",
    "                          index=indice_resultados)\n",
    "resultados"
   ]
  },
  {
   "cell_type": "markdown",
   "id": "73673649",
   "metadata": {},
   "source": [
    "## Se exportan los datos"
   ]
  },
  {
   "cell_type": "code",
   "execution_count": 42,
   "id": "0058247b",
   "metadata": {},
   "outputs": [],
   "source": [
    "nombre_columna = list(resultados.columns)[0]\n",
    "resultados.to_excel(f\"Resultados de las métricas de {nombre_fichero}.xlsx\")"
   ]
  },
  {
   "cell_type": "code",
   "execution_count": 43,
   "id": "54f83870",
   "metadata": {},
   "outputs": [
    {
     "data": {
      "text/plain": [
       "0.7246651538832807"
      ]
     },
     "execution_count": 43,
     "metadata": {},
     "output_type": "execute_result"
    }
   ],
   "source": [
    "average_precision = average_precision_score(y, prob_predicciones)\n",
    "average_precision"
   ]
  },
  {
   "cell_type": "code",
   "execution_count": 44,
   "id": "5be48f90",
   "metadata": {},
   "outputs": [],
   "source": [
    "precision, recall, thresholds = precision_recall_curve(y, prob_predicciones)\n",
    "#precision = TP / (TP + FP)\n",
    "#recall = sensibilidad = TP / (TP + FN)"
   ]
  },
  {
   "cell_type": "code",
   "execution_count": 45,
   "id": "feb4ea4a",
   "metadata": {},
   "outputs": [
    {
     "data": {
      "text/plain": [
       "0.029688669730336868"
      ]
     },
     "execution_count": 45,
     "metadata": {},
     "output_type": "execute_result"
    }
   ],
   "source": [
    "distances = np.linalg.norm(np.column_stack((precision, recall)) - np.array([1, 1]), axis=1)\n",
    "optimal_threshold_index = np.argmin(distances)\n",
    "optimal_threshold = thresholds[optimal_threshold_index]\n",
    "optimal_threshold"
   ]
  },
  {
   "cell_type": "code",
   "execution_count": 46,
   "id": "d4eb969d",
   "metadata": {},
   "outputs": [
    {
     "data": {
      "text/plain": [
       "0.7454545454545455"
      ]
     },
     "execution_count": 46,
     "metadata": {},
     "output_type": "execute_result"
    }
   ],
   "source": [
    "optimal_precision = precision[optimal_threshold_index]\n",
    "optimal_precision"
   ]
  },
  {
   "cell_type": "code",
   "execution_count": 47,
   "id": "651c4070",
   "metadata": {},
   "outputs": [
    {
     "data": {
      "text/plain": [
       "0.8860075634792004"
      ]
     },
     "execution_count": 47,
     "metadata": {},
     "output_type": "execute_result"
    }
   ],
   "source": [
    "optimal_recall = recall[optimal_threshold_index]\n",
    "optimal_recall"
   ]
  },
  {
   "cell_type": "markdown",
   "id": "0ef7383b",
   "metadata": {},
   "source": [
    "# CURVA PR. El punto óptimo es = (precision = 1, recall = 1)"
   ]
  },
  {
   "cell_type": "code",
   "execution_count": 48,
   "id": "63d6b26b",
   "metadata": {
    "scrolled": false
   },
   "outputs": [
    {
     "data": {
      "image/png": "[encoded data removed]",
      "text/plain": [
       "<Figure size 640x480 with 1 Axes>"
      ]
     },
     "metadata": {},
     "output_type": "display_data"
    }
   ],
   "source": [
    "plt.plot(recall, precision, label = f'APS Score = {average_precision:.4}')\n",
    "plt.plot(optimal_recall, optimal_precision, 'ro')\n",
    "plt.annotate(f'      Threshold\\n óptimo = {optimal_threshold:.2}',\n",
    "             xy=(optimal_recall, optimal_precision), xycoords='data',\n",
    "             xytext=(-50, +40) ,textcoords='offset points', fontsize=10,\n",
    "             arrowprops=dict(arrowstyle=\"->\", connectionstyle = \"arc3, rad = .2\"))\n",
    "plt.ylabel('Precision')\n",
    "plt.xlabel('Recall')\n",
    "plt.title('PR Curve')\n",
    "plt.legend(loc = 'upper left')\n",
    "plt.ylim(0, 1.01)\n",
    "plt.show()"
   ]
  },
  {
   "cell_type": "markdown",
   "id": "30150983",
   "metadata": {},
   "source": [
    "# Se calcula cuanto tiempo ha transcurrido en la ejecucion de todo el notebook y se guarda el tiempo en un fichero de texto para almacenarlo."
   ]
  },
  {
   "cell_type": "code",
   "execution_count": 49,
   "id": "cbd2e910",
   "metadata": {},
   "outputs": [],
   "source": [
    "fin = time.time()\n",
    "tiempo_transcurrido = fin - inicio\n",
    "minutos = int((tiempo_transcurrido % 3600) // 60)\n",
    "segundos = int(tiempo_transcurrido % 60)\n",
    "with open(f\"Tiempo de ejecucion transcurrido en el notebook {nombre_fichero}.txt\", \"w\") as f :\n",
    "    f.write(f\"Tiempo transcurrido: {minutos} minutos, {segundos} segundos\")"
   ]
  },
  {
   "cell_type": "code",
   "execution_count": 50,
   "id": "ac05bd17",
   "metadata": {},
   "outputs": [
    {
     "name": "stdout",
     "output_type": "stream",
     "text": [
      "Tiempo transcurrido: 0 minutos, 20 segundos\n"
     ]
    }
   ],
   "source": [
    "print(f\"Tiempo transcurrido: {minutos} minutos, {segundos} segundos\")"
   ]
  }
 ],
 "metadata": {
  "kernelspec": {
   "display_name": "Python 3 (ipykernel)",
   "language": "python",
   "name": "python3"
  },
  "language_info": {
   "codemirror_mode": {
    "name": "ipython",
    "version": 3
   },
   "file_extension": ".py",
   "mimetype": "text/x-python",
   "name": "python",
   "nbconvert_exporter": "python",
   "pygments_lexer": "ipython3",
   "version": "3.9.13"
  }
 },
 "nbformat": 4,
 "nbformat_minor": 5
}
