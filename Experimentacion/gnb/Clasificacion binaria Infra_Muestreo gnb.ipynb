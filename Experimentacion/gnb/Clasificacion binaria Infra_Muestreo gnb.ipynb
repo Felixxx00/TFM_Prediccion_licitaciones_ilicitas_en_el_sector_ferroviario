{
 "cells": [
  {
   "cell_type": "code",
   "execution_count": 1,
   "id": "0d3f2278",
   "metadata": {},
   "outputs": [],
   "source": [
    "import time\n",
    "inicio = time.time()"
   ]
  },
  {
   "cell_type": "code",
   "execution_count": 2,
   "id": "93625c5a",
   "metadata": {},
   "outputs": [],
   "source": [
    "import os\n",
    "import pandas as pd\n",
    "import numpy as np\n",
    "import matplotlib.pyplot as plt\n",
    "\n",
    "from imblearn.under_sampling import ClusterCentroids\n",
    "# el muestreo aleatorio simple sin reemplazamiento no sirve porque no capta la variabilidad de la clase minoritaria.\n",
    "from sklearn.preprocessing import OneHotEncoder\n",
    "from sklearn.preprocessing import StandardScaler\n",
    "\n",
    "from sklearn.model_selection import LeaveOneOut\n",
    "\n",
    "from sklearn.naive_bayes import GaussianNB\n",
    "\n",
    "from sklearn.metrics import confusion_matrix\n",
    "from sklearn.metrics import roc_auc_score\n",
    "from sklearn.metrics import roc_curve\n",
    "from sklearn.metrics import average_precision_score\n",
    "from sklearn.metrics import precision_recall_curve"
   ]
  },
  {
   "cell_type": "markdown",
   "id": "0c9e6fdb",
   "metadata": {},
   "source": [
    "# Se importan los datos"
   ]
  },
  {
   "cell_type": "code",
   "execution_count": 3,
   "id": "4fbba252",
   "metadata": {},
   "outputs": [],
   "source": [
    "df = pd.read_excel(\"..//Base_datos_Clasificacion binaria.xlsx\", index_col = 0)"
   ]
  },
  {
   "cell_type": "code",
   "execution_count": 4,
   "id": "6702f0ab",
   "metadata": {
    "scrolled": true
   },
   "outputs": [
    {
     "data": {
      "text/html": [
       "<div>\n",
       "<style scoped>\n",
       "    .dataframe tbody tr th:only-of-type {\n",
       "        vertical-align: middle;\n",
       "    }\n",
       "\n",
       "    .dataframe tbody tr th {\n",
       "        vertical-align: top;\n",
       "    }\n",
       "\n",
       "    .dataframe thead th {\n",
       "        text-align: right;\n",
       "    }\n",
       "</style>\n",
       "<table border=\"1\" class=\"dataframe\">\n",
       "  <thead>\n",
       "    <tr style=\"text-align: right;\">\n",
       "      <th></th>\n",
       "      <th>Licitacion reparto</th>\n",
       "      <th>Importe presupuestado</th>\n",
       "      <th>Importe adjudicado</th>\n",
       "      <th>MP</th>\n",
       "      <th>Empresa sancionada</th>\n",
       "      <th>UTE</th>\n",
       "    </tr>\n",
       "  </thead>\n",
       "  <tbody>\n",
       "    <tr>\n",
       "      <th>0</th>\n",
       "      <td>0</td>\n",
       "      <td>1738093.21</td>\n",
       "      <td>1484428.72</td>\n",
       "      <td>6</td>\n",
       "      <td>1</td>\n",
       "      <td>0</td>\n",
       "    </tr>\n",
       "    <tr>\n",
       "      <th>1</th>\n",
       "      <td>0</td>\n",
       "      <td>469670.24</td>\n",
       "      <td>272492.00</td>\n",
       "      <td>4</td>\n",
       "      <td>0</td>\n",
       "      <td>0</td>\n",
       "    </tr>\n",
       "    <tr>\n",
       "      <th>2</th>\n",
       "      <td>0</td>\n",
       "      <td>1025088.19</td>\n",
       "      <td>707310.85</td>\n",
       "      <td>1</td>\n",
       "      <td>0</td>\n",
       "      <td>0</td>\n",
       "    </tr>\n",
       "    <tr>\n",
       "      <th>3</th>\n",
       "      <td>0</td>\n",
       "      <td>999890.00</td>\n",
       "      <td>497621.36</td>\n",
       "      <td>6</td>\n",
       "      <td>0</td>\n",
       "      <td>0</td>\n",
       "    </tr>\n",
       "    <tr>\n",
       "      <th>4</th>\n",
       "      <td>0</td>\n",
       "      <td>72598.27</td>\n",
       "      <td>47508.92</td>\n",
       "      <td>1</td>\n",
       "      <td>1</td>\n",
       "      <td>0</td>\n",
       "    </tr>\n",
       "    <tr>\n",
       "      <th>...</th>\n",
       "      <td>...</td>\n",
       "      <td>...</td>\n",
       "      <td>...</td>\n",
       "      <td>...</td>\n",
       "      <td>...</td>\n",
       "      <td>...</td>\n",
       "    </tr>\n",
       "    <tr>\n",
       "      <th>2211</th>\n",
       "      <td>1</td>\n",
       "      <td>5542028.88</td>\n",
       "      <td>5514320.00</td>\n",
       "      <td>6</td>\n",
       "      <td>1</td>\n",
       "      <td>0</td>\n",
       "    </tr>\n",
       "    <tr>\n",
       "      <th>2212</th>\n",
       "      <td>1</td>\n",
       "      <td>6095782.00</td>\n",
       "      <td>5100555.00</td>\n",
       "      <td>6</td>\n",
       "      <td>1</td>\n",
       "      <td>0</td>\n",
       "    </tr>\n",
       "    <tr>\n",
       "      <th>2213</th>\n",
       "      <td>1</td>\n",
       "      <td>3752906.00</td>\n",
       "      <td>3744400.00</td>\n",
       "      <td>6</td>\n",
       "      <td>1</td>\n",
       "      <td>0</td>\n",
       "    </tr>\n",
       "    <tr>\n",
       "      <th>2214</th>\n",
       "      <td>1</td>\n",
       "      <td>23896564.00</td>\n",
       "      <td>19547338.00</td>\n",
       "      <td>6</td>\n",
       "      <td>0</td>\n",
       "      <td>1</td>\n",
       "    </tr>\n",
       "    <tr>\n",
       "      <th>2215</th>\n",
       "      <td>1</td>\n",
       "      <td>33415098.00</td>\n",
       "      <td>33349532.00</td>\n",
       "      <td>6</td>\n",
       "      <td>1</td>\n",
       "      <td>0</td>\n",
       "    </tr>\n",
       "  </tbody>\n",
       "</table>\n",
       "<p>2216 rows × 6 columns</p>\n",
       "</div>"
      ],
      "text/plain": [
       "      Licitacion reparto  Importe presupuestado  Importe adjudicado  MP  \\\n",
       "0                      0             1738093.21          1484428.72   6   \n",
       "1                      0              469670.24           272492.00   4   \n",
       "2                      0             1025088.19           707310.85   1   \n",
       "3                      0              999890.00           497621.36   6   \n",
       "4                      0               72598.27            47508.92   1   \n",
       "...                  ...                    ...                 ...  ..   \n",
       "2211                   1             5542028.88          5514320.00   6   \n",
       "2212                   1             6095782.00          5100555.00   6   \n",
       "2213                   1             3752906.00          3744400.00   6   \n",
       "2214                   1            23896564.00         19547338.00   6   \n",
       "2215                   1            33415098.00         33349532.00   6   \n",
       "\n",
       "      Empresa sancionada  UTE  \n",
       "0                      1    0  \n",
       "1                      0    0  \n",
       "2                      0    0  \n",
       "3                      0    0  \n",
       "4                      1    0  \n",
       "...                  ...  ...  \n",
       "2211                   1    0  \n",
       "2212                   1    0  \n",
       "2213                   1    0  \n",
       "2214                   0    1  \n",
       "2215                   1    0  \n",
       "\n",
       "[2216 rows x 6 columns]"
      ]
     },
     "execution_count": 4,
     "metadata": {},
     "output_type": "execute_result"
    }
   ],
   "source": [
    "df"
   ]
  },
  {
   "cell_type": "markdown",
   "id": "ab903540",
   "metadata": {},
   "source": [
    "# Se trata el desbalanceo de clases mediante una tecnica de Infra - Muestreo. Hay que instalar la libreria imbalanced - learn"
   ]
  },
  {
   "cell_type": "code",
   "execution_count": 5,
   "id": "5270a02e",
   "metadata": {},
   "outputs": [],
   "source": [
    "y = df[\"Licitacion reparto\"]\n",
    "X = df[df.columns[1:]]"
   ]
  },
  {
   "cell_type": "code",
   "execution_count": 6,
   "id": "83beafa2",
   "metadata": {},
   "outputs": [
    {
     "data": {
      "image/png": "[encoded data removed]",
      "text/plain": [
       "<Figure size 640x480 with 1 Axes>"
      ]
     },
     "metadata": {},
     "output_type": "display_data"
    }
   ],
   "source": [
    "datos = [len(y[y == 1]), len(y[y == 0])]\n",
    "etiquetas = ['Licitacion reparto', 'Licitacion no reparto']\n",
    "colores = ['red', 'blue']\n",
    "\n",
    "plt.pie(datos, labels = etiquetas, colors = colores, autopct = '%1.1f%%', textprops = {'fontsize': 14, 'color': 'white'})\n",
    "plt.title('Distribución de las clases', fontsize = 20)\n",
    "plt.legend(title = \"Clases\", bbox_to_anchor=(1.7, 0.55), loc='right', fontsize = 12)\n",
    "plt.show()"
   ]
  },
  {
   "cell_type": "markdown",
   "id": "c98b7bd0",
   "metadata": {},
   "source": [
    "# Codificacion OneHotEncoder"
   ]
  },
  {
   "cell_type": "code",
   "execution_count": 7,
   "id": "9fa45ae5",
   "metadata": {},
   "outputs": [],
   "source": [
    "codificador = OneHotEncoder()"
   ]
  },
  {
   "cell_type": "code",
   "execution_count": 8,
   "id": "43ec2250",
   "metadata": {},
   "outputs": [
    {
     "name": "stdout",
     "output_type": "stream",
     "text": [
      "<class 'pandas.core.frame.DataFrame'>\n",
      "Int64Index: 2216 entries, 0 to 2215\n",
      "Data columns (total 6 columns):\n",
      " #   Column                 Non-Null Count  Dtype  \n",
      "---  ------                 --------------  -----  \n",
      " 0   Licitacion reparto     2216 non-null   int64  \n",
      " 1   Importe presupuestado  2216 non-null   float64\n",
      " 2   Importe adjudicado     2216 non-null   float64\n",
      " 3   MP                     2216 non-null   float64\n",
      " 4   Empresa sancionada     2216 non-null   float64\n",
      " 5   UTE                    2216 non-null   float64\n",
      "dtypes: float64(5), int64(1)\n",
      "memory usage: 121.2 KB\n"
     ]
    }
   ],
   "source": [
    "df[[\"MP\", \"Empresa sancionada\", \"UTE\"]] = df[[\"MP\", \"Empresa sancionada\", \"UTE\"]].astype(\"float\")\n",
    "df.info()"
   ]
  },
  {
   "cell_type": "code",
   "execution_count": 9,
   "id": "db40f085",
   "metadata": {},
   "outputs": [
    {
     "data": {
      "text/html": [
       "<div>\n",
       "<style scoped>\n",
       "    .dataframe tbody tr th:only-of-type {\n",
       "        vertical-align: middle;\n",
       "    }\n",
       "\n",
       "    .dataframe tbody tr th {\n",
       "        vertical-align: top;\n",
       "    }\n",
       "\n",
       "    .dataframe thead th {\n",
       "        text-align: right;\n",
       "    }\n",
       "</style>\n",
       "<table border=\"1\" class=\"dataframe\">\n",
       "  <thead>\n",
       "    <tr style=\"text-align: right;\">\n",
       "      <th></th>\n",
       "      <th>Licitacion reparto</th>\n",
       "      <th>Importe presupuestado</th>\n",
       "      <th>Importe adjudicado</th>\n",
       "      <th>MP</th>\n",
       "      <th>Empresa sancionada</th>\n",
       "      <th>UTE</th>\n",
       "    </tr>\n",
       "  </thead>\n",
       "  <tbody>\n",
       "    <tr>\n",
       "      <th>0</th>\n",
       "      <td>0</td>\n",
       "      <td>1738093.21</td>\n",
       "      <td>1484428.72</td>\n",
       "      <td>6.0</td>\n",
       "      <td>1.0</td>\n",
       "      <td>0.0</td>\n",
       "    </tr>\n",
       "    <tr>\n",
       "      <th>1</th>\n",
       "      <td>0</td>\n",
       "      <td>469670.24</td>\n",
       "      <td>272492.00</td>\n",
       "      <td>4.0</td>\n",
       "      <td>0.0</td>\n",
       "      <td>0.0</td>\n",
       "    </tr>\n",
       "    <tr>\n",
       "      <th>2</th>\n",
       "      <td>0</td>\n",
       "      <td>1025088.19</td>\n",
       "      <td>707310.85</td>\n",
       "      <td>1.0</td>\n",
       "      <td>0.0</td>\n",
       "      <td>0.0</td>\n",
       "    </tr>\n",
       "    <tr>\n",
       "      <th>3</th>\n",
       "      <td>0</td>\n",
       "      <td>999890.00</td>\n",
       "      <td>497621.36</td>\n",
       "      <td>6.0</td>\n",
       "      <td>0.0</td>\n",
       "      <td>0.0</td>\n",
       "    </tr>\n",
       "    <tr>\n",
       "      <th>4</th>\n",
       "      <td>0</td>\n",
       "      <td>72598.27</td>\n",
       "      <td>47508.92</td>\n",
       "      <td>1.0</td>\n",
       "      <td>1.0</td>\n",
       "      <td>0.0</td>\n",
       "    </tr>\n",
       "    <tr>\n",
       "      <th>...</th>\n",
       "      <td>...</td>\n",
       "      <td>...</td>\n",
       "      <td>...</td>\n",
       "      <td>...</td>\n",
       "      <td>...</td>\n",
       "      <td>...</td>\n",
       "    </tr>\n",
       "    <tr>\n",
       "      <th>2211</th>\n",
       "      <td>1</td>\n",
       "      <td>5542028.88</td>\n",
       "      <td>5514320.00</td>\n",
       "      <td>6.0</td>\n",
       "      <td>1.0</td>\n",
       "      <td>0.0</td>\n",
       "    </tr>\n",
       "    <tr>\n",
       "      <th>2212</th>\n",
       "      <td>1</td>\n",
       "      <td>6095782.00</td>\n",
       "      <td>5100555.00</td>\n",
       "      <td>6.0</td>\n",
       "      <td>1.0</td>\n",
       "      <td>0.0</td>\n",
       "    </tr>\n",
       "    <tr>\n",
       "      <th>2213</th>\n",
       "      <td>1</td>\n",
       "      <td>3752906.00</td>\n",
       "      <td>3744400.00</td>\n",
       "      <td>6.0</td>\n",
       "      <td>1.0</td>\n",
       "      <td>0.0</td>\n",
       "    </tr>\n",
       "    <tr>\n",
       "      <th>2214</th>\n",
       "      <td>1</td>\n",
       "      <td>23896564.00</td>\n",
       "      <td>19547338.00</td>\n",
       "      <td>6.0</td>\n",
       "      <td>0.0</td>\n",
       "      <td>1.0</td>\n",
       "    </tr>\n",
       "    <tr>\n",
       "      <th>2215</th>\n",
       "      <td>1</td>\n",
       "      <td>33415098.00</td>\n",
       "      <td>33349532.00</td>\n",
       "      <td>6.0</td>\n",
       "      <td>1.0</td>\n",
       "      <td>0.0</td>\n",
       "    </tr>\n",
       "  </tbody>\n",
       "</table>\n",
       "<p>2216 rows × 6 columns</p>\n",
       "</div>"
      ],
      "text/plain": [
       "      Licitacion reparto  Importe presupuestado  Importe adjudicado   MP  \\\n",
       "0                      0             1738093.21          1484428.72  6.0   \n",
       "1                      0              469670.24           272492.00  4.0   \n",
       "2                      0             1025088.19           707310.85  1.0   \n",
       "3                      0              999890.00           497621.36  6.0   \n",
       "4                      0               72598.27            47508.92  1.0   \n",
       "...                  ...                    ...                 ...  ...   \n",
       "2211                   1             5542028.88          5514320.00  6.0   \n",
       "2212                   1             6095782.00          5100555.00  6.0   \n",
       "2213                   1             3752906.00          3744400.00  6.0   \n",
       "2214                   1            23896564.00         19547338.00  6.0   \n",
       "2215                   1            33415098.00         33349532.00  6.0   \n",
       "\n",
       "      Empresa sancionada  UTE  \n",
       "0                    1.0  0.0  \n",
       "1                    0.0  0.0  \n",
       "2                    0.0  0.0  \n",
       "3                    0.0  0.0  \n",
       "4                    1.0  0.0  \n",
       "...                  ...  ...  \n",
       "2211                 1.0  0.0  \n",
       "2212                 1.0  0.0  \n",
       "2213                 1.0  0.0  \n",
       "2214                 0.0  1.0  \n",
       "2215                 1.0  0.0  \n",
       "\n",
       "[2216 rows x 6 columns]"
      ]
     },
     "execution_count": 9,
     "metadata": {},
     "output_type": "execute_result"
    }
   ],
   "source": [
    "df"
   ]
  },
  {
   "cell_type": "code",
   "execution_count": 10,
   "id": "7020af8c",
   "metadata": {},
   "outputs": [
    {
     "data": {
      "text/html": [
       "<div>\n",
       "<style scoped>\n",
       "    .dataframe tbody tr th:only-of-type {\n",
       "        vertical-align: middle;\n",
       "    }\n",
       "\n",
       "    .dataframe tbody tr th {\n",
       "        vertical-align: top;\n",
       "    }\n",
       "\n",
       "    .dataframe thead th {\n",
       "        text-align: right;\n",
       "    }\n",
       "</style>\n",
       "<table border=\"1\" class=\"dataframe\">\n",
       "  <thead>\n",
       "    <tr style=\"text-align: right;\">\n",
       "      <th></th>\n",
       "      <th>Licitacion reparto</th>\n",
       "      <th>Importe presupuestado</th>\n",
       "      <th>Importe adjudicado</th>\n",
       "      <th>Empresa sancionada</th>\n",
       "      <th>UTE</th>\n",
       "      <th>MP1</th>\n",
       "      <th>MP4</th>\n",
       "      <th>MP6</th>\n",
       "    </tr>\n",
       "  </thead>\n",
       "  <tbody>\n",
       "    <tr>\n",
       "      <th>0</th>\n",
       "      <td>0</td>\n",
       "      <td>1738093.21</td>\n",
       "      <td>1484428.72</td>\n",
       "      <td>1.0</td>\n",
       "      <td>0.0</td>\n",
       "      <td>0.0</td>\n",
       "      <td>0.0</td>\n",
       "      <td>1.0</td>\n",
       "    </tr>\n",
       "    <tr>\n",
       "      <th>1</th>\n",
       "      <td>0</td>\n",
       "      <td>469670.24</td>\n",
       "      <td>272492.00</td>\n",
       "      <td>0.0</td>\n",
       "      <td>0.0</td>\n",
       "      <td>0.0</td>\n",
       "      <td>1.0</td>\n",
       "      <td>0.0</td>\n",
       "    </tr>\n",
       "    <tr>\n",
       "      <th>2</th>\n",
       "      <td>0</td>\n",
       "      <td>1025088.19</td>\n",
       "      <td>707310.85</td>\n",
       "      <td>0.0</td>\n",
       "      <td>0.0</td>\n",
       "      <td>1.0</td>\n",
       "      <td>0.0</td>\n",
       "      <td>0.0</td>\n",
       "    </tr>\n",
       "    <tr>\n",
       "      <th>3</th>\n",
       "      <td>0</td>\n",
       "      <td>999890.00</td>\n",
       "      <td>497621.36</td>\n",
       "      <td>0.0</td>\n",
       "      <td>0.0</td>\n",
       "      <td>0.0</td>\n",
       "      <td>0.0</td>\n",
       "      <td>1.0</td>\n",
       "    </tr>\n",
       "    <tr>\n",
       "      <th>4</th>\n",
       "      <td>0</td>\n",
       "      <td>72598.27</td>\n",
       "      <td>47508.92</td>\n",
       "      <td>1.0</td>\n",
       "      <td>0.0</td>\n",
       "      <td>1.0</td>\n",
       "      <td>0.0</td>\n",
       "      <td>0.0</td>\n",
       "    </tr>\n",
       "    <tr>\n",
       "      <th>...</th>\n",
       "      <td>...</td>\n",
       "      <td>...</td>\n",
       "      <td>...</td>\n",
       "      <td>...</td>\n",
       "      <td>...</td>\n",
       "      <td>...</td>\n",
       "      <td>...</td>\n",
       "      <td>...</td>\n",
       "    </tr>\n",
       "    <tr>\n",
       "      <th>2211</th>\n",
       "      <td>1</td>\n",
       "      <td>5542028.88</td>\n",
       "      <td>5514320.00</td>\n",
       "      <td>1.0</td>\n",
       "      <td>0.0</td>\n",
       "      <td>0.0</td>\n",
       "      <td>0.0</td>\n",
       "      <td>1.0</td>\n",
       "    </tr>\n",
       "    <tr>\n",
       "      <th>2212</th>\n",
       "      <td>1</td>\n",
       "      <td>6095782.00</td>\n",
       "      <td>5100555.00</td>\n",
       "      <td>1.0</td>\n",
       "      <td>0.0</td>\n",
       "      <td>0.0</td>\n",
       "      <td>0.0</td>\n",
       "      <td>1.0</td>\n",
       "    </tr>\n",
       "    <tr>\n",
       "      <th>2213</th>\n",
       "      <td>1</td>\n",
       "      <td>3752906.00</td>\n",
       "      <td>3744400.00</td>\n",
       "      <td>1.0</td>\n",
       "      <td>0.0</td>\n",
       "      <td>0.0</td>\n",
       "      <td>0.0</td>\n",
       "      <td>1.0</td>\n",
       "    </tr>\n",
       "    <tr>\n",
       "      <th>2214</th>\n",
       "      <td>1</td>\n",
       "      <td>23896564.00</td>\n",
       "      <td>19547338.00</td>\n",
       "      <td>0.0</td>\n",
       "      <td>1.0</td>\n",
       "      <td>0.0</td>\n",
       "      <td>0.0</td>\n",
       "      <td>1.0</td>\n",
       "    </tr>\n",
       "    <tr>\n",
       "      <th>2215</th>\n",
       "      <td>1</td>\n",
       "      <td>33415098.00</td>\n",
       "      <td>33349532.00</td>\n",
       "      <td>1.0</td>\n",
       "      <td>0.0</td>\n",
       "      <td>0.0</td>\n",
       "      <td>0.0</td>\n",
       "      <td>1.0</td>\n",
       "    </tr>\n",
       "  </tbody>\n",
       "</table>\n",
       "<p>2216 rows × 8 columns</p>\n",
       "</div>"
      ],
      "text/plain": [
       "      Licitacion reparto  Importe presupuestado  Importe adjudicado  \\\n",
       "0                      0             1738093.21          1484428.72   \n",
       "1                      0              469670.24           272492.00   \n",
       "2                      0             1025088.19           707310.85   \n",
       "3                      0              999890.00           497621.36   \n",
       "4                      0               72598.27            47508.92   \n",
       "...                  ...                    ...                 ...   \n",
       "2211                   1             5542028.88          5514320.00   \n",
       "2212                   1             6095782.00          5100555.00   \n",
       "2213                   1             3752906.00          3744400.00   \n",
       "2214                   1            23896564.00         19547338.00   \n",
       "2215                   1            33415098.00         33349532.00   \n",
       "\n",
       "      Empresa sancionada  UTE  MP1  MP4  MP6  \n",
       "0                    1.0  0.0  0.0  0.0  1.0  \n",
       "1                    0.0  0.0  0.0  1.0  0.0  \n",
       "2                    0.0  0.0  1.0  0.0  0.0  \n",
       "3                    0.0  0.0  0.0  0.0  1.0  \n",
       "4                    1.0  0.0  1.0  0.0  0.0  \n",
       "...                  ...  ...  ...  ...  ...  \n",
       "2211                 1.0  0.0  0.0  0.0  1.0  \n",
       "2212                 1.0  0.0  0.0  0.0  1.0  \n",
       "2213                 1.0  0.0  0.0  0.0  1.0  \n",
       "2214                 0.0  1.0  0.0  0.0  1.0  \n",
       "2215                 1.0  0.0  0.0  0.0  1.0  \n",
       "\n",
       "[2216 rows x 8 columns]"
      ]
     },
     "execution_count": 10,
     "metadata": {},
     "output_type": "execute_result"
    }
   ],
   "source": [
    "codificacion = codificador.fit_transform(df[[\"MP\"]])\n",
    "\n",
    "mercados = pd.DataFrame(codificacion.toarray(),\n",
    "                        columns = [\"MP1\", \"MP4\", \"MP6\"])\n",
    "df.drop(\"MP\", axis = 1, inplace = True)\n",
    "df.reset_index(inplace = True, drop = True)\n",
    "df = pd.concat([df, mercados], axis = 1)\n",
    "df"
   ]
  },
  {
   "cell_type": "code",
   "execution_count": 11,
   "id": "d87087ad",
   "metadata": {},
   "outputs": [],
   "source": [
    "y = df[\"Licitacion reparto\"]\n",
    "X = df[df.columns[1:]]"
   ]
  },
  {
   "cell_type": "code",
   "execution_count": 12,
   "id": "e89fa24e",
   "metadata": {},
   "outputs": [],
   "source": [
    "nombre_clases = [\"Licitacion no reparto\", \"Licitacion reparto\"]\n",
    "nombre_predicciones = list(map(lambda x : x + \" predicho\", nombre_clases))"
   ]
  },
  {
   "cell_type": "markdown",
   "id": "548ae894",
   "metadata": {},
   "source": [
    "### Se utiliza la técnica \"ClusterCentroids\" que reemplaza las observaciones por un centroide dado por los k vecinos más cercanos."
   ]
  },
  {
   "cell_type": "code",
   "execution_count": 13,
   "id": "bda0c9b0",
   "metadata": {},
   "outputs": [
    {
     "data": {
      "text/html": [
       "<div>\n",
       "<style scoped>\n",
       "    .dataframe tbody tr th:only-of-type {\n",
       "        vertical-align: middle;\n",
       "    }\n",
       "\n",
       "    .dataframe tbody tr th {\n",
       "        vertical-align: top;\n",
       "    }\n",
       "\n",
       "    .dataframe thead th {\n",
       "        text-align: right;\n",
       "    }\n",
       "</style>\n",
       "<table border=\"1\" class=\"dataframe\">\n",
       "  <thead>\n",
       "    <tr style=\"text-align: right;\">\n",
       "      <th></th>\n",
       "      <th>Licitacion reparto</th>\n",
       "      <th>Importe presupuestado</th>\n",
       "      <th>Importe adjudicado</th>\n",
       "      <th>Empresa sancionada</th>\n",
       "      <th>UTE</th>\n",
       "      <th>MP1</th>\n",
       "      <th>MP4</th>\n",
       "      <th>MP6</th>\n",
       "    </tr>\n",
       "  </thead>\n",
       "  <tbody>\n",
       "    <tr>\n",
       "      <th>0</th>\n",
       "      <td>0</td>\n",
       "      <td>6.776405e+04</td>\n",
       "      <td>6.312591e+04</td>\n",
       "      <td>0.287037</td>\n",
       "      <td>0.037037</td>\n",
       "      <td>0.083333</td>\n",
       "      <td>0.009259</td>\n",
       "      <td>0.907407</td>\n",
       "    </tr>\n",
       "    <tr>\n",
       "      <th>1</th>\n",
       "      <td>0</td>\n",
       "      <td>3.563140e+08</td>\n",
       "      <td>2.915613e+08</td>\n",
       "      <td>0.000000</td>\n",
       "      <td>1.000000</td>\n",
       "      <td>0.000000</td>\n",
       "      <td>0.000000</td>\n",
       "      <td>1.000000</td>\n",
       "    </tr>\n",
       "    <tr>\n",
       "      <th>2</th>\n",
       "      <td>0</td>\n",
       "      <td>6.513581e+07</td>\n",
       "      <td>6.513581e+07</td>\n",
       "      <td>0.000000</td>\n",
       "      <td>0.000000</td>\n",
       "      <td>1.000000</td>\n",
       "      <td>0.000000</td>\n",
       "      <td>0.000000</td>\n",
       "    </tr>\n",
       "    <tr>\n",
       "      <th>3</th>\n",
       "      <td>0</td>\n",
       "      <td>6.407947e+08</td>\n",
       "      <td>5.119260e+08</td>\n",
       "      <td>0.000000</td>\n",
       "      <td>1.000000</td>\n",
       "      <td>0.000000</td>\n",
       "      <td>0.000000</td>\n",
       "      <td>1.000000</td>\n",
       "    </tr>\n",
       "    <tr>\n",
       "      <th>4</th>\n",
       "      <td>0</td>\n",
       "      <td>2.458220e+07</td>\n",
       "      <td>2.428981e+07</td>\n",
       "      <td>1.000000</td>\n",
       "      <td>1.000000</td>\n",
       "      <td>1.000000</td>\n",
       "      <td>0.000000</td>\n",
       "      <td>0.000000</td>\n",
       "    </tr>\n",
       "    <tr>\n",
       "      <th>...</th>\n",
       "      <td>...</td>\n",
       "      <td>...</td>\n",
       "      <td>...</td>\n",
       "      <td>...</td>\n",
       "      <td>...</td>\n",
       "      <td>...</td>\n",
       "      <td>...</td>\n",
       "      <td>...</td>\n",
       "    </tr>\n",
       "    <tr>\n",
       "      <th>725</th>\n",
       "      <td>1</td>\n",
       "      <td>5.542029e+06</td>\n",
       "      <td>5.514320e+06</td>\n",
       "      <td>1.000000</td>\n",
       "      <td>0.000000</td>\n",
       "      <td>0.000000</td>\n",
       "      <td>0.000000</td>\n",
       "      <td>1.000000</td>\n",
       "    </tr>\n",
       "    <tr>\n",
       "      <th>726</th>\n",
       "      <td>1</td>\n",
       "      <td>6.095782e+06</td>\n",
       "      <td>5.100555e+06</td>\n",
       "      <td>1.000000</td>\n",
       "      <td>0.000000</td>\n",
       "      <td>0.000000</td>\n",
       "      <td>0.000000</td>\n",
       "      <td>1.000000</td>\n",
       "    </tr>\n",
       "    <tr>\n",
       "      <th>727</th>\n",
       "      <td>1</td>\n",
       "      <td>3.752906e+06</td>\n",
       "      <td>3.744400e+06</td>\n",
       "      <td>1.000000</td>\n",
       "      <td>0.000000</td>\n",
       "      <td>0.000000</td>\n",
       "      <td>0.000000</td>\n",
       "      <td>1.000000</td>\n",
       "    </tr>\n",
       "    <tr>\n",
       "      <th>728</th>\n",
       "      <td>1</td>\n",
       "      <td>2.389656e+07</td>\n",
       "      <td>1.954734e+07</td>\n",
       "      <td>0.000000</td>\n",
       "      <td>1.000000</td>\n",
       "      <td>0.000000</td>\n",
       "      <td>0.000000</td>\n",
       "      <td>1.000000</td>\n",
       "    </tr>\n",
       "    <tr>\n",
       "      <th>729</th>\n",
       "      <td>1</td>\n",
       "      <td>3.341510e+07</td>\n",
       "      <td>3.334953e+07</td>\n",
       "      <td>1.000000</td>\n",
       "      <td>0.000000</td>\n",
       "      <td>0.000000</td>\n",
       "      <td>0.000000</td>\n",
       "      <td>1.000000</td>\n",
       "    </tr>\n",
       "  </tbody>\n",
       "</table>\n",
       "<p>730 rows × 8 columns</p>\n",
       "</div>"
      ],
      "text/plain": [
       "     Licitacion reparto  Importe presupuestado  Importe adjudicado  \\\n",
       "0                     0           6.776405e+04        6.312591e+04   \n",
       "1                     0           3.563140e+08        2.915613e+08   \n",
       "2                     0           6.513581e+07        6.513581e+07   \n",
       "3                     0           6.407947e+08        5.119260e+08   \n",
       "4                     0           2.458220e+07        2.428981e+07   \n",
       "..                  ...                    ...                 ...   \n",
       "725                   1           5.542029e+06        5.514320e+06   \n",
       "726                   1           6.095782e+06        5.100555e+06   \n",
       "727                   1           3.752906e+06        3.744400e+06   \n",
       "728                   1           2.389656e+07        1.954734e+07   \n",
       "729                   1           3.341510e+07        3.334953e+07   \n",
       "\n",
       "     Empresa sancionada       UTE       MP1       MP4       MP6  \n",
       "0              0.287037  0.037037  0.083333  0.009259  0.907407  \n",
       "1              0.000000  1.000000  0.000000  0.000000  1.000000  \n",
       "2              0.000000  0.000000  1.000000  0.000000  0.000000  \n",
       "3              0.000000  1.000000  0.000000  0.000000  1.000000  \n",
       "4              1.000000  1.000000  1.000000  0.000000  0.000000  \n",
       "..                  ...       ...       ...       ...       ...  \n",
       "725            1.000000  0.000000  0.000000  0.000000  1.000000  \n",
       "726            1.000000  0.000000  0.000000  0.000000  1.000000  \n",
       "727            1.000000  0.000000  0.000000  0.000000  1.000000  \n",
       "728            0.000000  1.000000  0.000000  0.000000  1.000000  \n",
       "729            1.000000  0.000000  0.000000  0.000000  1.000000  \n",
       "\n",
       "[730 rows x 8 columns]"
      ]
     },
     "execution_count": 13,
     "metadata": {},
     "output_type": "execute_result"
    }
   ],
   "source": [
    "# conda install -c conda-forge imbalanced-learn\n",
    "cc = ClusterCentroids(random_state=123)\n",
    "X_res, y_res = cc.fit_resample(X, y)\n",
    "df = pd.concat([y_res, X_res], axis = 1)\n",
    "df"
   ]
  },
  {
   "cell_type": "code",
   "execution_count": 14,
   "id": "c8abfcea",
   "metadata": {},
   "outputs": [
    {
     "data": {
      "image/png": "[encoded data removed]",
      "text/plain": [
       "<Figure size 640x480 with 1 Axes>"
      ]
     },
     "metadata": {},
     "output_type": "display_data"
    }
   ],
   "source": [
    "datos = [len(y_res[y_res == 1]), len(y_res[y_res == 0])]\n",
    "etiquetas = ['Licitacion reparto', 'Licitacion no reparto']\n",
    "colores = ['red', 'blue']\n",
    "\n",
    "plt.pie(datos, labels = etiquetas, colors = colores, autopct = '%1.1f%%', textprops = {'fontsize': 14, 'color': 'white'})\n",
    "plt.title('Distribución de las clases', fontsize = 20)\n",
    "plt.legend(title = \"Clases\", bbox_to_anchor=(1.7, 0.55), loc='right', fontsize = 12)\n",
    "plt.show()"
   ]
  },
  {
   "cell_type": "code",
   "execution_count": 15,
   "id": "cc156033",
   "metadata": {
    "scrolled": false
   },
   "outputs": [
    {
     "data": {
      "text/html": [
       "<div>\n",
       "<style scoped>\n",
       "    .dataframe tbody tr th:only-of-type {\n",
       "        vertical-align: middle;\n",
       "    }\n",
       "\n",
       "    .dataframe tbody tr th {\n",
       "        vertical-align: top;\n",
       "    }\n",
       "\n",
       "    .dataframe thead th {\n",
       "        text-align: right;\n",
       "    }\n",
       "</style>\n",
       "<table border=\"1\" class=\"dataframe\">\n",
       "  <thead>\n",
       "    <tr style=\"text-align: right;\">\n",
       "      <th></th>\n",
       "      <th>Licitacion reparto</th>\n",
       "      <th>Importe presupuestado</th>\n",
       "      <th>Importe adjudicado</th>\n",
       "      <th>Empresa sancionada</th>\n",
       "      <th>UTE</th>\n",
       "      <th>MP1</th>\n",
       "      <th>MP4</th>\n",
       "      <th>MP6</th>\n",
       "    </tr>\n",
       "  </thead>\n",
       "  <tbody>\n",
       "    <tr>\n",
       "      <th>0</th>\n",
       "      <td>0</td>\n",
       "      <td>6.776405e+04</td>\n",
       "      <td>6.312591e+04</td>\n",
       "      <td>0.287037</td>\n",
       "      <td>0.037037</td>\n",
       "      <td>0.083333</td>\n",
       "      <td>0.009259</td>\n",
       "      <td>0.907407</td>\n",
       "    </tr>\n",
       "    <tr>\n",
       "      <th>1</th>\n",
       "      <td>0</td>\n",
       "      <td>3.563140e+08</td>\n",
       "      <td>2.915613e+08</td>\n",
       "      <td>0.000000</td>\n",
       "      <td>1.000000</td>\n",
       "      <td>0.000000</td>\n",
       "      <td>0.000000</td>\n",
       "      <td>1.000000</td>\n",
       "    </tr>\n",
       "    <tr>\n",
       "      <th>2</th>\n",
       "      <td>0</td>\n",
       "      <td>6.513581e+07</td>\n",
       "      <td>6.513581e+07</td>\n",
       "      <td>0.000000</td>\n",
       "      <td>0.000000</td>\n",
       "      <td>1.000000</td>\n",
       "      <td>0.000000</td>\n",
       "      <td>0.000000</td>\n",
       "    </tr>\n",
       "    <tr>\n",
       "      <th>3</th>\n",
       "      <td>0</td>\n",
       "      <td>6.407947e+08</td>\n",
       "      <td>5.119260e+08</td>\n",
       "      <td>0.000000</td>\n",
       "      <td>1.000000</td>\n",
       "      <td>0.000000</td>\n",
       "      <td>0.000000</td>\n",
       "      <td>1.000000</td>\n",
       "    </tr>\n",
       "    <tr>\n",
       "      <th>4</th>\n",
       "      <td>0</td>\n",
       "      <td>2.458220e+07</td>\n",
       "      <td>2.428981e+07</td>\n",
       "      <td>1.000000</td>\n",
       "      <td>1.000000</td>\n",
       "      <td>1.000000</td>\n",
       "      <td>0.000000</td>\n",
       "      <td>0.000000</td>\n",
       "    </tr>\n",
       "    <tr>\n",
       "      <th>...</th>\n",
       "      <td>...</td>\n",
       "      <td>...</td>\n",
       "      <td>...</td>\n",
       "      <td>...</td>\n",
       "      <td>...</td>\n",
       "      <td>...</td>\n",
       "      <td>...</td>\n",
       "      <td>...</td>\n",
       "    </tr>\n",
       "    <tr>\n",
       "      <th>725</th>\n",
       "      <td>1</td>\n",
       "      <td>5.542029e+06</td>\n",
       "      <td>5.514320e+06</td>\n",
       "      <td>1.000000</td>\n",
       "      <td>0.000000</td>\n",
       "      <td>0.000000</td>\n",
       "      <td>0.000000</td>\n",
       "      <td>1.000000</td>\n",
       "    </tr>\n",
       "    <tr>\n",
       "      <th>726</th>\n",
       "      <td>1</td>\n",
       "      <td>6.095782e+06</td>\n",
       "      <td>5.100555e+06</td>\n",
       "      <td>1.000000</td>\n",
       "      <td>0.000000</td>\n",
       "      <td>0.000000</td>\n",
       "      <td>0.000000</td>\n",
       "      <td>1.000000</td>\n",
       "    </tr>\n",
       "    <tr>\n",
       "      <th>727</th>\n",
       "      <td>1</td>\n",
       "      <td>3.752906e+06</td>\n",
       "      <td>3.744400e+06</td>\n",
       "      <td>1.000000</td>\n",
       "      <td>0.000000</td>\n",
       "      <td>0.000000</td>\n",
       "      <td>0.000000</td>\n",
       "      <td>1.000000</td>\n",
       "    </tr>\n",
       "    <tr>\n",
       "      <th>728</th>\n",
       "      <td>1</td>\n",
       "      <td>2.389656e+07</td>\n",
       "      <td>1.954734e+07</td>\n",
       "      <td>0.000000</td>\n",
       "      <td>1.000000</td>\n",
       "      <td>0.000000</td>\n",
       "      <td>0.000000</td>\n",
       "      <td>1.000000</td>\n",
       "    </tr>\n",
       "    <tr>\n",
       "      <th>729</th>\n",
       "      <td>1</td>\n",
       "      <td>3.341510e+07</td>\n",
       "      <td>3.334953e+07</td>\n",
       "      <td>1.000000</td>\n",
       "      <td>0.000000</td>\n",
       "      <td>0.000000</td>\n",
       "      <td>0.000000</td>\n",
       "      <td>1.000000</td>\n",
       "    </tr>\n",
       "  </tbody>\n",
       "</table>\n",
       "<p>730 rows × 8 columns</p>\n",
       "</div>"
      ],
      "text/plain": [
       "     Licitacion reparto  Importe presupuestado  Importe adjudicado  \\\n",
       "0                     0           6.776405e+04        6.312591e+04   \n",
       "1                     0           3.563140e+08        2.915613e+08   \n",
       "2                     0           6.513581e+07        6.513581e+07   \n",
       "3                     0           6.407947e+08        5.119260e+08   \n",
       "4                     0           2.458220e+07        2.428981e+07   \n",
       "..                  ...                    ...                 ...   \n",
       "725                   1           5.542029e+06        5.514320e+06   \n",
       "726                   1           6.095782e+06        5.100555e+06   \n",
       "727                   1           3.752906e+06        3.744400e+06   \n",
       "728                   1           2.389656e+07        1.954734e+07   \n",
       "729                   1           3.341510e+07        3.334953e+07   \n",
       "\n",
       "     Empresa sancionada       UTE       MP1       MP4       MP6  \n",
       "0              0.287037  0.037037  0.083333  0.009259  0.907407  \n",
       "1              0.000000  1.000000  0.000000  0.000000  1.000000  \n",
       "2              0.000000  0.000000  1.000000  0.000000  0.000000  \n",
       "3              0.000000  1.000000  0.000000  0.000000  1.000000  \n",
       "4              1.000000  1.000000  1.000000  0.000000  0.000000  \n",
       "..                  ...       ...       ...       ...       ...  \n",
       "725            1.000000  0.000000  0.000000  0.000000  1.000000  \n",
       "726            1.000000  0.000000  0.000000  0.000000  1.000000  \n",
       "727            1.000000  0.000000  0.000000  0.000000  1.000000  \n",
       "728            0.000000  1.000000  0.000000  0.000000  1.000000  \n",
       "729            1.000000  0.000000  0.000000  0.000000  1.000000  \n",
       "\n",
       "[730 rows x 8 columns]"
      ]
     },
     "execution_count": 15,
     "metadata": {},
     "output_type": "execute_result"
    }
   ],
   "source": [
    "df"
   ]
  },
  {
   "cell_type": "code",
   "execution_count": 16,
   "id": "99684232",
   "metadata": {},
   "outputs": [
    {
     "data": {
      "text/html": [
       "<div>\n",
       "<style scoped>\n",
       "    .dataframe tbody tr th:only-of-type {\n",
       "        vertical-align: middle;\n",
       "    }\n",
       "\n",
       "    .dataframe tbody tr th {\n",
       "        vertical-align: top;\n",
       "    }\n",
       "\n",
       "    .dataframe thead th {\n",
       "        text-align: right;\n",
       "    }\n",
       "</style>\n",
       "<table border=\"1\" class=\"dataframe\">\n",
       "  <thead>\n",
       "    <tr style=\"text-align: right;\">\n",
       "      <th></th>\n",
       "      <th>UTE</th>\n",
       "      <th>MP1</th>\n",
       "      <th>MP4</th>\n",
       "      <th>MP6</th>\n",
       "    </tr>\n",
       "  </thead>\n",
       "  <tbody>\n",
       "    <tr>\n",
       "      <th>0</th>\n",
       "      <td>0</td>\n",
       "      <td>0</td>\n",
       "      <td>0</td>\n",
       "      <td>1</td>\n",
       "    </tr>\n",
       "    <tr>\n",
       "      <th>1</th>\n",
       "      <td>1</td>\n",
       "      <td>0</td>\n",
       "      <td>0</td>\n",
       "      <td>1</td>\n",
       "    </tr>\n",
       "    <tr>\n",
       "      <th>2</th>\n",
       "      <td>0</td>\n",
       "      <td>1</td>\n",
       "      <td>0</td>\n",
       "      <td>0</td>\n",
       "    </tr>\n",
       "    <tr>\n",
       "      <th>3</th>\n",
       "      <td>1</td>\n",
       "      <td>0</td>\n",
       "      <td>0</td>\n",
       "      <td>1</td>\n",
       "    </tr>\n",
       "    <tr>\n",
       "      <th>4</th>\n",
       "      <td>1</td>\n",
       "      <td>1</td>\n",
       "      <td>0</td>\n",
       "      <td>0</td>\n",
       "    </tr>\n",
       "    <tr>\n",
       "      <th>...</th>\n",
       "      <td>...</td>\n",
       "      <td>...</td>\n",
       "      <td>...</td>\n",
       "      <td>...</td>\n",
       "    </tr>\n",
       "    <tr>\n",
       "      <th>725</th>\n",
       "      <td>0</td>\n",
       "      <td>0</td>\n",
       "      <td>0</td>\n",
       "      <td>1</td>\n",
       "    </tr>\n",
       "    <tr>\n",
       "      <th>726</th>\n",
       "      <td>0</td>\n",
       "      <td>0</td>\n",
       "      <td>0</td>\n",
       "      <td>1</td>\n",
       "    </tr>\n",
       "    <tr>\n",
       "      <th>727</th>\n",
       "      <td>0</td>\n",
       "      <td>0</td>\n",
       "      <td>0</td>\n",
       "      <td>1</td>\n",
       "    </tr>\n",
       "    <tr>\n",
       "      <th>728</th>\n",
       "      <td>1</td>\n",
       "      <td>0</td>\n",
       "      <td>0</td>\n",
       "      <td>1</td>\n",
       "    </tr>\n",
       "    <tr>\n",
       "      <th>729</th>\n",
       "      <td>0</td>\n",
       "      <td>0</td>\n",
       "      <td>0</td>\n",
       "      <td>1</td>\n",
       "    </tr>\n",
       "  </tbody>\n",
       "</table>\n",
       "<p>730 rows × 4 columns</p>\n",
       "</div>"
      ],
      "text/plain": [
       "     UTE  MP1  MP4  MP6\n",
       "0      0    0    0    1\n",
       "1      1    0    0    1\n",
       "2      0    1    0    0\n",
       "3      1    0    0    1\n",
       "4      1    1    0    0\n",
       "..   ...  ...  ...  ...\n",
       "725    0    0    0    1\n",
       "726    0    0    0    1\n",
       "727    0    0    0    1\n",
       "728    1    0    0    1\n",
       "729    0    0    0    1\n",
       "\n",
       "[730 rows x 4 columns]"
      ]
     },
     "execution_count": 16,
     "metadata": {},
     "output_type": "execute_result"
    }
   ],
   "source": [
    "df[df.columns[4:]] = df[df.columns[4:]].applymap(lambda x : 1 if x >= 0.5 else 0)\n",
    "df[df.columns[4:]]"
   ]
  },
  {
   "cell_type": "code",
   "execution_count": 17,
   "id": "c2563ff3",
   "metadata": {},
   "outputs": [
    {
     "data": {
      "text/html": [
       "<div>\n",
       "<style scoped>\n",
       "    .dataframe tbody tr th:only-of-type {\n",
       "        vertical-align: middle;\n",
       "    }\n",
       "\n",
       "    .dataframe tbody tr th {\n",
       "        vertical-align: top;\n",
       "    }\n",
       "\n",
       "    .dataframe thead th {\n",
       "        text-align: right;\n",
       "    }\n",
       "</style>\n",
       "<table border=\"1\" class=\"dataframe\">\n",
       "  <thead>\n",
       "    <tr style=\"text-align: right;\">\n",
       "      <th></th>\n",
       "      <th>Licitacion reparto</th>\n",
       "      <th>Importe presupuestado</th>\n",
       "      <th>Importe adjudicado</th>\n",
       "      <th>Empresa sancionada</th>\n",
       "      <th>UTE</th>\n",
       "      <th>MP1</th>\n",
       "      <th>MP4</th>\n",
       "      <th>MP6</th>\n",
       "    </tr>\n",
       "  </thead>\n",
       "  <tbody>\n",
       "    <tr>\n",
       "      <th>0</th>\n",
       "      <td>0</td>\n",
       "      <td>6.776405e+04</td>\n",
       "      <td>6.312591e+04</td>\n",
       "      <td>0.287037</td>\n",
       "      <td>0</td>\n",
       "      <td>0</td>\n",
       "      <td>0</td>\n",
       "      <td>1</td>\n",
       "    </tr>\n",
       "    <tr>\n",
       "      <th>1</th>\n",
       "      <td>0</td>\n",
       "      <td>3.563140e+08</td>\n",
       "      <td>2.915613e+08</td>\n",
       "      <td>0.000000</td>\n",
       "      <td>1</td>\n",
       "      <td>0</td>\n",
       "      <td>0</td>\n",
       "      <td>1</td>\n",
       "    </tr>\n",
       "    <tr>\n",
       "      <th>2</th>\n",
       "      <td>0</td>\n",
       "      <td>6.513581e+07</td>\n",
       "      <td>6.513581e+07</td>\n",
       "      <td>0.000000</td>\n",
       "      <td>0</td>\n",
       "      <td>1</td>\n",
       "      <td>0</td>\n",
       "      <td>0</td>\n",
       "    </tr>\n",
       "    <tr>\n",
       "      <th>3</th>\n",
       "      <td>0</td>\n",
       "      <td>6.407947e+08</td>\n",
       "      <td>5.119260e+08</td>\n",
       "      <td>0.000000</td>\n",
       "      <td>1</td>\n",
       "      <td>0</td>\n",
       "      <td>0</td>\n",
       "      <td>1</td>\n",
       "    </tr>\n",
       "    <tr>\n",
       "      <th>4</th>\n",
       "      <td>0</td>\n",
       "      <td>2.458220e+07</td>\n",
       "      <td>2.428981e+07</td>\n",
       "      <td>1.000000</td>\n",
       "      <td>1</td>\n",
       "      <td>1</td>\n",
       "      <td>0</td>\n",
       "      <td>0</td>\n",
       "    </tr>\n",
       "    <tr>\n",
       "      <th>...</th>\n",
       "      <td>...</td>\n",
       "      <td>...</td>\n",
       "      <td>...</td>\n",
       "      <td>...</td>\n",
       "      <td>...</td>\n",
       "      <td>...</td>\n",
       "      <td>...</td>\n",
       "      <td>...</td>\n",
       "    </tr>\n",
       "    <tr>\n",
       "      <th>725</th>\n",
       "      <td>1</td>\n",
       "      <td>5.542029e+06</td>\n",
       "      <td>5.514320e+06</td>\n",
       "      <td>1.000000</td>\n",
       "      <td>0</td>\n",
       "      <td>0</td>\n",
       "      <td>0</td>\n",
       "      <td>1</td>\n",
       "    </tr>\n",
       "    <tr>\n",
       "      <th>726</th>\n",
       "      <td>1</td>\n",
       "      <td>6.095782e+06</td>\n",
       "      <td>5.100555e+06</td>\n",
       "      <td>1.000000</td>\n",
       "      <td>0</td>\n",
       "      <td>0</td>\n",
       "      <td>0</td>\n",
       "      <td>1</td>\n",
       "    </tr>\n",
       "    <tr>\n",
       "      <th>727</th>\n",
       "      <td>1</td>\n",
       "      <td>3.752906e+06</td>\n",
       "      <td>3.744400e+06</td>\n",
       "      <td>1.000000</td>\n",
       "      <td>0</td>\n",
       "      <td>0</td>\n",
       "      <td>0</td>\n",
       "      <td>1</td>\n",
       "    </tr>\n",
       "    <tr>\n",
       "      <th>728</th>\n",
       "      <td>1</td>\n",
       "      <td>2.389656e+07</td>\n",
       "      <td>1.954734e+07</td>\n",
       "      <td>0.000000</td>\n",
       "      <td>1</td>\n",
       "      <td>0</td>\n",
       "      <td>0</td>\n",
       "      <td>1</td>\n",
       "    </tr>\n",
       "    <tr>\n",
       "      <th>729</th>\n",
       "      <td>1</td>\n",
       "      <td>3.341510e+07</td>\n",
       "      <td>3.334953e+07</td>\n",
       "      <td>1.000000</td>\n",
       "      <td>0</td>\n",
       "      <td>0</td>\n",
       "      <td>0</td>\n",
       "      <td>1</td>\n",
       "    </tr>\n",
       "  </tbody>\n",
       "</table>\n",
       "<p>730 rows × 8 columns</p>\n",
       "</div>"
      ],
      "text/plain": [
       "     Licitacion reparto  Importe presupuestado  Importe adjudicado  \\\n",
       "0                     0           6.776405e+04        6.312591e+04   \n",
       "1                     0           3.563140e+08        2.915613e+08   \n",
       "2                     0           6.513581e+07        6.513581e+07   \n",
       "3                     0           6.407947e+08        5.119260e+08   \n",
       "4                     0           2.458220e+07        2.428981e+07   \n",
       "..                  ...                    ...                 ...   \n",
       "725                   1           5.542029e+06        5.514320e+06   \n",
       "726                   1           6.095782e+06        5.100555e+06   \n",
       "727                   1           3.752906e+06        3.744400e+06   \n",
       "728                   1           2.389656e+07        1.954734e+07   \n",
       "729                   1           3.341510e+07        3.334953e+07   \n",
       "\n",
       "     Empresa sancionada  UTE  MP1  MP4  MP6  \n",
       "0              0.287037    0    0    0    1  \n",
       "1              0.000000    1    0    0    1  \n",
       "2              0.000000    0    1    0    0  \n",
       "3              0.000000    1    0    0    1  \n",
       "4              1.000000    1    1    0    0  \n",
       "..                  ...  ...  ...  ...  ...  \n",
       "725            1.000000    0    0    0    1  \n",
       "726            1.000000    0    0    0    1  \n",
       "727            1.000000    0    0    0    1  \n",
       "728            0.000000    1    0    0    1  \n",
       "729            1.000000    0    0    0    1  \n",
       "\n",
       "[730 rows x 8 columns]"
      ]
     },
     "execution_count": 17,
     "metadata": {},
     "output_type": "execute_result"
    }
   ],
   "source": [
    "df"
   ]
  },
  {
   "cell_type": "markdown",
   "id": "1421a9bf",
   "metadata": {},
   "source": [
    "# Se estandarizan y normalizan los predictores numericos"
   ]
  },
  {
   "cell_type": "code",
   "execution_count": 18,
   "id": "0f2eecb7",
   "metadata": {},
   "outputs": [],
   "source": [
    "predictores_numericos = df[[\"Importe presupuestado\", \"Importe adjudicado\"]]"
   ]
  },
  {
   "cell_type": "code",
   "execution_count": 19,
   "id": "f689d709",
   "metadata": {},
   "outputs": [],
   "source": [
    "scaler = StandardScaler()\n",
    "stand = scaler.fit_transform(predictores_numericos)"
   ]
  },
  {
   "cell_type": "code",
   "execution_count": 20,
   "id": "7af0d67a",
   "metadata": {},
   "outputs": [
    {
     "data": {
      "text/html": [
       "<div>\n",
       "<style scoped>\n",
       "    .dataframe tbody tr th:only-of-type {\n",
       "        vertical-align: middle;\n",
       "    }\n",
       "\n",
       "    .dataframe tbody tr th {\n",
       "        vertical-align: top;\n",
       "    }\n",
       "\n",
       "    .dataframe thead th {\n",
       "        text-align: right;\n",
       "    }\n",
       "</style>\n",
       "<table border=\"1\" class=\"dataframe\">\n",
       "  <thead>\n",
       "    <tr style=\"text-align: right;\">\n",
       "      <th></th>\n",
       "      <th>Importe presupuestado</th>\n",
       "      <th>Importe adjudicado</th>\n",
       "    </tr>\n",
       "  </thead>\n",
       "  <tbody>\n",
       "    <tr>\n",
       "      <th>0</th>\n",
       "      <td>-0.404502</td>\n",
       "      <td>-0.411394</td>\n",
       "    </tr>\n",
       "    <tr>\n",
       "      <th>1</th>\n",
       "      <td>5.691897</td>\n",
       "      <td>5.257115</td>\n",
       "    </tr>\n",
       "    <tr>\n",
       "      <th>2</th>\n",
       "      <td>0.709000</td>\n",
       "      <td>0.854017</td>\n",
       "    </tr>\n",
       "    <tr>\n",
       "      <th>3</th>\n",
       "      <td>10.560180</td>\n",
       "      <td>9.542354</td>\n",
       "    </tr>\n",
       "    <tr>\n",
       "      <th>4</th>\n",
       "      <td>0.015011</td>\n",
       "      <td>0.059721</td>\n",
       "    </tr>\n",
       "    <tr>\n",
       "      <th>...</th>\n",
       "      <td>...</td>\n",
       "      <td>...</td>\n",
       "    </tr>\n",
       "    <tr>\n",
       "      <th>725</th>\n",
       "      <td>-0.310822</td>\n",
       "      <td>-0.305389</td>\n",
       "    </tr>\n",
       "    <tr>\n",
       "      <th>726</th>\n",
       "      <td>-0.301345</td>\n",
       "      <td>-0.313435</td>\n",
       "    </tr>\n",
       "    <tr>\n",
       "      <th>727</th>\n",
       "      <td>-0.341439</td>\n",
       "      <td>-0.339807</td>\n",
       "    </tr>\n",
       "    <tr>\n",
       "      <th>728</th>\n",
       "      <td>0.003277</td>\n",
       "      <td>-0.032502</td>\n",
       "    </tr>\n",
       "    <tr>\n",
       "      <th>729</th>\n",
       "      <td>0.166167</td>\n",
       "      <td>0.235898</td>\n",
       "    </tr>\n",
       "  </tbody>\n",
       "</table>\n",
       "<p>730 rows × 2 columns</p>\n",
       "</div>"
      ],
      "text/plain": [
       "     Importe presupuestado  Importe adjudicado\n",
       "0                -0.404502           -0.411394\n",
       "1                 5.691897            5.257115\n",
       "2                 0.709000            0.854017\n",
       "3                10.560180            9.542354\n",
       "4                 0.015011            0.059721\n",
       "..                     ...                 ...\n",
       "725              -0.310822           -0.305389\n",
       "726              -0.301345           -0.313435\n",
       "727              -0.341439           -0.339807\n",
       "728               0.003277           -0.032502\n",
       "729               0.166167            0.235898\n",
       "\n",
       "[730 rows x 2 columns]"
      ]
     },
     "execution_count": 20,
     "metadata": {},
     "output_type": "execute_result"
    }
   ],
   "source": [
    "df[[\"Importe presupuestado\", \"Importe adjudicado\"]] = stand\n",
    "predictores_numericos = df[[\"Importe presupuestado\", \"Importe adjudicado\"]]\n",
    "predictores_numericos"
   ]
  },
  {
   "cell_type": "code",
   "execution_count": 21,
   "id": "18edcff2",
   "metadata": {},
   "outputs": [],
   "source": [
    "norm = (predictores_numericos - predictores_numericos.min()) / (predictores_numericos.max() - predictores_numericos.min())"
   ]
  },
  {
   "cell_type": "code",
   "execution_count": 22,
   "id": "4afbe1cb",
   "metadata": {
    "scrolled": false
   },
   "outputs": [
    {
     "data": {
      "text/html": [
       "<div>\n",
       "<style scoped>\n",
       "    .dataframe tbody tr th:only-of-type {\n",
       "        vertical-align: middle;\n",
       "    }\n",
       "\n",
       "    .dataframe tbody tr th {\n",
       "        vertical-align: top;\n",
       "    }\n",
       "\n",
       "    .dataframe thead th {\n",
       "        text-align: right;\n",
       "    }\n",
       "</style>\n",
       "<table border=\"1\" class=\"dataframe\">\n",
       "  <thead>\n",
       "    <tr style=\"text-align: right;\">\n",
       "      <th></th>\n",
       "      <th>Importe presupuestado</th>\n",
       "      <th>Importe adjudicado</th>\n",
       "    </tr>\n",
       "  </thead>\n",
       "  <tbody>\n",
       "    <tr>\n",
       "      <th>0</th>\n",
       "      <td>0.000069</td>\n",
       "      <td>0.000085</td>\n",
       "    </tr>\n",
       "    <tr>\n",
       "      <th>1</th>\n",
       "      <td>0.556034</td>\n",
       "      <td>0.569521</td>\n",
       "    </tr>\n",
       "    <tr>\n",
       "      <th>2</th>\n",
       "      <td>0.101616</td>\n",
       "      <td>0.127203</td>\n",
       "    </tr>\n",
       "    <tr>\n",
       "      <th>3</th>\n",
       "      <td>1.000000</td>\n",
       "      <td>1.000000</td>\n",
       "    </tr>\n",
       "    <tr>\n",
       "      <th>4</th>\n",
       "      <td>0.038327</td>\n",
       "      <td>0.047411</td>\n",
       "    </tr>\n",
       "    <tr>\n",
       "      <th>...</th>\n",
       "      <td>...</td>\n",
       "      <td>...</td>\n",
       "    </tr>\n",
       "    <tr>\n",
       "      <th>725</th>\n",
       "      <td>0.008613</td>\n",
       "      <td>0.010734</td>\n",
       "    </tr>\n",
       "    <tr>\n",
       "      <th>726</th>\n",
       "      <td>0.009477</td>\n",
       "      <td>0.009925</td>\n",
       "    </tr>\n",
       "    <tr>\n",
       "      <th>727</th>\n",
       "      <td>0.005821</td>\n",
       "      <td>0.007276</td>\n",
       "    </tr>\n",
       "    <tr>\n",
       "      <th>728</th>\n",
       "      <td>0.037257</td>\n",
       "      <td>0.038147</td>\n",
       "    </tr>\n",
       "    <tr>\n",
       "      <th>729</th>\n",
       "      <td>0.052112</td>\n",
       "      <td>0.065109</td>\n",
       "    </tr>\n",
       "  </tbody>\n",
       "</table>\n",
       "<p>730 rows × 2 columns</p>\n",
       "</div>"
      ],
      "text/plain": [
       "     Importe presupuestado  Importe adjudicado\n",
       "0                 0.000069            0.000085\n",
       "1                 0.556034            0.569521\n",
       "2                 0.101616            0.127203\n",
       "3                 1.000000            1.000000\n",
       "4                 0.038327            0.047411\n",
       "..                     ...                 ...\n",
       "725               0.008613            0.010734\n",
       "726               0.009477            0.009925\n",
       "727               0.005821            0.007276\n",
       "728               0.037257            0.038147\n",
       "729               0.052112            0.065109\n",
       "\n",
       "[730 rows x 2 columns]"
      ]
     },
     "execution_count": 22,
     "metadata": {},
     "output_type": "execute_result"
    }
   ],
   "source": [
    "df[[\"Importe presupuestado\", \"Importe adjudicado\"]] = norm\n",
    "predictores_numericos = df[[\"Importe presupuestado\", \"Importe adjudicado\"]]\n",
    "predictores_numericos"
   ]
  },
  {
   "cell_type": "code",
   "execution_count": 23,
   "id": "57f66ea7",
   "metadata": {
    "scrolled": false
   },
   "outputs": [
    {
     "data": {
      "text/html": [
       "<div>\n",
       "<style scoped>\n",
       "    .dataframe tbody tr th:only-of-type {\n",
       "        vertical-align: middle;\n",
       "    }\n",
       "\n",
       "    .dataframe tbody tr th {\n",
       "        vertical-align: top;\n",
       "    }\n",
       "\n",
       "    .dataframe thead th {\n",
       "        text-align: right;\n",
       "    }\n",
       "</style>\n",
       "<table border=\"1\" class=\"dataframe\">\n",
       "  <thead>\n",
       "    <tr style=\"text-align: right;\">\n",
       "      <th></th>\n",
       "      <th>Licitacion reparto</th>\n",
       "      <th>Importe presupuestado</th>\n",
       "      <th>Importe adjudicado</th>\n",
       "      <th>Empresa sancionada</th>\n",
       "      <th>UTE</th>\n",
       "      <th>MP1</th>\n",
       "      <th>MP4</th>\n",
       "      <th>MP6</th>\n",
       "    </tr>\n",
       "  </thead>\n",
       "  <tbody>\n",
       "    <tr>\n",
       "      <th>0</th>\n",
       "      <td>0</td>\n",
       "      <td>0.000069</td>\n",
       "      <td>0.000085</td>\n",
       "      <td>0.287037</td>\n",
       "      <td>0</td>\n",
       "      <td>0</td>\n",
       "      <td>0</td>\n",
       "      <td>1</td>\n",
       "    </tr>\n",
       "    <tr>\n",
       "      <th>1</th>\n",
       "      <td>0</td>\n",
       "      <td>0.556034</td>\n",
       "      <td>0.569521</td>\n",
       "      <td>0.000000</td>\n",
       "      <td>1</td>\n",
       "      <td>0</td>\n",
       "      <td>0</td>\n",
       "      <td>1</td>\n",
       "    </tr>\n",
       "    <tr>\n",
       "      <th>2</th>\n",
       "      <td>0</td>\n",
       "      <td>0.101616</td>\n",
       "      <td>0.127203</td>\n",
       "      <td>0.000000</td>\n",
       "      <td>0</td>\n",
       "      <td>1</td>\n",
       "      <td>0</td>\n",
       "      <td>0</td>\n",
       "    </tr>\n",
       "    <tr>\n",
       "      <th>3</th>\n",
       "      <td>0</td>\n",
       "      <td>1.000000</td>\n",
       "      <td>1.000000</td>\n",
       "      <td>0.000000</td>\n",
       "      <td>1</td>\n",
       "      <td>0</td>\n",
       "      <td>0</td>\n",
       "      <td>1</td>\n",
       "    </tr>\n",
       "    <tr>\n",
       "      <th>4</th>\n",
       "      <td>0</td>\n",
       "      <td>0.038327</td>\n",
       "      <td>0.047411</td>\n",
       "      <td>1.000000</td>\n",
       "      <td>1</td>\n",
       "      <td>1</td>\n",
       "      <td>0</td>\n",
       "      <td>0</td>\n",
       "    </tr>\n",
       "    <tr>\n",
       "      <th>...</th>\n",
       "      <td>...</td>\n",
       "      <td>...</td>\n",
       "      <td>...</td>\n",
       "      <td>...</td>\n",
       "      <td>...</td>\n",
       "      <td>...</td>\n",
       "      <td>...</td>\n",
       "      <td>...</td>\n",
       "    </tr>\n",
       "    <tr>\n",
       "      <th>725</th>\n",
       "      <td>1</td>\n",
       "      <td>0.008613</td>\n",
       "      <td>0.010734</td>\n",
       "      <td>1.000000</td>\n",
       "      <td>0</td>\n",
       "      <td>0</td>\n",
       "      <td>0</td>\n",
       "      <td>1</td>\n",
       "    </tr>\n",
       "    <tr>\n",
       "      <th>726</th>\n",
       "      <td>1</td>\n",
       "      <td>0.009477</td>\n",
       "      <td>0.009925</td>\n",
       "      <td>1.000000</td>\n",
       "      <td>0</td>\n",
       "      <td>0</td>\n",
       "      <td>0</td>\n",
       "      <td>1</td>\n",
       "    </tr>\n",
       "    <tr>\n",
       "      <th>727</th>\n",
       "      <td>1</td>\n",
       "      <td>0.005821</td>\n",
       "      <td>0.007276</td>\n",
       "      <td>1.000000</td>\n",
       "      <td>0</td>\n",
       "      <td>0</td>\n",
       "      <td>0</td>\n",
       "      <td>1</td>\n",
       "    </tr>\n",
       "    <tr>\n",
       "      <th>728</th>\n",
       "      <td>1</td>\n",
       "      <td>0.037257</td>\n",
       "      <td>0.038147</td>\n",
       "      <td>0.000000</td>\n",
       "      <td>1</td>\n",
       "      <td>0</td>\n",
       "      <td>0</td>\n",
       "      <td>1</td>\n",
       "    </tr>\n",
       "    <tr>\n",
       "      <th>729</th>\n",
       "      <td>1</td>\n",
       "      <td>0.052112</td>\n",
       "      <td>0.065109</td>\n",
       "      <td>1.000000</td>\n",
       "      <td>0</td>\n",
       "      <td>0</td>\n",
       "      <td>0</td>\n",
       "      <td>1</td>\n",
       "    </tr>\n",
       "  </tbody>\n",
       "</table>\n",
       "<p>730 rows × 8 columns</p>\n",
       "</div>"
      ],
      "text/plain": [
       "     Licitacion reparto  Importe presupuestado  Importe adjudicado  \\\n",
       "0                     0               0.000069            0.000085   \n",
       "1                     0               0.556034            0.569521   \n",
       "2                     0               0.101616            0.127203   \n",
       "3                     0               1.000000            1.000000   \n",
       "4                     0               0.038327            0.047411   \n",
       "..                  ...                    ...                 ...   \n",
       "725                   1               0.008613            0.010734   \n",
       "726                   1               0.009477            0.009925   \n",
       "727                   1               0.005821            0.007276   \n",
       "728                   1               0.037257            0.038147   \n",
       "729                   1               0.052112            0.065109   \n",
       "\n",
       "     Empresa sancionada  UTE  MP1  MP4  MP6  \n",
       "0              0.287037    0    0    0    1  \n",
       "1              0.000000    1    0    0    1  \n",
       "2              0.000000    0    1    0    0  \n",
       "3              0.000000    1    0    0    1  \n",
       "4              1.000000    1    1    0    0  \n",
       "..                  ...  ...  ...  ...  ...  \n",
       "725            1.000000    0    0    0    1  \n",
       "726            1.000000    0    0    0    1  \n",
       "727            1.000000    0    0    0    1  \n",
       "728            0.000000    1    0    0    1  \n",
       "729            1.000000    0    0    0    1  \n",
       "\n",
       "[730 rows x 8 columns]"
      ]
     },
     "execution_count": 23,
     "metadata": {},
     "output_type": "execute_result"
    }
   ],
   "source": [
    "df"
   ]
  },
  {
   "cell_type": "code",
   "execution_count": 24,
   "id": "8c9510ab",
   "metadata": {},
   "outputs": [],
   "source": [
    "nombre_clases = [\"Licitacion no reparto\", \"Licitacion reparto\"]\n",
    "nombre_predicciones = list(map(lambda x : x + \" predicho\", nombre_clases))"
   ]
  },
  {
   "cell_type": "markdown",
   "id": "3bc2de74",
   "metadata": {},
   "source": [
    "# Se hace la estimacion por NaiveBayes"
   ]
  },
  {
   "cell_type": "code",
   "execution_count": 25,
   "id": "ceb24cfb",
   "metadata": {
    "scrolled": true
   },
   "outputs": [],
   "source": [
    "X = df[df.columns[1:]]\n",
    "y = df[\"Licitacion reparto\"]\n",
    "\n",
    "\n",
    "loo = LeaveOneOut()\n",
    "gnb = GaussianNB()\n",
    "predicciones = []\n",
    "prob_predicciones = []\n",
    "\n",
    "for train_index, test_index in loo.split(X):\n",
    "    \n",
    "    X_train, X_test = X.iloc[train_index], X.iloc[test_index]\n",
    "    y_train, y_test = y[train_index], y[test_index]\n",
    "\n",
    "    gnb.fit(X_train, y_train)\n",
    "    y_pred = gnb.predict(X_test) #son 0 o 1 dependiendo de si la probabilidad es mayor o menor a 0 o 1\n",
    "    y_pred_prob = gnb.predict_proba(X_test)\n",
    "    predicciones.append(y_pred[0])\n",
    "    prob_predicciones.append(y_pred_prob[0][1])"
   ]
  },
  {
   "cell_type": "code",
   "execution_count": 26,
   "id": "ac783eea",
   "metadata": {},
   "outputs": [
    {
     "data": {
      "text/plain": [
       "{'priors': None, 'var_smoothing': 1e-09}"
      ]
     },
     "execution_count": 26,
     "metadata": {},
     "output_type": "execute_result"
    }
   ],
   "source": [
    "gnb.get_params()"
   ]
  },
  {
   "cell_type": "code",
   "execution_count": 27,
   "id": "9f42ccb4",
   "metadata": {
    "scrolled": false
   },
   "outputs": [
    {
     "data": {
      "text/html": [
       "<div>\n",
       "<style scoped>\n",
       "    .dataframe tbody tr th:only-of-type {\n",
       "        vertical-align: middle;\n",
       "    }\n",
       "\n",
       "    .dataframe tbody tr th {\n",
       "        vertical-align: top;\n",
       "    }\n",
       "\n",
       "    .dataframe thead th {\n",
       "        text-align: right;\n",
       "    }\n",
       "</style>\n",
       "<table border=\"1\" class=\"dataframe\">\n",
       "  <thead>\n",
       "    <tr style=\"text-align: right;\">\n",
       "      <th></th>\n",
       "      <th>Licitacion reparto</th>\n",
       "      <th>Prediccion licitacion reparto</th>\n",
       "      <th>Prob prediccion</th>\n",
       "    </tr>\n",
       "  </thead>\n",
       "  <tbody>\n",
       "    <tr>\n",
       "      <th>0</th>\n",
       "      <td>0</td>\n",
       "      <td>0</td>\n",
       "      <td>0.051588</td>\n",
       "    </tr>\n",
       "    <tr>\n",
       "      <th>1</th>\n",
       "      <td>0</td>\n",
       "      <td>1</td>\n",
       "      <td>0.999990</td>\n",
       "    </tr>\n",
       "    <tr>\n",
       "      <th>2</th>\n",
       "      <td>0</td>\n",
       "      <td>1</td>\n",
       "      <td>0.606321</td>\n",
       "    </tr>\n",
       "    <tr>\n",
       "      <th>3</th>\n",
       "      <td>0</td>\n",
       "      <td>1</td>\n",
       "      <td>1.000000</td>\n",
       "    </tr>\n",
       "    <tr>\n",
       "      <th>4</th>\n",
       "      <td>0</td>\n",
       "      <td>1</td>\n",
       "      <td>0.748123</td>\n",
       "    </tr>\n",
       "    <tr>\n",
       "      <th>...</th>\n",
       "      <td>...</td>\n",
       "      <td>...</td>\n",
       "      <td>...</td>\n",
       "    </tr>\n",
       "    <tr>\n",
       "      <th>725</th>\n",
       "      <td>1</td>\n",
       "      <td>0</td>\n",
       "      <td>0.102566</td>\n",
       "    </tr>\n",
       "    <tr>\n",
       "      <th>726</th>\n",
       "      <td>1</td>\n",
       "      <td>0</td>\n",
       "      <td>0.102555</td>\n",
       "    </tr>\n",
       "    <tr>\n",
       "      <th>727</th>\n",
       "      <td>1</td>\n",
       "      <td>0</td>\n",
       "      <td>0.103948</td>\n",
       "    </tr>\n",
       "    <tr>\n",
       "      <th>728</th>\n",
       "      <td>1</td>\n",
       "      <td>0</td>\n",
       "      <td>0.035372</td>\n",
       "    </tr>\n",
       "    <tr>\n",
       "      <th>729</th>\n",
       "      <td>1</td>\n",
       "      <td>0</td>\n",
       "      <td>0.091805</td>\n",
       "    </tr>\n",
       "  </tbody>\n",
       "</table>\n",
       "<p>730 rows × 3 columns</p>\n",
       "</div>"
      ],
      "text/plain": [
       "     Licitacion reparto  Prediccion licitacion reparto  Prob prediccion\n",
       "0                     0                              0         0.051588\n",
       "1                     0                              1         0.999990\n",
       "2                     0                              1         0.606321\n",
       "3                     0                              1         1.000000\n",
       "4                     0                              1         0.748123\n",
       "..                  ...                            ...              ...\n",
       "725                   1                              0         0.102566\n",
       "726                   1                              0         0.102555\n",
       "727                   1                              0         0.103948\n",
       "728                   1                              0         0.035372\n",
       "729                   1                              0         0.091805\n",
       "\n",
       "[730 rows x 3 columns]"
      ]
     },
     "execution_count": 27,
     "metadata": {},
     "output_type": "execute_result"
    }
   ],
   "source": [
    "predicciones = pd.Series(predicciones, name = \"Prediccion licitacion reparto\")\n",
    "prob_predicciones = pd.Series(prob_predicciones, name = \"Prob prediccion\")\n",
    "cp = pd.concat([y, predicciones, prob_predicciones], axis = 1)\n",
    "cp \n",
    "# Este dataframe no contiene las predicciones calculadas en el punto optimo de la curva ROC.\n",
    "# Contiene las predicciones calculadas segun el punto por defecto para determinar las predicciones del clasificador."
   ]
  },
  {
   "cell_type": "markdown",
   "id": "f2950c77",
   "metadata": {},
   "source": [
    "# CURVA ROC. El punto optimo es = (fpr = 0, tpr = 1)"
   ]
  },
  {
   "cell_type": "code",
   "execution_count": 28,
   "id": "c3ebc4ea",
   "metadata": {},
   "outputs": [
    {
     "data": {
      "text/plain": [
       "0.7634528054043911"
      ]
     },
     "execution_count": 28,
     "metadata": {},
     "output_type": "execute_result"
    }
   ],
   "source": [
    "auc_score = roc_auc_score(y, prob_predicciones)\n",
    "auc_score"
   ]
  },
  {
   "cell_type": "code",
   "execution_count": 29,
   "id": "be4a1821",
   "metadata": {},
   "outputs": [],
   "source": [
    "fpr, tpr, thresholds = roc_curve(y, prob_predicciones)\n",
    "#fpr es 1 - especificidad = 1 - (TN / (FP + TN)) = FP / (FP + TN)\n",
    "#tpr es la sensibilidad = TP / (TP + FN)"
   ]
  },
  {
   "cell_type": "code",
   "execution_count": 30,
   "id": "d4ecdd91",
   "metadata": {},
   "outputs": [
    {
     "data": {
      "text/plain": [
       "0.6015957129887438"
      ]
     },
     "execution_count": 30,
     "metadata": {},
     "output_type": "execute_result"
    }
   ],
   "source": [
    "distances = np.linalg.norm(np.column_stack((fpr, tpr)) - np.array([0, 1]), axis=1)\n",
    "optimal_threshold_index = np.argmin(distances)\n",
    "optimal_threshold = thresholds[optimal_threshold_index]\n",
    "optimal_threshold"
   ]
  },
  {
   "cell_type": "code",
   "execution_count": 31,
   "id": "b8a0526e",
   "metadata": {},
   "outputs": [
    {
     "data": {
      "text/plain": [
       "0.18082191780821918"
      ]
     },
     "execution_count": 31,
     "metadata": {},
     "output_type": "execute_result"
    }
   ],
   "source": [
    "optimal_fpr = fpr[optimal_threshold_index]\n",
    "optimal_fpr"
   ]
  },
  {
   "cell_type": "code",
   "execution_count": 32,
   "id": "2c11dea0",
   "metadata": {},
   "outputs": [
    {
     "data": {
      "text/plain": [
       "0.7041095890410959"
      ]
     },
     "execution_count": 32,
     "metadata": {},
     "output_type": "execute_result"
    }
   ],
   "source": [
    "optimal_tpr = tpr[optimal_threshold_index]\n",
    "optimal_tpr"
   ]
  },
  {
   "cell_type": "code",
   "execution_count": 59,
   "id": "6d305500",
   "metadata": {},
   "outputs": [
    {
     "data": {
      "image/png": "[encoded data removed]",
      "text/plain": [
       "<Figure size 640x480 with 1 Axes>"
      ]
     },
     "metadata": {},
     "output_type": "display_data"
    }
   ],
   "source": [
    "plt.plot(fpr, tpr, label = f'AUC Score = {auc_score:.4}')\n",
    "plt.plot([0,1], linestyle=\"--\")\n",
    "plt.plot(optimal_fpr, optimal_tpr, 'ro')\n",
    "plt.annotate(f'      Threshold\\n   óptimo = {optimal_threshold:.2}',\n",
    "             xy=(optimal_fpr, optimal_tpr), xycoords='data',\n",
    "             xytext=(-70, +20), textcoords='offset points', fontsize=10,\n",
    "             arrowprops=dict(arrowstyle=\"->\", connectionstyle = \"arc3, rad = .2\"))\n",
    "plt.ylabel('Sensibilidad')\n",
    "plt.xlabel('1 - especificidad')\n",
    "plt.title('ROC Curve')\n",
    "plt.legend(loc = 'lower right')\n",
    "plt.show()"
   ]
  },
  {
   "cell_type": "code",
   "execution_count": 34,
   "id": "a6b5f8c8",
   "metadata": {},
   "outputs": [
    {
     "data": {
      "text/plain": [
       "0      0\n",
       "1      1\n",
       "2      1\n",
       "3      1\n",
       "4      1\n",
       "      ..\n",
       "725    0\n",
       "726    0\n",
       "727    0\n",
       "728    0\n",
       "729    0\n",
       "Length: 730, dtype: int64"
      ]
     },
     "execution_count": 34,
     "metadata": {},
     "output_type": "execute_result"
    }
   ],
   "source": [
    "cp[\"Prediccion licitacion reparto en el punto optimo\"] = 0\n",
    "prediccion_final = cp[\"Prediccion licitacion reparto en el punto optimo\"]\n",
    "prediccion_final = cp.apply(lambda x: 1 if x[\"Prob prediccion\"] >= optimal_threshold else 0, axis=1)\n",
    "prediccion_final"
   ]
  },
  {
   "cell_type": "code",
   "execution_count": 35,
   "id": "573fadc8",
   "metadata": {},
   "outputs": [
    {
     "data": {
      "text/html": [
       "<div>\n",
       "<style scoped>\n",
       "    .dataframe tbody tr th:only-of-type {\n",
       "        vertical-align: middle;\n",
       "    }\n",
       "\n",
       "    .dataframe tbody tr th {\n",
       "        vertical-align: top;\n",
       "    }\n",
       "\n",
       "    .dataframe thead th {\n",
       "        text-align: right;\n",
       "    }\n",
       "</style>\n",
       "<table border=\"1\" class=\"dataframe\">\n",
       "  <thead>\n",
       "    <tr style=\"text-align: right;\">\n",
       "      <th></th>\n",
       "      <th>Licitacion reparto</th>\n",
       "      <th>Prob prediccion</th>\n",
       "      <th>Prediccion licitacion reparto en el punto optimo</th>\n",
       "    </tr>\n",
       "  </thead>\n",
       "  <tbody>\n",
       "    <tr>\n",
       "      <th>0</th>\n",
       "      <td>0</td>\n",
       "      <td>0.051588</td>\n",
       "      <td>0</td>\n",
       "    </tr>\n",
       "    <tr>\n",
       "      <th>1</th>\n",
       "      <td>0</td>\n",
       "      <td>0.999990</td>\n",
       "      <td>1</td>\n",
       "    </tr>\n",
       "    <tr>\n",
       "      <th>2</th>\n",
       "      <td>0</td>\n",
       "      <td>0.606321</td>\n",
       "      <td>1</td>\n",
       "    </tr>\n",
       "    <tr>\n",
       "      <th>3</th>\n",
       "      <td>0</td>\n",
       "      <td>1.000000</td>\n",
       "      <td>1</td>\n",
       "    </tr>\n",
       "    <tr>\n",
       "      <th>4</th>\n",
       "      <td>0</td>\n",
       "      <td>0.748123</td>\n",
       "      <td>1</td>\n",
       "    </tr>\n",
       "    <tr>\n",
       "      <th>...</th>\n",
       "      <td>...</td>\n",
       "      <td>...</td>\n",
       "      <td>...</td>\n",
       "    </tr>\n",
       "    <tr>\n",
       "      <th>725</th>\n",
       "      <td>1</td>\n",
       "      <td>0.102566</td>\n",
       "      <td>0</td>\n",
       "    </tr>\n",
       "    <tr>\n",
       "      <th>726</th>\n",
       "      <td>1</td>\n",
       "      <td>0.102555</td>\n",
       "      <td>0</td>\n",
       "    </tr>\n",
       "    <tr>\n",
       "      <th>727</th>\n",
       "      <td>1</td>\n",
       "      <td>0.103948</td>\n",
       "      <td>0</td>\n",
       "    </tr>\n",
       "    <tr>\n",
       "      <th>728</th>\n",
       "      <td>1</td>\n",
       "      <td>0.035372</td>\n",
       "      <td>0</td>\n",
       "    </tr>\n",
       "    <tr>\n",
       "      <th>729</th>\n",
       "      <td>1</td>\n",
       "      <td>0.091805</td>\n",
       "      <td>0</td>\n",
       "    </tr>\n",
       "  </tbody>\n",
       "</table>\n",
       "<p>730 rows × 3 columns</p>\n",
       "</div>"
      ],
      "text/plain": [
       "     Licitacion reparto  Prob prediccion  \\\n",
       "0                     0         0.051588   \n",
       "1                     0         0.999990   \n",
       "2                     0         0.606321   \n",
       "3                     0         1.000000   \n",
       "4                     0         0.748123   \n",
       "..                  ...              ...   \n",
       "725                   1         0.102566   \n",
       "726                   1         0.102555   \n",
       "727                   1         0.103948   \n",
       "728                   1         0.035372   \n",
       "729                   1         0.091805   \n",
       "\n",
       "     Prediccion licitacion reparto en el punto optimo  \n",
       "0                                                   0  \n",
       "1                                                   1  \n",
       "2                                                   1  \n",
       "3                                                   1  \n",
       "4                                                   1  \n",
       "..                                                ...  \n",
       "725                                                 0  \n",
       "726                                                 0  \n",
       "727                                                 0  \n",
       "728                                                 0  \n",
       "729                                                 0  \n",
       "\n",
       "[730 rows x 3 columns]"
      ]
     },
     "execution_count": 35,
     "metadata": {},
     "output_type": "execute_result"
    }
   ],
   "source": [
    "cp[\"Prediccion licitacion reparto en el punto optimo\"] = prediccion_final\n",
    "pd.concat([cp, prediccion_final], axis = 1)\n",
    "cp.drop(columns = \"Prediccion licitacion reparto\", axis = 1, inplace = True)\n",
    "cp"
   ]
  },
  {
   "cell_type": "code",
   "execution_count": 36,
   "id": "3798561a",
   "metadata": {},
   "outputs": [
    {
     "data": {
      "text/html": [
       "<div>\n",
       "<style scoped>\n",
       "    .dataframe tbody tr th:only-of-type {\n",
       "        vertical-align: middle;\n",
       "    }\n",
       "\n",
       "    .dataframe tbody tr th {\n",
       "        vertical-align: top;\n",
       "    }\n",
       "\n",
       "    .dataframe thead th {\n",
       "        text-align: right;\n",
       "    }\n",
       "</style>\n",
       "<table border=\"1\" class=\"dataframe\">\n",
       "  <thead>\n",
       "    <tr style=\"text-align: right;\">\n",
       "      <th></th>\n",
       "      <th>Licitacion no reparto</th>\n",
       "      <th>Licitacion reparto</th>\n",
       "    </tr>\n",
       "  </thead>\n",
       "  <tbody>\n",
       "    <tr>\n",
       "      <th>Licitacion no reparto predicho</th>\n",
       "      <td>299</td>\n",
       "      <td>66</td>\n",
       "    </tr>\n",
       "    <tr>\n",
       "      <th>Licitacion reparto predicho</th>\n",
       "      <td>108</td>\n",
       "      <td>257</td>\n",
       "    </tr>\n",
       "  </tbody>\n",
       "</table>\n",
       "</div>"
      ],
      "text/plain": [
       "                                Licitacion no reparto  Licitacion reparto\n",
       "Licitacion no reparto predicho                    299                  66\n",
       "Licitacion reparto predicho                       108                 257"
      ]
     },
     "execution_count": 36,
     "metadata": {},
     "output_type": "execute_result"
    }
   ],
   "source": [
    "cm = confusion_matrix(y, cp[\"Prediccion licitacion reparto en el punto optimo\"]) # matriz de confusion\n",
    "cm = pd.DataFrame(cm, columns = nombre_clases, index = nombre_predicciones)\n",
    "cm # esta matriz de confusion esta calculada en el punto optimo de la curva"
   ]
  },
  {
   "cell_type": "markdown",
   "id": "c748cf9d",
   "metadata": {},
   "source": [
    "# Metricas de la Matriz de Confusion"
   ]
  },
  {
   "cell_type": "code",
   "execution_count": 37,
   "id": "8afa34f8",
   "metadata": {},
   "outputs": [],
   "source": [
    "TP = cm.iloc[1,1]\n",
    "FN = cm.iloc[1,0]\n",
    "FP = cm.iloc[0,1]\n",
    "TN = cm.iloc[0,0]"
   ]
  },
  {
   "cell_type": "code",
   "execution_count": 38,
   "id": "8bb93deb",
   "metadata": {},
   "outputs": [
    {
     "data": {
      "text/plain": [
       "0.7616438356164383"
      ]
     },
     "execution_count": 38,
     "metadata": {},
     "output_type": "execute_result"
    }
   ],
   "source": [
    "Tasa_de_aciertos = (TP + TN) / len(df)\n",
    "Tasa_de_aciertos"
   ]
  },
  {
   "cell_type": "code",
   "execution_count": 39,
   "id": "a4018ce3",
   "metadata": {},
   "outputs": [
    {
     "data": {
      "text/plain": [
       "0.23835616438356166"
      ]
     },
     "execution_count": 39,
     "metadata": {},
     "output_type": "execute_result"
    }
   ],
   "source": [
    "Tasa_de_errores = 1 - Tasa_de_aciertos\n",
    "Tasa_de_errores"
   ]
  },
  {
   "cell_type": "code",
   "execution_count": 40,
   "id": "6dbd07ff",
   "metadata": {},
   "outputs": [
    {
     "data": {
      "text/plain": [
       "0.7041095890410959"
      ]
     },
     "execution_count": 40,
     "metadata": {},
     "output_type": "execute_result"
    }
   ],
   "source": [
    "Sensibilidad = TP / (TP + FN)\n",
    "Sensibilidad # se calculo antes. Es optimal_tpr"
   ]
  },
  {
   "cell_type": "code",
   "execution_count": 41,
   "id": "00db5dc5",
   "metadata": {},
   "outputs": [
    {
     "data": {
      "text/plain": [
       "0.2958904109589041"
      ]
     },
     "execution_count": 41,
     "metadata": {},
     "output_type": "execute_result"
    }
   ],
   "source": [
    "Tasa_de_falsos_negativos = 1 - Sensibilidad\n",
    "Tasa_de_falsos_negativos"
   ]
  },
  {
   "cell_type": "code",
   "execution_count": 42,
   "id": "9d936f06",
   "metadata": {},
   "outputs": [
    {
     "data": {
      "text/plain": [
       "0.8191780821917808"
      ]
     },
     "execution_count": 42,
     "metadata": {},
     "output_type": "execute_result"
    }
   ],
   "source": [
    "Especificidad = TN / (FP + TN)\n",
    "Especificidad # se calculo antes. Es optimal_fpr = 1 - Especificidad "
   ]
  },
  {
   "cell_type": "code",
   "execution_count": 43,
   "id": "010bf09a",
   "metadata": {},
   "outputs": [
    {
     "data": {
      "text/plain": [
       "0.7956656346749226"
      ]
     },
     "execution_count": 43,
     "metadata": {},
     "output_type": "execute_result"
    }
   ],
   "source": [
    "Precision = TP / (TP + FP)\n",
    "Precision"
   ]
  },
  {
   "cell_type": "code",
   "execution_count": 44,
   "id": "2015d6b2",
   "metadata": {
    "scrolled": true
   },
   "outputs": [
    {
     "data": {
      "text/plain": [
       "0.2043343653250774"
      ]
     },
     "execution_count": 44,
     "metadata": {},
     "output_type": "execute_result"
    }
   ],
   "source": [
    "FP / (FP + TP) # 1 - Precision"
   ]
  },
  {
   "cell_type": "code",
   "execution_count": 45,
   "id": "9ac08a94",
   "metadata": {},
   "outputs": [
    {
     "data": {
      "text/plain": [
       "0.747093023255814"
      ]
     },
     "execution_count": 45,
     "metadata": {},
     "output_type": "execute_result"
    }
   ],
   "source": [
    "F1 = (2 * Sensibilidad * Precision) / (Sensibilidad + Precision)\n",
    "F1"
   ]
  },
  {
   "cell_type": "markdown",
   "id": "1a41aab6",
   "metadata": {},
   "source": [
    "# Métricas de clasificación binaria en el punto óptimo"
   ]
  },
  {
   "cell_type": "code",
   "execution_count": 46,
   "id": "a5bf65a5",
   "metadata": {},
   "outputs": [],
   "source": [
    "nombre_fichero = \"Clasificacion binaria Infra_Muestreo gnb\""
   ]
  },
  {
   "cell_type": "code",
   "execution_count": 47,
   "id": "6509a2a9",
   "metadata": {},
   "outputs": [
    {
     "data": {
      "text/html": [
       "<div>\n",
       "<style scoped>\n",
       "    .dataframe tbody tr th:only-of-type {\n",
       "        vertical-align: middle;\n",
       "    }\n",
       "\n",
       "    .dataframe tbody tr th {\n",
       "        vertical-align: top;\n",
       "    }\n",
       "\n",
       "    .dataframe thead th {\n",
       "        text-align: right;\n",
       "    }\n",
       "</style>\n",
       "<table border=\"1\" class=\"dataframe\">\n",
       "  <thead>\n",
       "    <tr style=\"text-align: right;\">\n",
       "      <th></th>\n",
       "      <th>Clasificacion binaria Infra_Muestreo gnb</th>\n",
       "    </tr>\n",
       "  </thead>\n",
       "  <tbody>\n",
       "    <tr>\n",
       "      <th>Tasa de aciertos</th>\n",
       "      <td>0.761644</td>\n",
       "    </tr>\n",
       "    <tr>\n",
       "      <th>Sensibilidad</th>\n",
       "      <td>0.704110</td>\n",
       "    </tr>\n",
       "    <tr>\n",
       "      <th>Especificidad</th>\n",
       "      <td>0.819178</td>\n",
       "    </tr>\n",
       "    <tr>\n",
       "      <th>Precision</th>\n",
       "      <td>0.795666</td>\n",
       "    </tr>\n",
       "    <tr>\n",
       "      <th>F1</th>\n",
       "      <td>0.747093</td>\n",
       "    </tr>\n",
       "  </tbody>\n",
       "</table>\n",
       "</div>"
      ],
      "text/plain": [
       "                  Clasificacion binaria Infra_Muestreo gnb\n",
       "Tasa de aciertos                                  0.761644\n",
       "Sensibilidad                                      0.704110\n",
       "Especificidad                                     0.819178\n",
       "Precision                                         0.795666\n",
       "F1                                                0.747093"
      ]
     },
     "execution_count": 47,
     "metadata": {},
     "output_type": "execute_result"
    }
   ],
   "source": [
    "indice_resultados = [\"Tasa de aciertos\", \"Sensibilidad\", \"Especificidad\", \"Precision\", \"F1\"]\n",
    "resultados_valores = [Tasa_de_aciertos, Sensibilidad, Especificidad, Precision, F1]\n",
    "\n",
    "resultados = pd.DataFrame(data={f\"{nombre_fichero}\": resultados_valores},\n",
    "                          index=indice_resultados)\n",
    "resultados"
   ]
  },
  {
   "cell_type": "markdown",
   "id": "73673649",
   "metadata": {},
   "source": [
    "## Se exportan los datos"
   ]
  },
  {
   "cell_type": "code",
   "execution_count": 48,
   "id": "0058247b",
   "metadata": {},
   "outputs": [],
   "source": [
    "nombre_columna = list(resultados.columns)[0]\n",
    "resultados.to_excel(f\"Resultados de las métricas de {nombre_fichero}.xlsx\")"
   ]
  },
  {
   "cell_type": "code",
   "execution_count": 49,
   "id": "54f83870",
   "metadata": {},
   "outputs": [
    {
     "data": {
      "text/plain": [
       "0.6904046904998515"
      ]
     },
     "execution_count": 49,
     "metadata": {},
     "output_type": "execute_result"
    }
   ],
   "source": [
    "average_precision = average_precision_score(y, prob_predicciones)\n",
    "average_precision"
   ]
  },
  {
   "cell_type": "code",
   "execution_count": 50,
   "id": "5be48f90",
   "metadata": {},
   "outputs": [],
   "source": [
    "precision, recall, thresholds = precision_recall_curve(y, prob_predicciones)\n",
    "#precision = TP / (TP + FP)\n",
    "#recall = sensibilidad = TP / (TP + FN)"
   ]
  },
  {
   "cell_type": "code",
   "execution_count": 51,
   "id": "feb4ea4a",
   "metadata": {},
   "outputs": [
    {
     "data": {
      "text/plain": [
       "0.6015957129887438"
      ]
     },
     "execution_count": 51,
     "metadata": {},
     "output_type": "execute_result"
    }
   ],
   "source": [
    "distances = np.linalg.norm(np.column_stack((precision, recall)) - np.array([1, 1]), axis=1)\n",
    "optimal_threshold_index = np.argmin(distances)\n",
    "optimal_threshold = thresholds[optimal_threshold_index]\n",
    "optimal_threshold"
   ]
  },
  {
   "cell_type": "code",
   "execution_count": 52,
   "id": "d4eb969d",
   "metadata": {},
   "outputs": [
    {
     "data": {
      "text/plain": [
       "0.7956656346749226"
      ]
     },
     "execution_count": 52,
     "metadata": {},
     "output_type": "execute_result"
    }
   ],
   "source": [
    "optimal_precision = precision[optimal_threshold_index]\n",
    "optimal_precision"
   ]
  },
  {
   "cell_type": "code",
   "execution_count": 53,
   "id": "651c4070",
   "metadata": {},
   "outputs": [
    {
     "data": {
      "text/plain": [
       "0.7041095890410959"
      ]
     },
     "execution_count": 53,
     "metadata": {},
     "output_type": "execute_result"
    }
   ],
   "source": [
    "optimal_recall = recall[optimal_threshold_index]\n",
    "optimal_recall"
   ]
  },
  {
   "cell_type": "markdown",
   "id": "0ef7383b",
   "metadata": {},
   "source": [
    "# CURVA PR. El punto óptimo es = (precision = 1, recall = 1)"
   ]
  },
  {
   "cell_type": "code",
   "execution_count": 63,
   "id": "63d6b26b",
   "metadata": {
    "scrolled": false
   },
   "outputs": [
    {
     "data": {
      "image/png": "[encoded data removed]",
      "text/plain": [
       "<Figure size 640x480 with 1 Axes>"
      ]
     },
     "metadata": {},
     "output_type": "display_data"
    }
   ],
   "source": [
    "plt.plot(recall, precision, label = f'APS Score = {average_precision:.4}')\n",
    "plt.plot(optimal_recall, optimal_precision, 'ro')\n",
    "plt.annotate(f'      Threshold\\n óptimo = {optimal_threshold:.2}',\n",
    "             xy=(optimal_recall, optimal_precision), xycoords='data',\n",
    "             xytext=(10, +20) ,textcoords='offset points', fontsize=10,\n",
    "             arrowprops=dict(arrowstyle=\"->\", connectionstyle = \"arc3, rad = .2\"))\n",
    "plt.ylabel('Precision')\n",
    "plt.xlabel('Recall')\n",
    "plt.title('PR Curve')\n",
    "plt.legend(loc = 'upper left')\n",
    "plt.ylim(0, 1.01)\n",
    "plt.show()"
   ]
  },
  {
   "cell_type": "markdown",
   "id": "30150983",
   "metadata": {},
   "source": [
    "# Se calcula cuanto tiempo ha transcurrido en la ejecucion de todo el notebook y se guarda el tiempo en un fichero de texto para almacenarlo."
   ]
  },
  {
   "cell_type": "code",
   "execution_count": 55,
   "id": "cbd2e910",
   "metadata": {},
   "outputs": [],
   "source": [
    "fin = time.time()\n",
    "tiempo_transcurrido = fin - inicio\n",
    "minutos = int((tiempo_transcurrido % 3600) // 60)\n",
    "segundos = int(tiempo_transcurrido % 60)\n",
    "with open(f\"Tiempo de ejecucion transcurrido en el notebook {nombre_fichero}.txt\", \"w\") as f :\n",
    "    f.write(f\"Tiempo transcurrido: {minutos} minutos, {segundos} segundos\")"
   ]
  },
  {
   "cell_type": "code",
   "execution_count": 56,
   "id": "ac05bd17",
   "metadata": {},
   "outputs": [
    {
     "name": "stdout",
     "output_type": "stream",
     "text": [
      "Tiempo transcurrido: 0 minutos, 6 segundos\n"
     ]
    }
   ],
   "source": [
    "print(f\"Tiempo transcurrido: {minutos} minutos, {segundos} segundos\")"
   ]
  }
 ],
 "metadata": {
  "kernelspec": {
   "display_name": "Python 3 (ipykernel)",
   "language": "python",
   "name": "python3"
  },
  "language_info": {
   "codemirror_mode": {
    "name": "ipython",
    "version": 3
   },
   "file_extension": ".py",
   "mimetype": "text/x-python",
   "name": "python",
   "nbconvert_exporter": "python",
   "pygments_lexer": "ipython3",
   "version": "3.9.13"
  }
 },
 "nbformat": 4,
 "nbformat_minor": 5
}
