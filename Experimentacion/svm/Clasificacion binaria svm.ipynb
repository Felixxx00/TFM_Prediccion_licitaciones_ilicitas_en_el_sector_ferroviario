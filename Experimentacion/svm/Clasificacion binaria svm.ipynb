{
 "cells": [
  {
   "cell_type": "code",
   "execution_count": 1,
   "id": "0d3f2278",
   "metadata": {},
   "outputs": [],
   "source": [
    "import time\n",
    "inicio = time.time()"
   ]
  },
  {
   "cell_type": "code",
   "execution_count": 2,
   "id": "93625c5a",
   "metadata": {},
   "outputs": [],
   "source": [
    "import os\n",
    "import pandas as pd\n",
    "import numpy as np\n",
    "import matplotlib.pyplot as plt\n",
    "\n",
    "from sklearn.preprocessing import OneHotEncoder\n",
    "from sklearn.preprocessing import StandardScaler\n",
    "\n",
    "from sklearn.model_selection import LeaveOneOut\n",
    "\n",
    "from sklearn.svm import SVC\n",
    "\n",
    "from sklearn.metrics import confusion_matrix\n",
    "from sklearn.metrics import roc_auc_score\n",
    "from sklearn.metrics import roc_curve\n",
    "from sklearn.metrics import average_precision_score\n",
    "from sklearn.metrics import precision_recall_curve"
   ]
  },
  {
   "cell_type": "markdown",
   "id": "0c9e6fdb",
   "metadata": {},
   "source": [
    "# Se importan los datos"
   ]
  },
  {
   "cell_type": "code",
   "execution_count": 3,
   "id": "4fbba252",
   "metadata": {},
   "outputs": [],
   "source": [
    "df = pd.read_excel(\"..//Base_datos_Clasificacion binaria.xlsx\", index_col = 0)"
   ]
  },
  {
   "cell_type": "code",
   "execution_count": 4,
   "id": "6702f0ab",
   "metadata": {},
   "outputs": [
    {
     "data": {
      "text/html": [
       "<div>\n",
       "<style scoped>\n",
       "    .dataframe tbody tr th:only-of-type {\n",
       "        vertical-align: middle;\n",
       "    }\n",
       "\n",
       "    .dataframe tbody tr th {\n",
       "        vertical-align: top;\n",
       "    }\n",
       "\n",
       "    .dataframe thead th {\n",
       "        text-align: right;\n",
       "    }\n",
       "</style>\n",
       "<table border=\"1\" class=\"dataframe\">\n",
       "  <thead>\n",
       "    <tr style=\"text-align: right;\">\n",
       "      <th></th>\n",
       "      <th>Licitacion reparto</th>\n",
       "      <th>Importe presupuestado</th>\n",
       "      <th>Importe adjudicado</th>\n",
       "      <th>MP</th>\n",
       "      <th>Empresa sancionada</th>\n",
       "      <th>UTE</th>\n",
       "    </tr>\n",
       "  </thead>\n",
       "  <tbody>\n",
       "    <tr>\n",
       "      <th>0</th>\n",
       "      <td>0</td>\n",
       "      <td>1738093.21</td>\n",
       "      <td>1484428.72</td>\n",
       "      <td>6</td>\n",
       "      <td>1</td>\n",
       "      <td>0</td>\n",
       "    </tr>\n",
       "    <tr>\n",
       "      <th>1</th>\n",
       "      <td>0</td>\n",
       "      <td>469670.24</td>\n",
       "      <td>272492.00</td>\n",
       "      <td>4</td>\n",
       "      <td>0</td>\n",
       "      <td>0</td>\n",
       "    </tr>\n",
       "    <tr>\n",
       "      <th>2</th>\n",
       "      <td>0</td>\n",
       "      <td>1025088.19</td>\n",
       "      <td>707310.85</td>\n",
       "      <td>1</td>\n",
       "      <td>0</td>\n",
       "      <td>0</td>\n",
       "    </tr>\n",
       "    <tr>\n",
       "      <th>3</th>\n",
       "      <td>0</td>\n",
       "      <td>999890.00</td>\n",
       "      <td>497621.36</td>\n",
       "      <td>6</td>\n",
       "      <td>0</td>\n",
       "      <td>0</td>\n",
       "    </tr>\n",
       "    <tr>\n",
       "      <th>4</th>\n",
       "      <td>0</td>\n",
       "      <td>72598.27</td>\n",
       "      <td>47508.92</td>\n",
       "      <td>1</td>\n",
       "      <td>1</td>\n",
       "      <td>0</td>\n",
       "    </tr>\n",
       "    <tr>\n",
       "      <th>...</th>\n",
       "      <td>...</td>\n",
       "      <td>...</td>\n",
       "      <td>...</td>\n",
       "      <td>...</td>\n",
       "      <td>...</td>\n",
       "      <td>...</td>\n",
       "    </tr>\n",
       "    <tr>\n",
       "      <th>2211</th>\n",
       "      <td>1</td>\n",
       "      <td>5542028.88</td>\n",
       "      <td>5514320.00</td>\n",
       "      <td>6</td>\n",
       "      <td>1</td>\n",
       "      <td>0</td>\n",
       "    </tr>\n",
       "    <tr>\n",
       "      <th>2212</th>\n",
       "      <td>1</td>\n",
       "      <td>6095782.00</td>\n",
       "      <td>5100555.00</td>\n",
       "      <td>6</td>\n",
       "      <td>1</td>\n",
       "      <td>0</td>\n",
       "    </tr>\n",
       "    <tr>\n",
       "      <th>2213</th>\n",
       "      <td>1</td>\n",
       "      <td>3752906.00</td>\n",
       "      <td>3744400.00</td>\n",
       "      <td>6</td>\n",
       "      <td>1</td>\n",
       "      <td>0</td>\n",
       "    </tr>\n",
       "    <tr>\n",
       "      <th>2214</th>\n",
       "      <td>1</td>\n",
       "      <td>23896564.00</td>\n",
       "      <td>19547338.00</td>\n",
       "      <td>6</td>\n",
       "      <td>0</td>\n",
       "      <td>1</td>\n",
       "    </tr>\n",
       "    <tr>\n",
       "      <th>2215</th>\n",
       "      <td>1</td>\n",
       "      <td>33415098.00</td>\n",
       "      <td>33349532.00</td>\n",
       "      <td>6</td>\n",
       "      <td>1</td>\n",
       "      <td>0</td>\n",
       "    </tr>\n",
       "  </tbody>\n",
       "</table>\n",
       "<p>2216 rows × 6 columns</p>\n",
       "</div>"
      ],
      "text/plain": [
       "      Licitacion reparto  Importe presupuestado  Importe adjudicado  MP  \\\n",
       "0                      0             1738093.21          1484428.72   6   \n",
       "1                      0              469670.24           272492.00   4   \n",
       "2                      0             1025088.19           707310.85   1   \n",
       "3                      0              999890.00           497621.36   6   \n",
       "4                      0               72598.27            47508.92   1   \n",
       "...                  ...                    ...                 ...  ..   \n",
       "2211                   1             5542028.88          5514320.00   6   \n",
       "2212                   1             6095782.00          5100555.00   6   \n",
       "2213                   1             3752906.00          3744400.00   6   \n",
       "2214                   1            23896564.00         19547338.00   6   \n",
       "2215                   1            33415098.00         33349532.00   6   \n",
       "\n",
       "      Empresa sancionada  UTE  \n",
       "0                      1    0  \n",
       "1                      0    0  \n",
       "2                      0    0  \n",
       "3                      0    0  \n",
       "4                      1    0  \n",
       "...                  ...  ...  \n",
       "2211                   1    0  \n",
       "2212                   1    0  \n",
       "2213                   1    0  \n",
       "2214                   0    1  \n",
       "2215                   1    0  \n",
       "\n",
       "[2216 rows x 6 columns]"
      ]
     },
     "execution_count": 4,
     "metadata": {},
     "output_type": "execute_result"
    }
   ],
   "source": [
    "df"
   ]
  },
  {
   "cell_type": "markdown",
   "id": "1421a9bf",
   "metadata": {},
   "source": [
    "# Se estandarizan y normalizan los predictores numericos"
   ]
  },
  {
   "cell_type": "code",
   "execution_count": 5,
   "id": "0f2eecb7",
   "metadata": {},
   "outputs": [],
   "source": [
    "predictores_numericos = df[[\"Importe presupuestado\", \"Importe adjudicado\"]]"
   ]
  },
  {
   "cell_type": "code",
   "execution_count": 6,
   "id": "ad7713cc",
   "metadata": {},
   "outputs": [],
   "source": [
    "scaler = StandardScaler()\n",
    "stand = scaler.fit_transform(predictores_numericos)"
   ]
  },
  {
   "cell_type": "code",
   "execution_count": 7,
   "id": "c560faf2",
   "metadata": {},
   "outputs": [
    {
     "data": {
      "text/html": [
       "<div>\n",
       "<style scoped>\n",
       "    .dataframe tbody tr th:only-of-type {\n",
       "        vertical-align: middle;\n",
       "    }\n",
       "\n",
       "    .dataframe tbody tr th {\n",
       "        vertical-align: top;\n",
       "    }\n",
       "\n",
       "    .dataframe thead th {\n",
       "        text-align: right;\n",
       "    }\n",
       "</style>\n",
       "<table border=\"1\" class=\"dataframe\">\n",
       "  <thead>\n",
       "    <tr style=\"text-align: right;\">\n",
       "      <th></th>\n",
       "      <th>Importe presupuestado</th>\n",
       "      <th>Importe adjudicado</th>\n",
       "    </tr>\n",
       "  </thead>\n",
       "  <tbody>\n",
       "    <tr>\n",
       "      <th>0</th>\n",
       "      <td>-0.205390</td>\n",
       "      <td>-0.212546</td>\n",
       "    </tr>\n",
       "    <tr>\n",
       "      <th>1</th>\n",
       "      <td>-0.237976</td>\n",
       "      <td>-0.248383</td>\n",
       "    </tr>\n",
       "    <tr>\n",
       "      <th>2</th>\n",
       "      <td>-0.223707</td>\n",
       "      <td>-0.235525</td>\n",
       "    </tr>\n",
       "    <tr>\n",
       "      <th>3</th>\n",
       "      <td>-0.224354</td>\n",
       "      <td>-0.241726</td>\n",
       "    </tr>\n",
       "    <tr>\n",
       "      <th>4</th>\n",
       "      <td>-0.248176</td>\n",
       "      <td>-0.255036</td>\n",
       "    </tr>\n",
       "    <tr>\n",
       "      <th>...</th>\n",
       "      <td>...</td>\n",
       "      <td>...</td>\n",
       "    </tr>\n",
       "    <tr>\n",
       "      <th>2211</th>\n",
       "      <td>-0.107667</td>\n",
       "      <td>-0.093383</td>\n",
       "    </tr>\n",
       "    <tr>\n",
       "      <th>2212</th>\n",
       "      <td>-0.093441</td>\n",
       "      <td>-0.105618</td>\n",
       "    </tr>\n",
       "    <tr>\n",
       "      <th>2213</th>\n",
       "      <td>-0.153630</td>\n",
       "      <td>-0.145719</td>\n",
       "    </tr>\n",
       "    <tr>\n",
       "      <th>2214</th>\n",
       "      <td>0.363860</td>\n",
       "      <td>0.321573</td>\n",
       "    </tr>\n",
       "    <tr>\n",
       "      <th>2215</th>\n",
       "      <td>0.608391</td>\n",
       "      <td>0.729702</td>\n",
       "    </tr>\n",
       "  </tbody>\n",
       "</table>\n",
       "<p>2216 rows × 2 columns</p>\n",
       "</div>"
      ],
      "text/plain": [
       "      Importe presupuestado  Importe adjudicado\n",
       "0                 -0.205390           -0.212546\n",
       "1                 -0.237976           -0.248383\n",
       "2                 -0.223707           -0.235525\n",
       "3                 -0.224354           -0.241726\n",
       "4                 -0.248176           -0.255036\n",
       "...                     ...                 ...\n",
       "2211              -0.107667           -0.093383\n",
       "2212              -0.093441           -0.105618\n",
       "2213              -0.153630           -0.145719\n",
       "2214               0.363860            0.321573\n",
       "2215               0.608391            0.729702\n",
       "\n",
       "[2216 rows x 2 columns]"
      ]
     },
     "execution_count": 7,
     "metadata": {},
     "output_type": "execute_result"
    }
   ],
   "source": [
    "df[[\"Importe presupuestado\", \"Importe adjudicado\"]] = stand\n",
    "predictores_numericos = df[[\"Importe presupuestado\", \"Importe adjudicado\"]]\n",
    "predictores_numericos"
   ]
  },
  {
   "cell_type": "code",
   "execution_count": 8,
   "id": "18edcff2",
   "metadata": {},
   "outputs": [],
   "source": [
    "norm = (predictores_numericos - predictores_numericos.min()) / (predictores_numericos.max() - predictores_numericos.min())"
   ]
  },
  {
   "cell_type": "code",
   "execution_count": 9,
   "id": "4afbe1cb",
   "metadata": {
    "scrolled": false
   },
   "outputs": [
    {
     "data": {
      "text/html": [
       "<div>\n",
       "<style scoped>\n",
       "    .dataframe tbody tr th:only-of-type {\n",
       "        vertical-align: middle;\n",
       "    }\n",
       "\n",
       "    .dataframe tbody tr th {\n",
       "        vertical-align: top;\n",
       "    }\n",
       "\n",
       "    .dataframe thead th {\n",
       "        text-align: right;\n",
       "    }\n",
       "</style>\n",
       "<table border=\"1\" class=\"dataframe\">\n",
       "  <thead>\n",
       "    <tr style=\"text-align: right;\">\n",
       "      <th></th>\n",
       "      <th>Importe presupuestado</th>\n",
       "      <th>Importe adjudicado</th>\n",
       "    </tr>\n",
       "  </thead>\n",
       "  <tbody>\n",
       "    <tr>\n",
       "      <th>0</th>\n",
       "      <td>0.002679</td>\n",
       "      <td>0.002861</td>\n",
       "    </tr>\n",
       "    <tr>\n",
       "      <th>1</th>\n",
       "      <td>0.000699</td>\n",
       "      <td>0.000494</td>\n",
       "    </tr>\n",
       "    <tr>\n",
       "      <th>2</th>\n",
       "      <td>0.001566</td>\n",
       "      <td>0.001343</td>\n",
       "    </tr>\n",
       "    <tr>\n",
       "      <th>3</th>\n",
       "      <td>0.001526</td>\n",
       "      <td>0.000934</td>\n",
       "    </tr>\n",
       "    <tr>\n",
       "      <th>4</th>\n",
       "      <td>0.000079</td>\n",
       "      <td>0.000054</td>\n",
       "    </tr>\n",
       "    <tr>\n",
       "      <th>...</th>\n",
       "      <td>...</td>\n",
       "      <td>...</td>\n",
       "    </tr>\n",
       "    <tr>\n",
       "      <th>2211</th>\n",
       "      <td>0.008615</td>\n",
       "      <td>0.010734</td>\n",
       "    </tr>\n",
       "    <tr>\n",
       "      <th>2212</th>\n",
       "      <td>0.009479</td>\n",
       "      <td>0.009925</td>\n",
       "    </tr>\n",
       "    <tr>\n",
       "      <th>2213</th>\n",
       "      <td>0.005823</td>\n",
       "      <td>0.007276</td>\n",
       "    </tr>\n",
       "    <tr>\n",
       "      <th>2214</th>\n",
       "      <td>0.037259</td>\n",
       "      <td>0.038147</td>\n",
       "    </tr>\n",
       "    <tr>\n",
       "      <th>2215</th>\n",
       "      <td>0.052114</td>\n",
       "      <td>0.065109</td>\n",
       "    </tr>\n",
       "  </tbody>\n",
       "</table>\n",
       "<p>2216 rows × 2 columns</p>\n",
       "</div>"
      ],
      "text/plain": [
       "      Importe presupuestado  Importe adjudicado\n",
       "0                  0.002679            0.002861\n",
       "1                  0.000699            0.000494\n",
       "2                  0.001566            0.001343\n",
       "3                  0.001526            0.000934\n",
       "4                  0.000079            0.000054\n",
       "...                     ...                 ...\n",
       "2211               0.008615            0.010734\n",
       "2212               0.009479            0.009925\n",
       "2213               0.005823            0.007276\n",
       "2214               0.037259            0.038147\n",
       "2215               0.052114            0.065109\n",
       "\n",
       "[2216 rows x 2 columns]"
      ]
     },
     "execution_count": 9,
     "metadata": {},
     "output_type": "execute_result"
    }
   ],
   "source": [
    "df[[\"Importe presupuestado\", \"Importe adjudicado\"]] = norm\n",
    "predictores_numericos = df[[\"Importe presupuestado\", \"Importe adjudicado\"]]\n",
    "predictores_numericos"
   ]
  },
  {
   "cell_type": "code",
   "execution_count": 10,
   "id": "cc156033",
   "metadata": {
    "scrolled": false
   },
   "outputs": [
    {
     "data": {
      "text/html": [
       "<div>\n",
       "<style scoped>\n",
       "    .dataframe tbody tr th:only-of-type {\n",
       "        vertical-align: middle;\n",
       "    }\n",
       "\n",
       "    .dataframe tbody tr th {\n",
       "        vertical-align: top;\n",
       "    }\n",
       "\n",
       "    .dataframe thead th {\n",
       "        text-align: right;\n",
       "    }\n",
       "</style>\n",
       "<table border=\"1\" class=\"dataframe\">\n",
       "  <thead>\n",
       "    <tr style=\"text-align: right;\">\n",
       "      <th></th>\n",
       "      <th>Licitacion reparto</th>\n",
       "      <th>Importe presupuestado</th>\n",
       "      <th>Importe adjudicado</th>\n",
       "      <th>MP</th>\n",
       "      <th>Empresa sancionada</th>\n",
       "      <th>UTE</th>\n",
       "    </tr>\n",
       "  </thead>\n",
       "  <tbody>\n",
       "    <tr>\n",
       "      <th>0</th>\n",
       "      <td>0</td>\n",
       "      <td>0.002679</td>\n",
       "      <td>0.002861</td>\n",
       "      <td>6</td>\n",
       "      <td>1</td>\n",
       "      <td>0</td>\n",
       "    </tr>\n",
       "    <tr>\n",
       "      <th>1</th>\n",
       "      <td>0</td>\n",
       "      <td>0.000699</td>\n",
       "      <td>0.000494</td>\n",
       "      <td>4</td>\n",
       "      <td>0</td>\n",
       "      <td>0</td>\n",
       "    </tr>\n",
       "    <tr>\n",
       "      <th>2</th>\n",
       "      <td>0</td>\n",
       "      <td>0.001566</td>\n",
       "      <td>0.001343</td>\n",
       "      <td>1</td>\n",
       "      <td>0</td>\n",
       "      <td>0</td>\n",
       "    </tr>\n",
       "    <tr>\n",
       "      <th>3</th>\n",
       "      <td>0</td>\n",
       "      <td>0.001526</td>\n",
       "      <td>0.000934</td>\n",
       "      <td>6</td>\n",
       "      <td>0</td>\n",
       "      <td>0</td>\n",
       "    </tr>\n",
       "    <tr>\n",
       "      <th>4</th>\n",
       "      <td>0</td>\n",
       "      <td>0.000079</td>\n",
       "      <td>0.000054</td>\n",
       "      <td>1</td>\n",
       "      <td>1</td>\n",
       "      <td>0</td>\n",
       "    </tr>\n",
       "    <tr>\n",
       "      <th>...</th>\n",
       "      <td>...</td>\n",
       "      <td>...</td>\n",
       "      <td>...</td>\n",
       "      <td>...</td>\n",
       "      <td>...</td>\n",
       "      <td>...</td>\n",
       "    </tr>\n",
       "    <tr>\n",
       "      <th>2211</th>\n",
       "      <td>1</td>\n",
       "      <td>0.008615</td>\n",
       "      <td>0.010734</td>\n",
       "      <td>6</td>\n",
       "      <td>1</td>\n",
       "      <td>0</td>\n",
       "    </tr>\n",
       "    <tr>\n",
       "      <th>2212</th>\n",
       "      <td>1</td>\n",
       "      <td>0.009479</td>\n",
       "      <td>0.009925</td>\n",
       "      <td>6</td>\n",
       "      <td>1</td>\n",
       "      <td>0</td>\n",
       "    </tr>\n",
       "    <tr>\n",
       "      <th>2213</th>\n",
       "      <td>1</td>\n",
       "      <td>0.005823</td>\n",
       "      <td>0.007276</td>\n",
       "      <td>6</td>\n",
       "      <td>1</td>\n",
       "      <td>0</td>\n",
       "    </tr>\n",
       "    <tr>\n",
       "      <th>2214</th>\n",
       "      <td>1</td>\n",
       "      <td>0.037259</td>\n",
       "      <td>0.038147</td>\n",
       "      <td>6</td>\n",
       "      <td>0</td>\n",
       "      <td>1</td>\n",
       "    </tr>\n",
       "    <tr>\n",
       "      <th>2215</th>\n",
       "      <td>1</td>\n",
       "      <td>0.052114</td>\n",
       "      <td>0.065109</td>\n",
       "      <td>6</td>\n",
       "      <td>1</td>\n",
       "      <td>0</td>\n",
       "    </tr>\n",
       "  </tbody>\n",
       "</table>\n",
       "<p>2216 rows × 6 columns</p>\n",
       "</div>"
      ],
      "text/plain": [
       "      Licitacion reparto  Importe presupuestado  Importe adjudicado  MP  \\\n",
       "0                      0               0.002679            0.002861   6   \n",
       "1                      0               0.000699            0.000494   4   \n",
       "2                      0               0.001566            0.001343   1   \n",
       "3                      0               0.001526            0.000934   6   \n",
       "4                      0               0.000079            0.000054   1   \n",
       "...                  ...                    ...                 ...  ..   \n",
       "2211                   1               0.008615            0.010734   6   \n",
       "2212                   1               0.009479            0.009925   6   \n",
       "2213                   1               0.005823            0.007276   6   \n",
       "2214                   1               0.037259            0.038147   6   \n",
       "2215                   1               0.052114            0.065109   6   \n",
       "\n",
       "      Empresa sancionada  UTE  \n",
       "0                      1    0  \n",
       "1                      0    0  \n",
       "2                      0    0  \n",
       "3                      0    0  \n",
       "4                      1    0  \n",
       "...                  ...  ...  \n",
       "2211                   1    0  \n",
       "2212                   1    0  \n",
       "2213                   1    0  \n",
       "2214                   0    1  \n",
       "2215                   1    0  \n",
       "\n",
       "[2216 rows x 6 columns]"
      ]
     },
     "execution_count": 10,
     "metadata": {},
     "output_type": "execute_result"
    }
   ],
   "source": [
    "df"
   ]
  },
  {
   "cell_type": "markdown",
   "id": "c98b7bd0",
   "metadata": {},
   "source": [
    "# Codificacion OneHotEncoder"
   ]
  },
  {
   "cell_type": "code",
   "execution_count": 11,
   "id": "9fa45ae5",
   "metadata": {},
   "outputs": [],
   "source": [
    "codificador = OneHotEncoder()"
   ]
  },
  {
   "cell_type": "code",
   "execution_count": 12,
   "id": "43ec2250",
   "metadata": {},
   "outputs": [
    {
     "name": "stdout",
     "output_type": "stream",
     "text": [
      "<class 'pandas.core.frame.DataFrame'>\n",
      "Int64Index: 2216 entries, 0 to 2215\n",
      "Data columns (total 6 columns):\n",
      " #   Column                 Non-Null Count  Dtype   \n",
      "---  ------                 --------------  -----   \n",
      " 0   Licitacion reparto     2216 non-null   int64   \n",
      " 1   Importe presupuestado  2216 non-null   float64 \n",
      " 2   Importe adjudicado     2216 non-null   float64 \n",
      " 3   MP                     2216 non-null   category\n",
      " 4   Empresa sancionada     2216 non-null   category\n",
      " 5   UTE                    2216 non-null   category\n",
      "dtypes: category(3), float64(2), int64(1)\n",
      "memory usage: 76.1 KB\n"
     ]
    }
   ],
   "source": [
    "df[[\"MP\", \"Empresa sancionada\", \"UTE\"]] = df[[\"MP\", \"Empresa sancionada\", \"UTE\"]].astype(\"category\")\n",
    "df.info()"
   ]
  },
  {
   "cell_type": "code",
   "execution_count": 13,
   "id": "7020af8c",
   "metadata": {},
   "outputs": [
    {
     "data": {
      "text/html": [
       "<div>\n",
       "<style scoped>\n",
       "    .dataframe tbody tr th:only-of-type {\n",
       "        vertical-align: middle;\n",
       "    }\n",
       "\n",
       "    .dataframe tbody tr th {\n",
       "        vertical-align: top;\n",
       "    }\n",
       "\n",
       "    .dataframe thead th {\n",
       "        text-align: right;\n",
       "    }\n",
       "</style>\n",
       "<table border=\"1\" class=\"dataframe\">\n",
       "  <thead>\n",
       "    <tr style=\"text-align: right;\">\n",
       "      <th></th>\n",
       "      <th>Licitacion reparto</th>\n",
       "      <th>Importe presupuestado</th>\n",
       "      <th>Importe adjudicado</th>\n",
       "      <th>Empresa sancionada</th>\n",
       "      <th>UTE</th>\n",
       "      <th>MP1</th>\n",
       "      <th>MP4</th>\n",
       "      <th>MP6</th>\n",
       "    </tr>\n",
       "  </thead>\n",
       "  <tbody>\n",
       "    <tr>\n",
       "      <th>0</th>\n",
       "      <td>0</td>\n",
       "      <td>0.002679</td>\n",
       "      <td>0.002861</td>\n",
       "      <td>1</td>\n",
       "      <td>0</td>\n",
       "      <td>0.0</td>\n",
       "      <td>0.0</td>\n",
       "      <td>1.0</td>\n",
       "    </tr>\n",
       "    <tr>\n",
       "      <th>1</th>\n",
       "      <td>0</td>\n",
       "      <td>0.000699</td>\n",
       "      <td>0.000494</td>\n",
       "      <td>0</td>\n",
       "      <td>0</td>\n",
       "      <td>0.0</td>\n",
       "      <td>1.0</td>\n",
       "      <td>0.0</td>\n",
       "    </tr>\n",
       "    <tr>\n",
       "      <th>2</th>\n",
       "      <td>0</td>\n",
       "      <td>0.001566</td>\n",
       "      <td>0.001343</td>\n",
       "      <td>0</td>\n",
       "      <td>0</td>\n",
       "      <td>1.0</td>\n",
       "      <td>0.0</td>\n",
       "      <td>0.0</td>\n",
       "    </tr>\n",
       "    <tr>\n",
       "      <th>3</th>\n",
       "      <td>0</td>\n",
       "      <td>0.001526</td>\n",
       "      <td>0.000934</td>\n",
       "      <td>0</td>\n",
       "      <td>0</td>\n",
       "      <td>0.0</td>\n",
       "      <td>0.0</td>\n",
       "      <td>1.0</td>\n",
       "    </tr>\n",
       "    <tr>\n",
       "      <th>4</th>\n",
       "      <td>0</td>\n",
       "      <td>0.000079</td>\n",
       "      <td>0.000054</td>\n",
       "      <td>1</td>\n",
       "      <td>0</td>\n",
       "      <td>1.0</td>\n",
       "      <td>0.0</td>\n",
       "      <td>0.0</td>\n",
       "    </tr>\n",
       "    <tr>\n",
       "      <th>...</th>\n",
       "      <td>...</td>\n",
       "      <td>...</td>\n",
       "      <td>...</td>\n",
       "      <td>...</td>\n",
       "      <td>...</td>\n",
       "      <td>...</td>\n",
       "      <td>...</td>\n",
       "      <td>...</td>\n",
       "    </tr>\n",
       "    <tr>\n",
       "      <th>2211</th>\n",
       "      <td>1</td>\n",
       "      <td>0.008615</td>\n",
       "      <td>0.010734</td>\n",
       "      <td>1</td>\n",
       "      <td>0</td>\n",
       "      <td>0.0</td>\n",
       "      <td>0.0</td>\n",
       "      <td>1.0</td>\n",
       "    </tr>\n",
       "    <tr>\n",
       "      <th>2212</th>\n",
       "      <td>1</td>\n",
       "      <td>0.009479</td>\n",
       "      <td>0.009925</td>\n",
       "      <td>1</td>\n",
       "      <td>0</td>\n",
       "      <td>0.0</td>\n",
       "      <td>0.0</td>\n",
       "      <td>1.0</td>\n",
       "    </tr>\n",
       "    <tr>\n",
       "      <th>2213</th>\n",
       "      <td>1</td>\n",
       "      <td>0.005823</td>\n",
       "      <td>0.007276</td>\n",
       "      <td>1</td>\n",
       "      <td>0</td>\n",
       "      <td>0.0</td>\n",
       "      <td>0.0</td>\n",
       "      <td>1.0</td>\n",
       "    </tr>\n",
       "    <tr>\n",
       "      <th>2214</th>\n",
       "      <td>1</td>\n",
       "      <td>0.037259</td>\n",
       "      <td>0.038147</td>\n",
       "      <td>0</td>\n",
       "      <td>1</td>\n",
       "      <td>0.0</td>\n",
       "      <td>0.0</td>\n",
       "      <td>1.0</td>\n",
       "    </tr>\n",
       "    <tr>\n",
       "      <th>2215</th>\n",
       "      <td>1</td>\n",
       "      <td>0.052114</td>\n",
       "      <td>0.065109</td>\n",
       "      <td>1</td>\n",
       "      <td>0</td>\n",
       "      <td>0.0</td>\n",
       "      <td>0.0</td>\n",
       "      <td>1.0</td>\n",
       "    </tr>\n",
       "  </tbody>\n",
       "</table>\n",
       "<p>2216 rows × 8 columns</p>\n",
       "</div>"
      ],
      "text/plain": [
       "      Licitacion reparto  Importe presupuestado  Importe adjudicado  \\\n",
       "0                      0               0.002679            0.002861   \n",
       "1                      0               0.000699            0.000494   \n",
       "2                      0               0.001566            0.001343   \n",
       "3                      0               0.001526            0.000934   \n",
       "4                      0               0.000079            0.000054   \n",
       "...                  ...                    ...                 ...   \n",
       "2211                   1               0.008615            0.010734   \n",
       "2212                   1               0.009479            0.009925   \n",
       "2213                   1               0.005823            0.007276   \n",
       "2214                   1               0.037259            0.038147   \n",
       "2215                   1               0.052114            0.065109   \n",
       "\n",
       "     Empresa sancionada UTE  MP1  MP4  MP6  \n",
       "0                     1   0  0.0  0.0  1.0  \n",
       "1                     0   0  0.0  1.0  0.0  \n",
       "2                     0   0  1.0  0.0  0.0  \n",
       "3                     0   0  0.0  0.0  1.0  \n",
       "4                     1   0  1.0  0.0  0.0  \n",
       "...                 ...  ..  ...  ...  ...  \n",
       "2211                  1   0  0.0  0.0  1.0  \n",
       "2212                  1   0  0.0  0.0  1.0  \n",
       "2213                  1   0  0.0  0.0  1.0  \n",
       "2214                  0   1  0.0  0.0  1.0  \n",
       "2215                  1   0  0.0  0.0  1.0  \n",
       "\n",
       "[2216 rows x 8 columns]"
      ]
     },
     "execution_count": 13,
     "metadata": {},
     "output_type": "execute_result"
    }
   ],
   "source": [
    "codificacion = codificador.fit_transform(df[[\"MP\"]])\n",
    "\n",
    "mercados = pd.DataFrame(codificacion.toarray(),\n",
    "                        columns = [\"MP1\", \"MP4\", \"MP6\"])\n",
    "df = pd.concat([df, mercados], axis = 1)\n",
    "df.drop(\"MP\", axis = 1, inplace = True)\n",
    "df"
   ]
  },
  {
   "cell_type": "code",
   "execution_count": 14,
   "id": "e89fa24e",
   "metadata": {},
   "outputs": [],
   "source": [
    "nombre_clases = [\"Licitacion no reparto\", \"Licitacion reparto\"]\n",
    "nombre_predicciones = list(map(lambda x : x + \" predicho\", nombre_clases))"
   ]
  },
  {
   "cell_type": "markdown",
   "id": "211e921c",
   "metadata": {},
   "source": [
    "# Se hace la estimacion por SVM (Máquinas de Vectores de Soporte)"
   ]
  },
  {
   "cell_type": "markdown",
   "id": "14104ebd",
   "metadata": {},
   "source": [
    "Se recomienda no usar predict_proba porque realmente es la distancia a la frontera de decisión lo que marca que una instancia sea de una clase u otra. Es mejor usar una decision_function que mide la confianza de la clasificación dada. Si es positiva, se clasificará en la clase positiva. Lo contrario ocurre para valores negativos."
   ]
  },
  {
   "cell_type": "code",
   "execution_count": 15,
   "id": "13838e38",
   "metadata": {},
   "outputs": [],
   "source": [
    "X = df[df.columns[1:]]\n",
    "y = df[\"Licitacion reparto\"]\n",
    "\n",
    "loo = LeaveOneOut()\n",
    "svc = SVC(random_state = 123)\n",
    "predicciones = []\n",
    "confianza_predicciones = []\n",
    "\n",
    "for train_index, test_index in loo.split(X) :\n",
    "    \n",
    "    X_train, X_test = X.iloc[train_index], X.iloc[test_index]\n",
    "    y_train, y_test = y[train_index], y[test_index]\n",
    "\n",
    "    svc.fit(X_train, y_train)\n",
    "    y_pred = svc.predict(X_test)\n",
    "    y_pred_conf = svc.decision_function(X_test)\n",
    "    predicciones.append(int(y_pred))\n",
    "    confianza_predicciones.append(y_pred_conf[0])"
   ]
  },
  {
   "cell_type": "code",
   "execution_count": 16,
   "id": "11f992ca",
   "metadata": {},
   "outputs": [
    {
     "data": {
      "text/plain": [
       "{'C': 1.0,\n",
       " 'break_ties': False,\n",
       " 'cache_size': 200,\n",
       " 'class_weight': None,\n",
       " 'coef0': 0.0,\n",
       " 'decision_function_shape': 'ovr',\n",
       " 'degree': 3,\n",
       " 'gamma': 'scale',\n",
       " 'kernel': 'rbf',\n",
       " 'max_iter': -1,\n",
       " 'probability': False,\n",
       " 'random_state': 123,\n",
       " 'shrinking': True,\n",
       " 'tol': 0.001,\n",
       " 'verbose': False}"
      ]
     },
     "execution_count": 16,
     "metadata": {},
     "output_type": "execute_result"
    }
   ],
   "source": [
    "svc.get_params()"
   ]
  },
  {
   "cell_type": "markdown",
   "id": "10041148",
   "metadata": {},
   "source": [
    "# CURVA ROC. El punto optimo es = (fpr = 0, tpr = 1)"
   ]
  },
  {
   "cell_type": "code",
   "execution_count": 17,
   "id": "db8e803b",
   "metadata": {},
   "outputs": [
    {
     "data": {
      "text/plain": [
       "0.7794498345951467"
      ]
     },
     "execution_count": 17,
     "metadata": {},
     "output_type": "execute_result"
    }
   ],
   "source": [
    "auc_score = roc_auc_score(y, confianza_predicciones)\n",
    "auc_score"
   ]
  },
  {
   "cell_type": "code",
   "execution_count": 18,
   "id": "58bc8b0a",
   "metadata": {},
   "outputs": [],
   "source": [
    "fpr, tpr, thresholds = roc_curve(y, confianza_predicciones)\n",
    "#fpr es 1 - especificidad = 1 - (TN / (FP + TN)) = FP / (FP + TN)\n",
    "#tpr es la sensibilidad = TP / (TP + FN)"
   ]
  },
  {
   "cell_type": "code",
   "execution_count": 19,
   "id": "cc5669a7",
   "metadata": {},
   "outputs": [
    {
     "data": {
      "text/plain": [
       "-0.9997995942093084"
      ]
     },
     "execution_count": 19,
     "metadata": {},
     "output_type": "execute_result"
    }
   ],
   "source": [
    "distances = np.linalg.norm(np.column_stack((fpr, tpr)) - np.array([0, 1]), axis=1)\n",
    "optimal_threshold_index = np.argmin(distances)\n",
    "optimal_threshold = thresholds[optimal_threshold_index]\n",
    "optimal_threshold"
   ]
  },
  {
   "cell_type": "code",
   "execution_count": 20,
   "id": "394c2e09",
   "metadata": {},
   "outputs": [
    {
     "data": {
      "text/plain": [
       "0.20583468395461912"
      ]
     },
     "execution_count": 20,
     "metadata": {},
     "output_type": "execute_result"
    }
   ],
   "source": [
    "optimal_fpr = fpr[optimal_threshold_index]\n",
    "optimal_fpr"
   ]
  },
  {
   "cell_type": "code",
   "execution_count": 21,
   "id": "21e439af",
   "metadata": {},
   "outputs": [
    {
     "data": {
      "text/plain": [
       "0.7150684931506849"
      ]
     },
     "execution_count": 21,
     "metadata": {},
     "output_type": "execute_result"
    }
   ],
   "source": [
    "optimal_tpr = tpr[optimal_threshold_index]\n",
    "optimal_tpr"
   ]
  },
  {
   "cell_type": "code",
   "execution_count": 22,
   "id": "be97377c",
   "metadata": {},
   "outputs": [
    {
     "data": {
      "image/png": "[encoded data removed]",
      "text/plain": [
       "<Figure size 640x480 with 1 Axes>"
      ]
     },
     "metadata": {},
     "output_type": "display_data"
    }
   ],
   "source": [
    "plt.plot(fpr, tpr, label = f'AUC Score = {auc_score:.4}')\n",
    "plt.plot([0,1], linestyle=\"--\")\n",
    "plt.plot(optimal_fpr, optimal_tpr, 'ro')\n",
    "plt.annotate(f'      Threshold\\n óptimo = {optimal_threshold:.2}',\n",
    "             xy=(optimal_fpr, optimal_tpr), xycoords='data',\n",
    "             xytext=(-80, +20), textcoords='offset points', fontsize=10,\n",
    "             arrowprops=dict(arrowstyle=\"->\", connectionstyle = \"arc3, rad = .2\"))\n",
    "plt.ylabel('Sensibilidad')\n",
    "plt.xlabel('1 - especificidad')\n",
    "plt.title('ROC Curve')\n",
    "plt.legend(loc = 'lower right')\n",
    "plt.show()"
   ]
  },
  {
   "cell_type": "markdown",
   "id": "c748cf9d",
   "metadata": {},
   "source": [
    "# Metricas de la Matriz de Confusion"
   ]
  },
  {
   "cell_type": "code",
   "execution_count": 23,
   "id": "9f42ccb4",
   "metadata": {
    "scrolled": true
   },
   "outputs": [
    {
     "data": {
      "text/html": [
       "<div>\n",
       "<style scoped>\n",
       "    .dataframe tbody tr th:only-of-type {\n",
       "        vertical-align: middle;\n",
       "    }\n",
       "\n",
       "    .dataframe tbody tr th {\n",
       "        vertical-align: top;\n",
       "    }\n",
       "\n",
       "    .dataframe thead th {\n",
       "        text-align: right;\n",
       "    }\n",
       "</style>\n",
       "<table border=\"1\" class=\"dataframe\">\n",
       "  <thead>\n",
       "    <tr style=\"text-align: right;\">\n",
       "      <th></th>\n",
       "      <th>Licitacion reparto</th>\n",
       "      <th>Prediccion licitacion reparto</th>\n",
       "      <th>Conf prediccion</th>\n",
       "    </tr>\n",
       "  </thead>\n",
       "  <tbody>\n",
       "    <tr>\n",
       "      <th>0</th>\n",
       "      <td>0</td>\n",
       "      <td>0</td>\n",
       "      <td>-1.009157</td>\n",
       "    </tr>\n",
       "    <tr>\n",
       "      <th>1</th>\n",
       "      <td>0</td>\n",
       "      <td>0</td>\n",
       "      <td>-1.276787</td>\n",
       "    </tr>\n",
       "    <tr>\n",
       "      <th>2</th>\n",
       "      <td>0</td>\n",
       "      <td>0</td>\n",
       "      <td>-0.991282</td>\n",
       "    </tr>\n",
       "    <tr>\n",
       "      <th>3</th>\n",
       "      <td>0</td>\n",
       "      <td>0</td>\n",
       "      <td>-1.000206</td>\n",
       "    </tr>\n",
       "    <tr>\n",
       "      <th>4</th>\n",
       "      <td>0</td>\n",
       "      <td>0</td>\n",
       "      <td>-0.999742</td>\n",
       "    </tr>\n",
       "    <tr>\n",
       "      <th>...</th>\n",
       "      <td>...</td>\n",
       "      <td>...</td>\n",
       "      <td>...</td>\n",
       "    </tr>\n",
       "    <tr>\n",
       "      <th>2211</th>\n",
       "      <td>1</td>\n",
       "      <td>0</td>\n",
       "      <td>-1.003946</td>\n",
       "    </tr>\n",
       "    <tr>\n",
       "      <th>2212</th>\n",
       "      <td>1</td>\n",
       "      <td>0</td>\n",
       "      <td>-1.004038</td>\n",
       "    </tr>\n",
       "    <tr>\n",
       "      <th>2213</th>\n",
       "      <td>1</td>\n",
       "      <td>0</td>\n",
       "      <td>-1.006887</td>\n",
       "    </tr>\n",
       "    <tr>\n",
       "      <th>2214</th>\n",
       "      <td>1</td>\n",
       "      <td>0</td>\n",
       "      <td>-1.001012</td>\n",
       "    </tr>\n",
       "    <tr>\n",
       "      <th>2215</th>\n",
       "      <td>1</td>\n",
       "      <td>0</td>\n",
       "      <td>-0.967966</td>\n",
       "    </tr>\n",
       "  </tbody>\n",
       "</table>\n",
       "<p>2216 rows × 3 columns</p>\n",
       "</div>"
      ],
      "text/plain": [
       "      Licitacion reparto  Prediccion licitacion reparto  Conf prediccion\n",
       "0                      0                              0        -1.009157\n",
       "1                      0                              0        -1.276787\n",
       "2                      0                              0        -0.991282\n",
       "3                      0                              0        -1.000206\n",
       "4                      0                              0        -0.999742\n",
       "...                  ...                            ...              ...\n",
       "2211                   1                              0        -1.003946\n",
       "2212                   1                              0        -1.004038\n",
       "2213                   1                              0        -1.006887\n",
       "2214                   1                              0        -1.001012\n",
       "2215                   1                              0        -0.967966\n",
       "\n",
       "[2216 rows x 3 columns]"
      ]
     },
     "execution_count": 23,
     "metadata": {},
     "output_type": "execute_result"
    }
   ],
   "source": [
    "predicciones = pd.Series(predicciones, name = \"Prediccion licitacion reparto\")\n",
    "y_pred_conf = pd.Series(confianza_predicciones, name = \"Conf prediccion\")\n",
    "cp = pd.concat([y, predicciones, y_pred_conf], axis = 1)\n",
    "cp\n",
    "# Este dataframe no contiene las predicciones calculadas en el punto optimo de la curva ROC.\n",
    "# Contiene las predicciones calculadas segun el punto por defecto para determinar las predicciones del clasificador."
   ]
  },
  {
   "cell_type": "code",
   "execution_count": 24,
   "id": "a6b5f8c8",
   "metadata": {},
   "outputs": [
    {
     "data": {
      "text/plain": [
       "0       0\n",
       "1       0\n",
       "2       1\n",
       "3       0\n",
       "4       1\n",
       "       ..\n",
       "2211    0\n",
       "2212    0\n",
       "2213    0\n",
       "2214    0\n",
       "2215    1\n",
       "Length: 2216, dtype: int64"
      ]
     },
     "execution_count": 24,
     "metadata": {},
     "output_type": "execute_result"
    }
   ],
   "source": [
    "cp[\"Prediccion licitacion reparto en el punto optimo\"] = 0\n",
    "prediccion_final = cp[\"Prediccion licitacion reparto en el punto optimo\"]\n",
    "prediccion_final = cp.apply(lambda x: 1 if x[\"Conf prediccion\"] >= optimal_threshold else 0, axis=1)\n",
    "prediccion_final"
   ]
  },
  {
   "cell_type": "code",
   "execution_count": 25,
   "id": "573fadc8",
   "metadata": {},
   "outputs": [
    {
     "data": {
      "text/html": [
       "<div>\n",
       "<style scoped>\n",
       "    .dataframe tbody tr th:only-of-type {\n",
       "        vertical-align: middle;\n",
       "    }\n",
       "\n",
       "    .dataframe tbody tr th {\n",
       "        vertical-align: top;\n",
       "    }\n",
       "\n",
       "    .dataframe thead th {\n",
       "        text-align: right;\n",
       "    }\n",
       "</style>\n",
       "<table border=\"1\" class=\"dataframe\">\n",
       "  <thead>\n",
       "    <tr style=\"text-align: right;\">\n",
       "      <th></th>\n",
       "      <th>Licitacion reparto</th>\n",
       "      <th>Conf prediccion</th>\n",
       "      <th>Prediccion licitacion reparto en el punto optimo</th>\n",
       "    </tr>\n",
       "  </thead>\n",
       "  <tbody>\n",
       "    <tr>\n",
       "      <th>0</th>\n",
       "      <td>0</td>\n",
       "      <td>-1.009157</td>\n",
       "      <td>0</td>\n",
       "    </tr>\n",
       "    <tr>\n",
       "      <th>1</th>\n",
       "      <td>0</td>\n",
       "      <td>-1.276787</td>\n",
       "      <td>0</td>\n",
       "    </tr>\n",
       "    <tr>\n",
       "      <th>2</th>\n",
       "      <td>0</td>\n",
       "      <td>-0.991282</td>\n",
       "      <td>1</td>\n",
       "    </tr>\n",
       "    <tr>\n",
       "      <th>3</th>\n",
       "      <td>0</td>\n",
       "      <td>-1.000206</td>\n",
       "      <td>0</td>\n",
       "    </tr>\n",
       "    <tr>\n",
       "      <th>4</th>\n",
       "      <td>0</td>\n",
       "      <td>-0.999742</td>\n",
       "      <td>1</td>\n",
       "    </tr>\n",
       "    <tr>\n",
       "      <th>...</th>\n",
       "      <td>...</td>\n",
       "      <td>...</td>\n",
       "      <td>...</td>\n",
       "    </tr>\n",
       "    <tr>\n",
       "      <th>2211</th>\n",
       "      <td>1</td>\n",
       "      <td>-1.003946</td>\n",
       "      <td>0</td>\n",
       "    </tr>\n",
       "    <tr>\n",
       "      <th>2212</th>\n",
       "      <td>1</td>\n",
       "      <td>-1.004038</td>\n",
       "      <td>0</td>\n",
       "    </tr>\n",
       "    <tr>\n",
       "      <th>2213</th>\n",
       "      <td>1</td>\n",
       "      <td>-1.006887</td>\n",
       "      <td>0</td>\n",
       "    </tr>\n",
       "    <tr>\n",
       "      <th>2214</th>\n",
       "      <td>1</td>\n",
       "      <td>-1.001012</td>\n",
       "      <td>0</td>\n",
       "    </tr>\n",
       "    <tr>\n",
       "      <th>2215</th>\n",
       "      <td>1</td>\n",
       "      <td>-0.967966</td>\n",
       "      <td>1</td>\n",
       "    </tr>\n",
       "  </tbody>\n",
       "</table>\n",
       "<p>2216 rows × 3 columns</p>\n",
       "</div>"
      ],
      "text/plain": [
       "      Licitacion reparto  Conf prediccion  \\\n",
       "0                      0        -1.009157   \n",
       "1                      0        -1.276787   \n",
       "2                      0        -0.991282   \n",
       "3                      0        -1.000206   \n",
       "4                      0        -0.999742   \n",
       "...                  ...              ...   \n",
       "2211                   1        -1.003946   \n",
       "2212                   1        -1.004038   \n",
       "2213                   1        -1.006887   \n",
       "2214                   1        -1.001012   \n",
       "2215                   1        -0.967966   \n",
       "\n",
       "      Prediccion licitacion reparto en el punto optimo  \n",
       "0                                                    0  \n",
       "1                                                    0  \n",
       "2                                                    1  \n",
       "3                                                    0  \n",
       "4                                                    1  \n",
       "...                                                ...  \n",
       "2211                                                 0  \n",
       "2212                                                 0  \n",
       "2213                                                 0  \n",
       "2214                                                 0  \n",
       "2215                                                 1  \n",
       "\n",
       "[2216 rows x 3 columns]"
      ]
     },
     "execution_count": 25,
     "metadata": {},
     "output_type": "execute_result"
    }
   ],
   "source": [
    "cp[\"Prediccion licitacion reparto en el punto optimo\"] = prediccion_final\n",
    "pd.concat([cp, prediccion_final], axis = 1)\n",
    "cp.drop(columns = \"Prediccion licitacion reparto\", axis = 1, inplace = True)\n",
    "cp"
   ]
  },
  {
   "cell_type": "code",
   "execution_count": 26,
   "id": "3798561a",
   "metadata": {},
   "outputs": [
    {
     "data": {
      "text/html": [
       "<div>\n",
       "<style scoped>\n",
       "    .dataframe tbody tr th:only-of-type {\n",
       "        vertical-align: middle;\n",
       "    }\n",
       "\n",
       "    .dataframe tbody tr th {\n",
       "        vertical-align: top;\n",
       "    }\n",
       "\n",
       "    .dataframe thead th {\n",
       "        text-align: right;\n",
       "    }\n",
       "</style>\n",
       "<table border=\"1\" class=\"dataframe\">\n",
       "  <thead>\n",
       "    <tr style=\"text-align: right;\">\n",
       "      <th></th>\n",
       "      <th>Licitacion no reparto</th>\n",
       "      <th>Licitacion reparto</th>\n",
       "    </tr>\n",
       "  </thead>\n",
       "  <tbody>\n",
       "    <tr>\n",
       "      <th>Licitacion no reparto predicho</th>\n",
       "      <td>1470</td>\n",
       "      <td>381</td>\n",
       "    </tr>\n",
       "    <tr>\n",
       "      <th>Licitacion reparto predicho</th>\n",
       "      <td>104</td>\n",
       "      <td>261</td>\n",
       "    </tr>\n",
       "  </tbody>\n",
       "</table>\n",
       "</div>"
      ],
      "text/plain": [
       "                                Licitacion no reparto  Licitacion reparto\n",
       "Licitacion no reparto predicho                   1470                 381\n",
       "Licitacion reparto predicho                       104                 261"
      ]
     },
     "execution_count": 26,
     "metadata": {},
     "output_type": "execute_result"
    }
   ],
   "source": [
    "cm = confusion_matrix(y, cp[\"Prediccion licitacion reparto en el punto optimo\"]) # matriz de confusion\n",
    "cm = pd.DataFrame(cm, columns = nombre_clases, index = nombre_predicciones)\n",
    "cm # esta matriz de confusion esta calculada en el punto optimo de la curva"
   ]
  },
  {
   "cell_type": "code",
   "execution_count": 27,
   "id": "8afa34f8",
   "metadata": {},
   "outputs": [],
   "source": [
    "TP = cm.iloc[1,1]\n",
    "FN = cm.iloc[1,0]\n",
    "FP = cm.iloc[0,1]\n",
    "TN = cm.iloc[0,0]"
   ]
  },
  {
   "cell_type": "code",
   "execution_count": 28,
   "id": "8bb93deb",
   "metadata": {},
   "outputs": [
    {
     "data": {
      "text/plain": [
       "0.7811371841155235"
      ]
     },
     "execution_count": 28,
     "metadata": {},
     "output_type": "execute_result"
    }
   ],
   "source": [
    "Tasa_de_aciertos = (TP + TN) / len(df)\n",
    "Tasa_de_aciertos"
   ]
  },
  {
   "cell_type": "code",
   "execution_count": 29,
   "id": "a4018ce3",
   "metadata": {},
   "outputs": [
    {
     "data": {
      "text/plain": [
       "0.21886281588447654"
      ]
     },
     "execution_count": 29,
     "metadata": {},
     "output_type": "execute_result"
    }
   ],
   "source": [
    "Tasa_de_errores = 1 - Tasa_de_aciertos\n",
    "Tasa_de_errores"
   ]
  },
  {
   "cell_type": "code",
   "execution_count": 30,
   "id": "6dbd07ff",
   "metadata": {},
   "outputs": [
    {
     "data": {
      "text/plain": [
       "0.7150684931506849"
      ]
     },
     "execution_count": 30,
     "metadata": {},
     "output_type": "execute_result"
    }
   ],
   "source": [
    "Sensibilidad = TP / (TP + FN)\n",
    "Sensibilidad # se calculo antes. Es optimal_tpr"
   ]
  },
  {
   "cell_type": "code",
   "execution_count": 31,
   "id": "00db5dc5",
   "metadata": {},
   "outputs": [
    {
     "data": {
      "text/plain": [
       "0.2849315068493151"
      ]
     },
     "execution_count": 31,
     "metadata": {},
     "output_type": "execute_result"
    }
   ],
   "source": [
    "Tasa_de_falsos_negativos = 1 - Sensibilidad\n",
    "Tasa_de_falsos_negativos"
   ]
  },
  {
   "cell_type": "code",
   "execution_count": 32,
   "id": "9d936f06",
   "metadata": {},
   "outputs": [
    {
     "data": {
      "text/plain": [
       "0.7941653160453809"
      ]
     },
     "execution_count": 32,
     "metadata": {},
     "output_type": "execute_result"
    }
   ],
   "source": [
    "Especificidad = TN / (FP + TN)\n",
    "Especificidad # se calculo antes. Es optimal_fpr = 1 - Especificidad "
   ]
  },
  {
   "cell_type": "code",
   "execution_count": 33,
   "id": "010bf09a",
   "metadata": {},
   "outputs": [
    {
     "data": {
      "text/plain": [
       "0.40654205607476634"
      ]
     },
     "execution_count": 33,
     "metadata": {},
     "output_type": "execute_result"
    }
   ],
   "source": [
    "Precision = TP / (TP + FP)\n",
    "Precision"
   ]
  },
  {
   "cell_type": "code",
   "execution_count": 34,
   "id": "2015d6b2",
   "metadata": {
    "scrolled": true
   },
   "outputs": [
    {
     "data": {
      "text/plain": [
       "0.5934579439252337"
      ]
     },
     "execution_count": 34,
     "metadata": {},
     "output_type": "execute_result"
    }
   ],
   "source": [
    "FP / (FP + TP) # 1 - Precision"
   ]
  },
  {
   "cell_type": "code",
   "execution_count": 35,
   "id": "9ac08a94",
   "metadata": {},
   "outputs": [
    {
     "data": {
      "text/plain": [
       "0.5183714001986097"
      ]
     },
     "execution_count": 35,
     "metadata": {},
     "output_type": "execute_result"
    }
   ],
   "source": [
    "F1 = (2 * Sensibilidad * Precision) / (Sensibilidad + Precision)\n",
    "F1"
   ]
  },
  {
   "cell_type": "markdown",
   "id": "1a41aab6",
   "metadata": {},
   "source": [
    "# Métricas de clasificación binaria en el punto óptimo"
   ]
  },
  {
   "cell_type": "code",
   "execution_count": 36,
   "id": "006433b0",
   "metadata": {},
   "outputs": [],
   "source": [
    "nombre_fichero = \"Clasificacion binaria svm\""
   ]
  },
  {
   "cell_type": "code",
   "execution_count": 37,
   "id": "6509a2a9",
   "metadata": {},
   "outputs": [
    {
     "data": {
      "text/html": [
       "<div>\n",
       "<style scoped>\n",
       "    .dataframe tbody tr th:only-of-type {\n",
       "        vertical-align: middle;\n",
       "    }\n",
       "\n",
       "    .dataframe tbody tr th {\n",
       "        vertical-align: top;\n",
       "    }\n",
       "\n",
       "    .dataframe thead th {\n",
       "        text-align: right;\n",
       "    }\n",
       "</style>\n",
       "<table border=\"1\" class=\"dataframe\">\n",
       "  <thead>\n",
       "    <tr style=\"text-align: right;\">\n",
       "      <th></th>\n",
       "      <th>Clasificacion binaria svm</th>\n",
       "    </tr>\n",
       "  </thead>\n",
       "  <tbody>\n",
       "    <tr>\n",
       "      <th>Tasa de aciertos</th>\n",
       "      <td>0.781137</td>\n",
       "    </tr>\n",
       "    <tr>\n",
       "      <th>Sensibilidad</th>\n",
       "      <td>0.715068</td>\n",
       "    </tr>\n",
       "    <tr>\n",
       "      <th>Especificidad</th>\n",
       "      <td>0.794165</td>\n",
       "    </tr>\n",
       "    <tr>\n",
       "      <th>Precision</th>\n",
       "      <td>0.406542</td>\n",
       "    </tr>\n",
       "    <tr>\n",
       "      <th>F1</th>\n",
       "      <td>0.518371</td>\n",
       "    </tr>\n",
       "  </tbody>\n",
       "</table>\n",
       "</div>"
      ],
      "text/plain": [
       "                  Clasificacion binaria svm\n",
       "Tasa de aciertos                   0.781137\n",
       "Sensibilidad                       0.715068\n",
       "Especificidad                      0.794165\n",
       "Precision                          0.406542\n",
       "F1                                 0.518371"
      ]
     },
     "execution_count": 37,
     "metadata": {},
     "output_type": "execute_result"
    }
   ],
   "source": [
    "indice_resultados = [\"Tasa de aciertos\", \"Sensibilidad\", \"Especificidad\", \"Precision\", \"F1\"]\n",
    "resultados_valores = [Tasa_de_aciertos, Sensibilidad, Especificidad, Precision, F1]\n",
    "\n",
    "resultados = pd.DataFrame(data={f\"{nombre_fichero}\": resultados_valores},\n",
    "                          index=indice_resultados)\n",
    "resultados"
   ]
  },
  {
   "cell_type": "markdown",
   "id": "73673649",
   "metadata": {},
   "source": [
    "## Se exportan los datos"
   ]
  },
  {
   "cell_type": "code",
   "execution_count": 38,
   "id": "0058247b",
   "metadata": {},
   "outputs": [],
   "source": [
    "nombre_columna = list(resultados.columns)[0]\n",
    "resultados.to_excel(f\"Resultados de las métricas de {nombre_fichero}.xlsx\")"
   ]
  },
  {
   "cell_type": "markdown",
   "id": "afd136e7",
   "metadata": {},
   "source": [
    "# CURVA PR. El punto óptimo es = (precision = 1, recall = 1)"
   ]
  },
  {
   "cell_type": "code",
   "execution_count": 39,
   "id": "1473f753",
   "metadata": {},
   "outputs": [
    {
     "data": {
      "text/plain": [
       "0.4906662461069725"
      ]
     },
     "execution_count": 39,
     "metadata": {},
     "output_type": "execute_result"
    }
   ],
   "source": [
    "average_precision = average_precision_score(y, confianza_predicciones)\n",
    "average_precision"
   ]
  },
  {
   "cell_type": "code",
   "execution_count": 40,
   "id": "d7c46587",
   "metadata": {},
   "outputs": [],
   "source": [
    "precision, recall, thresholds = precision_recall_curve(y, confianza_predicciones)\n",
    "#precision = TP / (TP + FP)\n",
    "#recall = sensibilidad = TP / (TP + FN)"
   ]
  },
  {
   "cell_type": "code",
   "execution_count": 41,
   "id": "db3504ef",
   "metadata": {},
   "outputs": [
    {
     "data": {
      "text/plain": [
       "-0.9929994188854695"
      ]
     },
     "execution_count": 41,
     "metadata": {},
     "output_type": "execute_result"
    }
   ],
   "source": [
    "distances = np.linalg.norm(np.column_stack((precision, recall)) - np.array([1, 1]), axis=1)\n",
    "optimal_threshold_index = np.argmin(distances)\n",
    "optimal_threshold = thresholds[optimal_threshold_index]\n",
    "optimal_threshold"
   ]
  },
  {
   "cell_type": "code",
   "execution_count": 42,
   "id": "439d07d1",
   "metadata": {},
   "outputs": [
    {
     "data": {
      "text/plain": [
       "0.5432692307692307"
      ]
     },
     "execution_count": 42,
     "metadata": {},
     "output_type": "execute_result"
    }
   ],
   "source": [
    "optimal_precision = precision[optimal_threshold_index]\n",
    "optimal_precision"
   ]
  },
  {
   "cell_type": "code",
   "execution_count": 43,
   "id": "f3ec8954",
   "metadata": {},
   "outputs": [
    {
     "data": {
      "text/plain": [
       "0.6191780821917808"
      ]
     },
     "execution_count": 43,
     "metadata": {},
     "output_type": "execute_result"
    }
   ],
   "source": [
    "optimal_recall = recall[optimal_threshold_index]\n",
    "optimal_recall"
   ]
  },
  {
   "cell_type": "code",
   "execution_count": 44,
   "id": "ae3208c9",
   "metadata": {
    "scrolled": false
   },
   "outputs": [
    {
     "data": {
      "image/png": "[encoded data removed]",
      "text/plain": [
       "<Figure size 640x480 with 1 Axes>"
      ]
     },
     "metadata": {},
     "output_type": "display_data"
    }
   ],
   "source": [
    "plt.plot(recall, precision, label = f'APS Score = {average_precision:.4}')\n",
    "plt.plot(optimal_recall, optimal_precision, 'ro')\n",
    "plt.annotate(f'      Threshold\\n óptimo = {optimal_threshold:.2}',\n",
    "             xy=(optimal_recall, optimal_precision), xycoords='data',\n",
    "             xytext=(-30, +60) ,textcoords='offset points', fontsize=10,\n",
    "             arrowprops=dict(arrowstyle=\"->\", connectionstyle = \"arc3, rad = .2\"))\n",
    "plt.ylabel('Precision')\n",
    "plt.xlabel('Recall')\n",
    "plt.title('PR Curve')\n",
    "plt.legend(loc = 'upper left')\n",
    "plt.ylim(0, 1.01)\n",
    "plt.show()"
   ]
  },
  {
   "cell_type": "markdown",
   "id": "63c16d4e",
   "metadata": {},
   "source": [
    "# Se calcula cuanto tiempo ha transcurrido en la ejecucion de todo el notebook y se guarda el tiempo en un fichero de texto para almacenarlo."
   ]
  },
  {
   "cell_type": "code",
   "execution_count": 45,
   "id": "cbd2e910",
   "metadata": {},
   "outputs": [],
   "source": [
    "fin = time.time()\n",
    "tiempo_transcurrido = fin - inicio\n",
    "minutos = int((tiempo_transcurrido % 3600) // 60)\n",
    "segundos = int(tiempo_transcurrido % 60)\n",
    "with open(f\"Tiempo de ejecucion transcurrido en el notebook {nombre_fichero}.txt\", \"w\") as f :\n",
    "    f.write(f\"Tiempo transcurrido: {minutos} minutos, {segundos} segundos\")"
   ]
  },
  {
   "cell_type": "code",
   "execution_count": 46,
   "id": "a7ad19ea",
   "metadata": {},
   "outputs": [
    {
     "name": "stdout",
     "output_type": "stream",
     "text": [
      "Tiempo transcurrido: 3 minutos, 58 segundos\n"
     ]
    }
   ],
   "source": [
    "print(f\"Tiempo transcurrido: {minutos} minutos, {segundos} segundos\")"
   ]
  }
 ],
 "metadata": {
  "kernelspec": {
   "display_name": "Python 3 (ipykernel)",
   "language": "python",
   "name": "python3"
  },
  "language_info": {
   "codemirror_mode": {
    "name": "ipython",
    "version": 3
   },
   "file_extension": ".py",
   "mimetype": "text/x-python",
   "name": "python",
   "nbconvert_exporter": "python",
   "pygments_lexer": "ipython3",
   "version": "3.9.13"
  }
 },
 "nbformat": 4,
 "nbformat_minor": 5
}
